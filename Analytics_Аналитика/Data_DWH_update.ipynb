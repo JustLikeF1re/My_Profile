{
 "cells": [
  {
   "cell_type": "code",
   "execution_count": 1,
   "id": "6c3643c0-7730-49ed-9963-8b5d7856a8d8",
   "metadata": {
    "tags": []
   },
   "outputs": [],
   "source": [
    "### --- Импорт библиотек ---\n",
    "\n",
    "# === Стандартная библиотека ===\n",
    "import sys\n",
    "import math\n",
    "from io import StringIO, BytesIO\n",
    "from datetime import datetime\n",
    "from dateutil.relativedelta import relativedelta\n",
    "\n",
    "# === Аналитика и обработка данных ===\n",
    "import numpy as np\n",
    "import pandas as pd\n",
    "\n",
    "# === Визуализация ===\n",
    "import matplotlib.pyplot as plt\n",
    "import seaborn as sns\n",
    "from IPython.display import Image\n",
    "\n",
    "# === Прогресс-бары ===\n",
    "from tqdm import tqdm\n",
    "\n",
    "# === Работа с файлами ===\n",
    "# from openpyxl import load_workbook\n",
    "from pyxlsb import open_workbook\n",
    "\n",
    "# === Работа с базами данных ===\n",
    "from clickhouse_driver import dbapi\n",
    "from simplech import ClickHouse\n",
    "# import psycopg2  # если используешь PostgreSQL\n",
    "\n",
    "# === Работа с API и интеграции ===\n",
    "import telebot\n",
    "\n",
    "# === Google API ===\n",
    "import gspread as gs\n",
    "from gspread.client import ExportFormat\n",
    "from google.oauth2 import service_account\n",
    "from googleapiclient.discovery import build\n",
    "\n",
    "# === Пользовательские функции ===\n",
    "# from functions_dwh import (\n",
    "#     ch_query_DWH2,\n",
    "#     ch_query_mp,\n",
    "#     pg_query_mostbetcom,\n",
    "#     write_data\n",
    "# )"
   ]
  },
  {
   "cell_type": "code",
   "execution_count": 2,
   "id": "433ede53-827f-4252-b2e5-24eaccdf1bf7",
   "metadata": {
    "tags": []
   },
   "outputs": [],
   "source": [
    "# Ячейка если необходимо доустановить какие-то библиотеки\n",
    "# pip install gspread"
   ]
  },
  {
   "cell_type": "code",
   "execution_count": 3,
   "id": "70a8889b-f55f-422d-a115-08cd0b4290e1",
   "metadata": {
    "tags": []
   },
   "outputs": [],
   "source": [
    "# подставить - Нужную дату !!!!\n",
    "\n",
    "start_date = pd.to_datetime('2025-06-19') # Год месяц день"
   ]
  },
  {
   "cell_type": "code",
   "execution_count": 4,
   "id": "88c052a1-15f0-4155-8b32-a1f958171bb4",
   "metadata": {},
   "outputs": [],
   "source": [
    "# Устанавливаем опцию для отображения до 100 строк\n",
    "pd.set_option('display.max_rows', 100)\n",
    "\n",
    "# Устанавливаем опцию для отображения до 100 колонок\n",
    "pd.set_option('display.max_columns', 100)"
   ]
  },
  {
   "cell_type": "code",
   "execution_count": 5,
   "id": "173093cf-93af-43c5-b7b6-c256cb819d97",
   "metadata": {},
   "outputs": [],
   "source": [
    "### Настраиваем соединение с БД\n",
    "creds = pd.read_excel('Data_base.xlsx', index_col=0)\n",
    "\n",
    "db_connection = ClickHouse(host='data.base.example', port='8123',\n",
    "                     user=creds.loc['data.base.example', 'user'],\n",
    "                     password=creds.loc['data.base.example', 'password'])\n",
    "\n",
    "def ch_query_DWH2(query, index=None):\n",
    "    query += ' FORMAT CSVWithNames'\n",
    "    result = db_connection.select(query)\n",
    "    df = pd.read_csv(StringIO(result), low_memory=False)\n",
    "    if index:\n",
    "        df.set_index(index, inplace=True)\n",
    "    return df"
   ]
  },
  {
   "cell_type": "markdown",
   "id": "5e09c7d2-3022-44e8-a15d-2e76709df393",
   "metadata": {},
   "source": [
    "# Start:"
   ]
  },
  {
   "cell_type": "code",
   "execution_count": 6,
   "id": "15bc96a3-2770-4bc5-947e-24dbeaa2da1b",
   "metadata": {},
   "outputs": [],
   "source": [
    "# список партнеров продукта\n",
    "black_list_payback_DWH_data = ch_query_DWH2(f\"\"\"\n",
    "    SELECT *\n",
    "    FROM reports.black_list_payback\n",
    "\"\"\")"
   ]
  },
  {
   "cell_type": "code",
   "execution_count": 7,
   "id": "6689399b-887a-4d93-952f-21b14c73cb20",
   "metadata": {},
   "outputs": [
    {
     "data": {
      "text/plain": [
       "3034"
      ]
     },
     "execution_count": 7,
     "metadata": {},
     "output_type": "execute_result"
    }
   ],
   "source": [
    "black_list_payback_DWH_data.shape[0]"
   ]
  },
  {
   "cell_type": "markdown",
   "id": "95e9004d-2d5d-4cc7-9b40-ac538666d611",
   "metadata": {},
   "source": [
    "# Перестраховка перед манипуляциями в скрипте, сохраняем первоначальный валинор!!"
   ]
  },
  {
   "cell_type": "code",
   "execution_count": 8,
   "id": "5e527ca5-7ca6-4bbd-a3b7-0897b27e65f2",
   "metadata": {},
   "outputs": [],
   "source": [
    "black_list_payback_DWH_data.to_excel('blp_ПЕРВОНАЧАЛЬНЫЙ_ПЕРЕСТРАХОВКА.xlsx', index=False)"
   ]
  },
  {
   "cell_type": "markdown",
   "id": "20c5e59f-f833-483f-afc2-b4965928393b",
   "metadata": {},
   "source": [
    "# Конец и продолжение"
   ]
  },
  {
   "cell_type": "code",
   "execution_count": 9,
   "id": "b8730801-bf66-42bd-aa57-601f71ede729",
   "metadata": {},
   "outputs": [],
   "source": [
    "fresh_webs_to_block_list = pd.read_excel('Блок_2.xlsx', dtype={'sub': 'str'})"
   ]
  },
  {
   "cell_type": "code",
   "execution_count": 10,
   "id": "3050de6a-0311-4048-b267-22ff8ea312a1",
   "metadata": {},
   "outputs": [],
   "source": [
    "# Замена пропусков в определенных колонках\n",
    "columns_to_replace = ['sub', 'sub_type']\n",
    "black_list_payback_DWH_data[columns_to_replace] = black_list_payback_DWH_data[columns_to_replace].fillna(\"\")\n",
    "fresh_webs_to_block_list[columns_to_replace] = fresh_webs_to_block_list[columns_to_replace].fillna(\"\")"
   ]
  },
  {
   "cell_type": "code",
   "execution_count": 11,
   "id": "5f7d4a68-5b1d-4ac0-9b02-c04417bf4cec",
   "metadata": {},
   "outputs": [],
   "source": [
    "# Указание новых названий колонок\n",
    "columns = list(black_list_payback_DWH_data.columns)\n",
    "\n",
    "# Создание DataFrame с указанными колонками\n",
    "# Установка новых названий колонок\n",
    "fresh_webs_to_block_list.columns = columns"
   ]
  },
  {
   "cell_type": "code",
   "execution_count": 12,
   "id": "483c14ed-1cf2-4f23-859e-7d4045bf2f97",
   "metadata": {},
   "outputs": [],
   "source": [
    "#### указываем актуальный тип данных для БД\n",
    "\n",
    "fresh_webs_to_block_list = fresh_webs_to_block_list.astype({\n",
    "    'project': 'str',\n",
    "    'type': 'str',\n",
    "    'geo': 'str',\n",
    "    'pid': 'int64',\n",
    "    'sub': 'str',\n",
    "    'sub_type': 'str',\n",
    "    'block_flg': 'int64',\n",
    "    'blocked_date': 'datetime64[ns]',\n",
    "    'block_desc': 'str'\n",
    "})\n",
    "\n",
    "black_list_payback_DWH_data = black_list_payback_DWH_data.astype({\n",
    "    'project': 'str',\n",
    "    'type': 'str',\n",
    "    'geo': 'str',\n",
    "    'pid': 'int64',\n",
    "    'sub': 'str',\n",
    "    'sub_type': 'str',\n",
    "    'block_flg': 'int64',\n",
    "    'blocked_date': 'datetime64[ns]',\n",
    "    'block_desc': 'str'\n",
    "})"
   ]
  },
  {
   "cell_type": "code",
   "execution_count": 13,
   "id": "1d0c8db3-6f39-43ad-a381-f7937d536679",
   "metadata": {},
   "outputs": [
    {
     "data": {
      "text/html": [
       "<div>\n",
       "<style scoped>\n",
       "    .dataframe tbody tr th:only-of-type {\n",
       "        vertical-align: middle;\n",
       "    }\n",
       "\n",
       "    .dataframe tbody tr th {\n",
       "        vertical-align: top;\n",
       "    }\n",
       "\n",
       "    .dataframe thead th {\n",
       "        text-align: right;\n",
       "    }\n",
       "</style>\n",
       "<table border=\"1\" class=\"dataframe\">\n",
       "  <thead>\n",
       "    <tr style=\"text-align: right;\">\n",
       "      <th></th>\n",
       "      <th>project</th>\n",
       "      <th>type</th>\n",
       "      <th>geo</th>\n",
       "      <th>pid</th>\n",
       "      <th>sub</th>\n",
       "      <th>sub_type</th>\n",
       "      <th>block_flg</th>\n",
       "      <th>blocked_date</th>\n",
       "      <th>block_desc</th>\n",
       "    </tr>\n",
       "  </thead>\n",
       "  <tbody>\n",
       "    <tr>\n",
       "      <th>0</th>\n",
       "      <td>mb</td>\n",
       "      <td>perform</td>\n",
       "      <td>AZ</td>\n",
       "      <td>49660</td>\n",
       "      <td>ferid_abdullayev</td>\n",
       "      <td>sub3</td>\n",
       "      <td>4</td>\n",
       "      <td>1980-01-01</td>\n",
       "      <td>Скам!</td>\n",
       "    </tr>\n",
       "  </tbody>\n",
       "</table>\n",
       "</div>"
      ],
      "text/plain": [
       "  project     type geo    pid               sub sub_type  block_flg  \\\n",
       "0      mb  perform  AZ  49660  ferid_abdullayev     sub3          4   \n",
       "\n",
       "  blocked_date block_desc  \n",
       "0   1980-01-01      Скам!  "
      ]
     },
     "execution_count": 13,
     "metadata": {},
     "output_type": "execute_result"
    }
   ],
   "source": [
    "### base \n",
    "black_list_payback_DWH_data.head(1)"
   ]
  },
  {
   "cell_type": "code",
   "execution_count": 14,
   "id": "b267784f-84f1-4da2-b499-e125e49bc6ce",
   "metadata": {},
   "outputs": [
    {
     "data": {
      "text/plain": [
       "3034"
      ]
     },
     "execution_count": 14,
     "metadata": {},
     "output_type": "execute_result"
    }
   ],
   "source": [
    "black_list_payback_DWH_data.shape[0]"
   ]
  },
  {
   "cell_type": "code",
   "execution_count": 15,
   "id": "64c8fb23-13fa-438a-8cc2-c7c7f6d8fdaa",
   "metadata": {},
   "outputs": [
    {
     "data": {
      "text/html": [
       "<div>\n",
       "<style scoped>\n",
       "    .dataframe tbody tr th:only-of-type {\n",
       "        vertical-align: middle;\n",
       "    }\n",
       "\n",
       "    .dataframe tbody tr th {\n",
       "        vertical-align: top;\n",
       "    }\n",
       "\n",
       "    .dataframe thead th {\n",
       "        text-align: right;\n",
       "    }\n",
       "</style>\n",
       "<table border=\"1\" class=\"dataframe\">\n",
       "  <thead>\n",
       "    <tr style=\"text-align: right;\">\n",
       "      <th></th>\n",
       "      <th>project</th>\n",
       "      <th>type</th>\n",
       "      <th>geo</th>\n",
       "      <th>pid</th>\n",
       "      <th>sub</th>\n",
       "      <th>sub_type</th>\n",
       "      <th>block_flg</th>\n",
       "      <th>blocked_date</th>\n",
       "      <th>block_desc</th>\n",
       "    </tr>\n",
       "  </thead>\n",
       "  <tbody>\n",
       "    <tr>\n",
       "      <th>0</th>\n",
       "      <td>mb</td>\n",
       "      <td>perform</td>\n",
       "      <td>RU</td>\n",
       "      <td>347114</td>\n",
       "      <td>a627</td>\n",
       "      <td>sub2</td>\n",
       "      <td>1</td>\n",
       "      <td>2025-06-18</td>\n",
       "      <td>Медиабаинг: Трафик остановлен</td>\n",
       "    </tr>\n",
       "  </tbody>\n",
       "</table>\n",
       "</div>"
      ],
      "text/plain": [
       "  project     type geo     pid   sub sub_type  block_flg blocked_date  \\\n",
       "0      mb  perform  RU  347114  a627     sub2          1   2025-06-18   \n",
       "\n",
       "                      block_desc  \n",
       "0  Медиабаинг: Трафик остановлен  "
      ]
     },
     "execution_count": 15,
     "metadata": {},
     "output_type": "execute_result"
    }
   ],
   "source": [
    "### new\n",
    "fresh_webs_to_block_list.head(1)"
   ]
  },
  {
   "cell_type": "markdown",
   "id": "ac31e3f1-c145-4ce4-b3b0-f4b3c29f297d",
   "metadata": {},
   "source": [
    "# 1 Объединим два датасета в один:"
   ]
  },
  {
   "cell_type": "code",
   "execution_count": 16,
   "id": "5f079a94-6179-4b5a-9e7b-735bf352a967",
   "metadata": {},
   "outputs": [],
   "source": [
    "# Объединяем DataFrame по строкам\n",
    "concat_data_payback = pd.concat([black_list_payback_DWH_data, \n",
    "                                 fresh_webs_to_block_list], \n",
    "                                ignore_index=True)\n",
    "\n",
    "# просто проверка\n",
    "assert concat_data_payback.isna().sum().sum() == 0\n",
    "assert (\n",
    "        black_list_payback_DWH_data.shape[0] \n",
    "    + \n",
    "        fresh_webs_to_block_list.shape[0] \n",
    "    == \n",
    "        concat_data_payback.shape[0]\n",
    "       )"
   ]
  },
  {
   "cell_type": "code",
   "execution_count": 17,
   "id": "7002354a-2274-4afa-b2c4-87e526495d53",
   "metadata": {},
   "outputs": [
    {
     "data": {
      "text/plain": [
       "3047"
      ]
     },
     "execution_count": 17,
     "metadata": {},
     "output_type": "execute_result"
    }
   ],
   "source": [
    "for_check = concat_data_payback.shape[0]\n",
    "concat_data_payback.shape[0]"
   ]
  },
  {
   "cell_type": "code",
   "execution_count": 18,
   "id": "62fe001f-fff8-4f5d-b9d8-3b9e52687515",
   "metadata": {},
   "outputs": [],
   "source": [
    "true_columns_list = list(concat_data_payback.columns)"
   ]
  },
  {
   "cell_type": "code",
   "execution_count": 19,
   "id": "c851ce23-8294-45d3-82ff-e176fb7a6dd9",
   "metadata": {},
   "outputs": [],
   "source": [
    "concat_data_payback = concat_data_payback.drop(columns=['sub_type'])"
   ]
  },
  {
   "cell_type": "code",
   "execution_count": 20,
   "id": "91280512-eaf2-4034-8e51-f43e76d070d5",
   "metadata": {},
   "outputs": [],
   "source": [
    "# Убираем временно всех, кто не прошел тесты\n",
    "concat_data_payback = (\n",
    "                        concat_data_payback[concat_data_payback['block_desc'] \n",
    "                    != \n",
    "                        'Не успешная тестовая закупка']\n",
    "                    .reset_index(drop=True)\n",
    "                      )"
   ]
  },
  {
   "cell_type": "markdown",
   "id": "7371f966-b42d-407c-96cd-27b7d608b17a",
   "metadata": {},
   "source": [
    "# Подгружаем источники не прошедшие тесты"
   ]
  },
  {
   "cell_type": "code",
   "execution_count": 21,
   "id": "6657ca2a-7fae-4132-a95d-c6a56ed0d5e5",
   "metadata": {},
   "outputs": [],
   "source": [
    "# список партнеров продукта\n",
    "stopped_test_partners = ch_query_DWH2(f\"\"\"\n",
    "SELECT \n",
    "        added_dt AS blocked_date, \n",
    "        partner_id AS pid, \n",
    "        in_model_sub_id AS sub\n",
    "    FROM sandbox_analytical_projects.stopped_test_partners\n",
    "    WHERE recommendation == 'Прекратить тест'\n",
    "\"\"\")"
   ]
  },
  {
   "cell_type": "code",
   "execution_count": 22,
   "id": "e2a28e8b-6cb8-48cf-a0d6-af0308d3fd99",
   "metadata": {},
   "outputs": [],
   "source": [
    "stopped_test_partners['sub'] = stopped_test_partners['sub'].fillna('')"
   ]
  },
  {
   "cell_type": "code",
   "execution_count": 23,
   "id": "77b702d4-1b46-4ad3-9385-8a1cbf3ab218",
   "metadata": {},
   "outputs": [],
   "source": [
    "assert stopped_test_partners.isna().sum().sum() == 0"
   ]
  },
  {
   "cell_type": "code",
   "execution_count": 24,
   "id": "1bb820ca-cea5-402e-8d91-5298eb9920ee",
   "metadata": {},
   "outputs": [],
   "source": [
    "stopped_test_partners['block_flg'] = 1"
   ]
  },
  {
   "cell_type": "code",
   "execution_count": 25,
   "id": "e80445bf-b6c6-43a1-93d8-0c9d1881b80f",
   "metadata": {},
   "outputs": [],
   "source": [
    "stopped_test_partners['block_desc'] = 'Не успешная тестовая закупка'"
   ]
  },
  {
   "cell_type": "code",
   "execution_count": 26,
   "id": "70ca94eb-d661-4a27-80ff-196e3b9020c0",
   "metadata": {},
   "outputs": [
    {
     "data": {
      "text/html": [
       "<div>\n",
       "<style scoped>\n",
       "    .dataframe tbody tr th:only-of-type {\n",
       "        vertical-align: middle;\n",
       "    }\n",
       "\n",
       "    .dataframe tbody tr th {\n",
       "        vertical-align: top;\n",
       "    }\n",
       "\n",
       "    .dataframe thead th {\n",
       "        text-align: right;\n",
       "    }\n",
       "</style>\n",
       "<table border=\"1\" class=\"dataframe\">\n",
       "  <thead>\n",
       "    <tr style=\"text-align: right;\">\n",
       "      <th></th>\n",
       "      <th>blocked_date</th>\n",
       "      <th>pid</th>\n",
       "      <th>sub</th>\n",
       "      <th>block_flg</th>\n",
       "      <th>block_desc</th>\n",
       "    </tr>\n",
       "  </thead>\n",
       "  <tbody>\n",
       "    <tr>\n",
       "      <th>0</th>\n",
       "      <td>2025-06-13 17:09:37</td>\n",
       "      <td>49706</td>\n",
       "      <td>arabasevdalilari.tr</td>\n",
       "      <td>1</td>\n",
       "      <td>Не успешная тестовая закупка</td>\n",
       "    </tr>\n",
       "    <tr>\n",
       "      <th>1</th>\n",
       "      <td>2025-06-13 17:09:37</td>\n",
       "      <td>49706</td>\n",
       "      <td>brawlstarseditsturkiye</td>\n",
       "      <td>1</td>\n",
       "      <td>Не успешная тестовая закупка</td>\n",
       "    </tr>\n",
       "    <tr>\n",
       "      <th>2</th>\n",
       "      <td>2025-06-13 17:09:37</td>\n",
       "      <td>49706</td>\n",
       "      <td>corba.tarifciniz</td>\n",
       "      <td>1</td>\n",
       "      <td>Не успешная тестовая закупка</td>\n",
       "    </tr>\n",
       "    <tr>\n",
       "      <th>3</th>\n",
       "      <td>2025-06-13 17:09:37</td>\n",
       "      <td>49706</td>\n",
       "      <td>kartal.reyiz</td>\n",
       "      <td>1</td>\n",
       "      <td>Не успешная тестовая закупка</td>\n",
       "    </tr>\n",
       "    <tr>\n",
       "      <th>4</th>\n",
       "      <td>2025-06-13 17:09:37</td>\n",
       "      <td>364890</td>\n",
       "      <td>konserdozu</td>\n",
       "      <td>1</td>\n",
       "      <td>Не успешная тестовая закупка</td>\n",
       "    </tr>\n",
       "  </tbody>\n",
       "</table>\n",
       "</div>"
      ],
      "text/plain": [
       "          blocked_date     pid                     sub  block_flg  \\\n",
       "0  2025-06-13 17:09:37   49706     arabasevdalilari.tr          1   \n",
       "1  2025-06-13 17:09:37   49706  brawlstarseditsturkiye          1   \n",
       "2  2025-06-13 17:09:37   49706        corba.tarifciniz          1   \n",
       "3  2025-06-13 17:09:37   49706            kartal.reyiz          1   \n",
       "4  2025-06-13 17:09:37  364890              konserdozu          1   \n",
       "\n",
       "                     block_desc  \n",
       "0  Не успешная тестовая закупка  \n",
       "1  Не успешная тестовая закупка  \n",
       "2  Не успешная тестовая закупка  \n",
       "3  Не успешная тестовая закупка  \n",
       "4  Не успешная тестовая закупка  "
      ]
     },
     "execution_count": 26,
     "metadata": {},
     "output_type": "execute_result"
    }
   ],
   "source": [
    "stopped_test_partners.head()"
   ]
  },
  {
   "cell_type": "code",
   "execution_count": 27,
   "id": "c2783eda-fd79-4dd6-963b-788166a26cee",
   "metadata": {},
   "outputs": [],
   "source": [
    "assert stopped_test_partners.shape[0] != 0"
   ]
  },
  {
   "cell_type": "code",
   "execution_count": 28,
   "id": "9e9c0af8-cc6c-42f3-a5d3-2a121f4b56f9",
   "metadata": {},
   "outputs": [
    {
     "data": {
      "text/html": [
       "<div>\n",
       "<style scoped>\n",
       "    .dataframe tbody tr th:only-of-type {\n",
       "        vertical-align: middle;\n",
       "    }\n",
       "\n",
       "    .dataframe tbody tr th {\n",
       "        vertical-align: top;\n",
       "    }\n",
       "\n",
       "    .dataframe thead th {\n",
       "        text-align: right;\n",
       "    }\n",
       "</style>\n",
       "<table border=\"1\" class=\"dataframe\">\n",
       "  <thead>\n",
       "    <tr style=\"text-align: right;\">\n",
       "      <th></th>\n",
       "      <th>project</th>\n",
       "      <th>type</th>\n",
       "      <th>geo</th>\n",
       "      <th>pid</th>\n",
       "      <th>sub</th>\n",
       "      <th>block_flg</th>\n",
       "      <th>blocked_date</th>\n",
       "      <th>block_desc</th>\n",
       "    </tr>\n",
       "  </thead>\n",
       "  <tbody>\n",
       "    <tr>\n",
       "      <th>1382</th>\n",
       "      <td>mb</td>\n",
       "      <td>perform</td>\n",
       "      <td>KZ</td>\n",
       "      <td>126898</td>\n",
       "      <td>richads - push</td>\n",
       "      <td>2</td>\n",
       "      <td>2025-06-19</td>\n",
       "      <td>limit: 1600; речек 02.07.2025</td>\n",
       "    </tr>\n",
       "  </tbody>\n",
       "</table>\n",
       "</div>"
      ],
      "text/plain": [
       "     project     type geo     pid             sub  block_flg blocked_date  \\\n",
       "1382      mb  perform  KZ  126898  richads - push          2   2025-06-19   \n",
       "\n",
       "                         block_desc  \n",
       "1382  limit: 1600; речек 02.07.2025  "
      ]
     },
     "execution_count": 28,
     "metadata": {},
     "output_type": "execute_result"
    }
   ],
   "source": [
    "concat_data_payback.tail(1)"
   ]
  },
  {
   "cell_type": "markdown",
   "id": "486802b7-5a36-4166-944a-5070dac2c89f",
   "metadata": {},
   "source": [
    "# Берем Тип саба из справочника"
   ]
  },
  {
   "cell_type": "code",
   "execution_count": 29,
   "id": "dc19f5fd-41b1-45ae-9bff-28cd353e7db1",
   "metadata": {},
   "outputs": [],
   "source": [
    "# список партнеров продукта\n",
    "mediabuying_info____ = ch_query_DWH2(f\"\"\"\n",
    "SELECT \n",
    "        site, \n",
    "        partner_id AS pid, \n",
    "        sub_type, \n",
    "        `type`, \n",
    "        geo\n",
    "    FROM reports.mediabuying_info \n",
    "    WHERE business_unit = 'Acq'\n",
    "\"\"\")"
   ]
  },
  {
   "cell_type": "code",
   "execution_count": 30,
   "id": "93009b9d-aadb-4816-8882-8b689d282624",
   "metadata": {},
   "outputs": [],
   "source": [
    "mediabuying_info____['sub_type'] = mediabuying_info____['sub_type'].fillna('')"
   ]
  },
  {
   "cell_type": "code",
   "execution_count": 32,
   "id": "bacf59a6-2b6d-4913-8127-5dedc95b25af",
   "metadata": {},
   "outputs": [],
   "source": [
    "assert mediabuying_info____.isna().sum().sum() == 0"
   ]
  },
  {
   "cell_type": "code",
   "execution_count": 33,
   "id": "ce940946-4438-452d-9fe0-a21031d807c2",
   "metadata": {},
   "outputs": [],
   "source": [
    "mediabuying_info____ = (\n",
    "                            mediabuying_info____.\n",
    "                    loc[(mediabuying_info____['site'] == 'Beta') \n",
    "                        | \n",
    "                        (mediabuying_info____['site'] == 'Mos')]\n",
    "                    .reset_index(drop=True)\n",
    "                       )"
   ]
  },
  {
   "cell_type": "code",
   "execution_count": 34,
   "id": "44a5aafd-fbd2-4d4a-ada9-1526f72e37b1",
   "metadata": {},
   "outputs": [],
   "source": [
    "def assign_value(row):\n",
    "    if row['site'] in ['mb', 'Mos']:\n",
    "        return 'mb'\n",
    "    elif row['site'] == 'Beta':\n",
    "        return 'ba'\n",
    "    else:\n",
    "        return 'na'\n",
    "\n",
    "# Применение функции к DataFrame для создания новой колонки\n",
    "mediabuying_info____['project'] = mediabuying_info____.apply(assign_value, axis=1)"
   ]
  },
  {
   "cell_type": "code",
   "execution_count": 35,
   "id": "a9b1e2ad-5d63-414e-994c-acf906566159",
   "metadata": {},
   "outputs": [],
   "source": [
    "assert mediabuying_info____[mediabuying_info____['project'] == 'na'].shape[0] == 0"
   ]
  },
  {
   "cell_type": "code",
   "execution_count": 36,
   "id": "d2f98f13-cb74-4b53-8330-5a35af9fcff6",
   "metadata": {},
   "outputs": [],
   "source": [
    "# xxx = stopped_test_partners.shape[0]\n",
    "stopped_test_partners = stopped_test_partners.merge(mediabuying_info____, on=['pid'], how='left') \n",
    "################################ Удаление строк, где в колонке1 пропуски\n",
    "stopped_test_partners = stopped_test_partners.dropna(subset=['geo']).reset_index(drop=True)\n",
    "###################################################\n",
    "# assert xxx == stopped_test_partners.shape[0]\n",
    "assert stopped_test_partners.isna().sum().sum() == 0"
   ]
  },
  {
   "cell_type": "code",
   "execution_count": 37,
   "id": "32f10a67-ccf8-45c2-ada4-b7a2b317898a",
   "metadata": {},
   "outputs": [],
   "source": [
    "stopped_test_partners.loc[(stopped_test_partners['sub'] == ''), 'sub_type'] = ''"
   ]
  },
  {
   "cell_type": "code",
   "execution_count": 38,
   "id": "b4b05f18-9e39-4f02-8dc7-ec77ace12195",
   "metadata": {},
   "outputs": [],
   "source": [
    "stopped_test_partners = stopped_test_partners.astype({\n",
    "    'project': 'str',\n",
    "    'type': 'str',\n",
    "    'geo': 'str',\n",
    "    'pid': 'int64',\n",
    "    'sub': 'str',\n",
    "    'sub_type': 'str',\n",
    "    'block_flg': 'int64',\n",
    "    'blocked_date': 'datetime64[ns]',\n",
    "    'block_desc': 'str'\n",
    "})"
   ]
  },
  {
   "cell_type": "code",
   "execution_count": 39,
   "id": "53136afb-b547-4372-8c21-d84acd0b9f83",
   "metadata": {},
   "outputs": [],
   "source": [
    "stopped_test_partners.loc[(stopped_test_partners['geo'] == 'Multigeo'), 'geo'] = 'ALL'"
   ]
  },
  {
   "cell_type": "code",
   "execution_count": 41,
   "id": "05fbae3d-b845-4152-8498-fd3cdc8f39f4",
   "metadata": {},
   "outputs": [],
   "source": [
    "mediabuying_info____ = mediabuying_info____[['pid', 'sub_type', 'project']]"
   ]
  },
  {
   "cell_type": "code",
   "execution_count": 42,
   "id": "762f9308-599b-4e51-8c4b-f3e55a5a6958",
   "metadata": {},
   "outputs": [
    {
     "data": {
      "text/html": [
       "<div>\n",
       "<style scoped>\n",
       "    .dataframe tbody tr th:only-of-type {\n",
       "        vertical-align: middle;\n",
       "    }\n",
       "\n",
       "    .dataframe tbody tr th {\n",
       "        vertical-align: top;\n",
       "    }\n",
       "\n",
       "    .dataframe thead th {\n",
       "        text-align: right;\n",
       "    }\n",
       "</style>\n",
       "<table border=\"1\" class=\"dataframe\">\n",
       "  <thead>\n",
       "    <tr style=\"text-align: right;\">\n",
       "      <th></th>\n",
       "      <th>pid</th>\n",
       "      <th>sub_type</th>\n",
       "      <th>project</th>\n",
       "    </tr>\n",
       "  </thead>\n",
       "  <tbody>\n",
       "    <tr>\n",
       "      <th>0</th>\n",
       "      <td>2314</td>\n",
       "      <td></td>\n",
       "      <td>ba</td>\n",
       "    </tr>\n",
       "    <tr>\n",
       "      <th>1</th>\n",
       "      <td>2318</td>\n",
       "      <td>sub1</td>\n",
       "      <td>ba</td>\n",
       "    </tr>\n",
       "    <tr>\n",
       "      <th>2</th>\n",
       "      <td>337502</td>\n",
       "      <td></td>\n",
       "      <td>mb</td>\n",
       "    </tr>\n",
       "    <tr>\n",
       "      <th>3</th>\n",
       "      <td>6686</td>\n",
       "      <td>sub2</td>\n",
       "      <td>ba</td>\n",
       "    </tr>\n",
       "    <tr>\n",
       "      <th>4</th>\n",
       "      <td>6690</td>\n",
       "      <td>sub2</td>\n",
       "      <td>ba</td>\n",
       "    </tr>\n",
       "  </tbody>\n",
       "</table>\n",
       "</div>"
      ],
      "text/plain": [
       "      pid sub_type project\n",
       "0    2314               ba\n",
       "1    2318     sub1      ba\n",
       "2  337502               mb\n",
       "3    6686     sub2      ba\n",
       "4    6690     sub2      ba"
      ]
     },
     "execution_count": 42,
     "metadata": {},
     "output_type": "execute_result"
    }
   ],
   "source": [
    "mediabuying_info____.head()"
   ]
  },
  {
   "cell_type": "markdown",
   "id": "73c60b3c-6193-4b37-a82e-de3001c7a5ba",
   "metadata": {},
   "source": [
    "Блок дополнительной проверки расчетов:"
   ]
  },
  {
   "cell_type": "code",
   "execution_count": 43,
   "id": "65310f50-3ebb-414c-a582-0f58470a4d1f",
   "metadata": {},
   "outputs": [],
   "source": [
    "\n",
    "xxx = concat_data_payback.shape[0]\n",
    "concat_data_payback = concat_data_payback.merge(mediabuying_info____, on=['pid', 'project'], how='left') \n",
    "assert xxx == concat_data_payback.shape[0]\n",
    "concat_data_payback.loc[(concat_data_payback['sub'] == ''), 'sub_type'] = ''\n",
    "assert concat_data_payback.isna().sum().sum() == 0"
   ]
  },
  {
   "cell_type": "code",
   "execution_count": 44,
   "id": "250de869-11f6-4c02-9d91-b25466039665",
   "metadata": {},
   "outputs": [
    {
     "data": {
      "text/plain": [
       "True"
      ]
     },
     "execution_count": 44,
     "metadata": {},
     "output_type": "execute_result"
    }
   ],
   "source": [
    "xxx == concat_data_payback.shape[0]"
   ]
  },
  {
   "cell_type": "code",
   "execution_count": 45,
   "id": "fa56316b-384c-4e93-ba5b-0f4173c252d4",
   "metadata": {},
   "outputs": [
    {
     "data": {
      "text/html": [
       "<div>\n",
       "<style scoped>\n",
       "    .dataframe tbody tr th:only-of-type {\n",
       "        vertical-align: middle;\n",
       "    }\n",
       "\n",
       "    .dataframe tbody tr th {\n",
       "        vertical-align: top;\n",
       "    }\n",
       "\n",
       "    .dataframe thead th {\n",
       "        text-align: right;\n",
       "    }\n",
       "</style>\n",
       "<table border=\"1\" class=\"dataframe\">\n",
       "  <thead>\n",
       "    <tr style=\"text-align: right;\">\n",
       "      <th></th>\n",
       "      <th>project</th>\n",
       "      <th>type</th>\n",
       "      <th>geo</th>\n",
       "      <th>pid</th>\n",
       "      <th>sub</th>\n",
       "      <th>block_flg</th>\n",
       "      <th>blocked_date</th>\n",
       "      <th>block_desc</th>\n",
       "      <th>sub_type</th>\n",
       "    </tr>\n",
       "  </thead>\n",
       "  <tbody>\n",
       "  </tbody>\n",
       "</table>\n",
       "</div>"
      ],
      "text/plain": [
       "Empty DataFrame\n",
       "Columns: [project, type, geo, pid, sub, block_flg, blocked_date, block_desc, sub_type]\n",
       "Index: []"
      ]
     },
     "execution_count": 45,
     "metadata": {},
     "output_type": "execute_result"
    }
   ],
   "source": [
    "concat_data_payback[concat_data_payback['sub_type'].isna()]"
   ]
  },
  {
   "cell_type": "code",
   "execution_count": 46,
   "id": "a42796ce-240e-4985-88d1-25a49c64d85c",
   "metadata": {},
   "outputs": [
    {
     "data": {
      "text/plain": [
       "project         0\n",
       "type            0\n",
       "geo             0\n",
       "pid             0\n",
       "sub             0\n",
       "block_flg       0\n",
       "blocked_date    0\n",
       "block_desc      0\n",
       "sub_type        0\n",
       "dtype: int64"
      ]
     },
     "execution_count": 46,
     "metadata": {},
     "output_type": "execute_result"
    }
   ],
   "source": [
    "concat_data_payback.isna().sum()"
   ]
  },
  {
   "cell_type": "code",
   "execution_count": 47,
   "id": "a183b197-0c6c-4d5e-ad39-43a0251d5938",
   "metadata": {},
   "outputs": [
    {
     "data": {
      "text/plain": [
       "project         0\n",
       "type            0\n",
       "geo             0\n",
       "pid             0\n",
       "sub             0\n",
       "block_flg       0\n",
       "blocked_date    0\n",
       "block_desc      0\n",
       "sub_type        0\n",
       "dtype: int64"
      ]
     },
     "execution_count": 47,
     "metadata": {},
     "output_type": "execute_result"
    }
   ],
   "source": [
    "concat_data_payback.isna().sum()"
   ]
  },
  {
   "cell_type": "code",
   "execution_count": 48,
   "id": "244b4110-4c28-4dae-9132-b8a81f3f8606",
   "metadata": {},
   "outputs": [
    {
     "data": {
      "text/html": [
       "<div>\n",
       "<style scoped>\n",
       "    .dataframe tbody tr th:only-of-type {\n",
       "        vertical-align: middle;\n",
       "    }\n",
       "\n",
       "    .dataframe tbody tr th {\n",
       "        vertical-align: top;\n",
       "    }\n",
       "\n",
       "    .dataframe thead th {\n",
       "        text-align: right;\n",
       "    }\n",
       "</style>\n",
       "<table border=\"1\" class=\"dataframe\">\n",
       "  <thead>\n",
       "    <tr style=\"text-align: right;\">\n",
       "      <th></th>\n",
       "      <th>project</th>\n",
       "      <th>type</th>\n",
       "      <th>geo</th>\n",
       "      <th>pid</th>\n",
       "      <th>sub</th>\n",
       "      <th>block_flg</th>\n",
       "      <th>blocked_date</th>\n",
       "      <th>block_desc</th>\n",
       "      <th>sub_type</th>\n",
       "    </tr>\n",
       "  </thead>\n",
       "  <tbody>\n",
       "    <tr>\n",
       "      <th>0</th>\n",
       "      <td>mb</td>\n",
       "      <td>perform</td>\n",
       "      <td>AZ</td>\n",
       "      <td>49660</td>\n",
       "      <td>ferid_abdullayev</td>\n",
       "      <td>4</td>\n",
       "      <td>1980-01-01</td>\n",
       "      <td>Скам!</td>\n",
       "      <td>sub3</td>\n",
       "    </tr>\n",
       "    <tr>\n",
       "      <th>1</th>\n",
       "      <td>mb</td>\n",
       "      <td>brand</td>\n",
       "      <td>AZ</td>\n",
       "      <td>135157</td>\n",
       "      <td>QAQASBUNETEMADI</td>\n",
       "      <td>4</td>\n",
       "      <td>1980-01-01</td>\n",
       "      <td>Скам!</td>\n",
       "      <td>sub1</td>\n",
       "    </tr>\n",
       "    <tr>\n",
       "      <th>2</th>\n",
       "      <td>mb</td>\n",
       "      <td>perform</td>\n",
       "      <td>KZ</td>\n",
       "      <td>64146</td>\n",
       "      <td>rakhmetoovvaa</td>\n",
       "      <td>4</td>\n",
       "      <td>1980-01-01</td>\n",
       "      <td>Скам!</td>\n",
       "      <td>sub2</td>\n",
       "    </tr>\n",
       "    <tr>\n",
       "      <th>3</th>\n",
       "      <td>mb</td>\n",
       "      <td>perform</td>\n",
       "      <td>KZ</td>\n",
       "      <td>64146</td>\n",
       "      <td>isamakarov</td>\n",
       "      <td>4</td>\n",
       "      <td>1980-01-01</td>\n",
       "      <td>Скам!</td>\n",
       "      <td>sub2</td>\n",
       "    </tr>\n",
       "    <tr>\n",
       "      <th>4</th>\n",
       "      <td>mb</td>\n",
       "      <td>perform</td>\n",
       "      <td>KZ</td>\n",
       "      <td>64146</td>\n",
       "      <td>niko_nett</td>\n",
       "      <td>4</td>\n",
       "      <td>1980-01-01</td>\n",
       "      <td>Скам!</td>\n",
       "      <td>sub2</td>\n",
       "    </tr>\n",
       "    <tr>\n",
       "      <th>...</th>\n",
       "      <td>...</td>\n",
       "      <td>...</td>\n",
       "      <td>...</td>\n",
       "      <td>...</td>\n",
       "      <td>...</td>\n",
       "      <td>...</td>\n",
       "      <td>...</td>\n",
       "      <td>...</td>\n",
       "      <td>...</td>\n",
       "    </tr>\n",
       "    <tr>\n",
       "      <th>1378</th>\n",
       "      <td>mb</td>\n",
       "      <td>perform</td>\n",
       "      <td>KG</td>\n",
       "      <td>264474</td>\n",
       "      <td>kadam</td>\n",
       "      <td>2</td>\n",
       "      <td>2025-06-19</td>\n",
       "      <td>limit: 1800; речек 02.07.2025</td>\n",
       "      <td>sub2</td>\n",
       "    </tr>\n",
       "    <tr>\n",
       "      <th>1379</th>\n",
       "      <td>mb</td>\n",
       "      <td>perform</td>\n",
       "      <td>RU</td>\n",
       "      <td>114168</td>\n",
       "      <td>2230</td>\n",
       "      <td>2</td>\n",
       "      <td>2025-06-19</td>\n",
       "      <td>limit: 2000; речек 02.07.2025</td>\n",
       "      <td>sub2</td>\n",
       "    </tr>\n",
       "    <tr>\n",
       "      <th>1380</th>\n",
       "      <td>mb</td>\n",
       "      <td>brand</td>\n",
       "      <td>ALL</td>\n",
       "      <td>351438</td>\n",
       "      <td></td>\n",
       "      <td>1</td>\n",
       "      <td>2025-06-19</td>\n",
       "      <td>Период мониторинга окончен. Трафик не окупаем</td>\n",
       "      <td></td>\n",
       "    </tr>\n",
       "    <tr>\n",
       "      <th>1381</th>\n",
       "      <td>mb</td>\n",
       "      <td>perform</td>\n",
       "      <td>TR</td>\n",
       "      <td>49706</td>\n",
       "      <td>anlik.goalss</td>\n",
       "      <td>1</td>\n",
       "      <td>2025-06-19</td>\n",
       "      <td>Медиабаинг: Трафик остановлен</td>\n",
       "      <td>sub1</td>\n",
       "    </tr>\n",
       "    <tr>\n",
       "      <th>1382</th>\n",
       "      <td>mb</td>\n",
       "      <td>perform</td>\n",
       "      <td>KZ</td>\n",
       "      <td>126898</td>\n",
       "      <td>richads - push</td>\n",
       "      <td>2</td>\n",
       "      <td>2025-06-19</td>\n",
       "      <td>limit: 1600; речек 02.07.2025</td>\n",
       "      <td>sub2</td>\n",
       "    </tr>\n",
       "  </tbody>\n",
       "</table>\n",
       "<p>1383 rows × 9 columns</p>\n",
       "</div>"
      ],
      "text/plain": [
       "     project     type  geo     pid               sub  block_flg blocked_date  \\\n",
       "0         mb  perform   AZ   49660  ferid_abdullayev          4   1980-01-01   \n",
       "1         mb    brand   AZ  135157   QAQASBUNETEMADI          4   1980-01-01   \n",
       "2         mb  perform   KZ   64146     rakhmetoovvaa          4   1980-01-01   \n",
       "3         mb  perform   KZ   64146        isamakarov          4   1980-01-01   \n",
       "4         mb  perform   KZ   64146         niko_nett          4   1980-01-01   \n",
       "...      ...      ...  ...     ...               ...        ...          ...   \n",
       "1378      mb  perform   KG  264474             kadam          2   2025-06-19   \n",
       "1379      mb  perform   RU  114168              2230          2   2025-06-19   \n",
       "1380      mb    brand  ALL  351438                            1   2025-06-19   \n",
       "1381      mb  perform   TR   49706      anlik.goalss          1   2025-06-19   \n",
       "1382      mb  perform   KZ  126898    richads - push          2   2025-06-19   \n",
       "\n",
       "                                         block_desc sub_type  \n",
       "0                                             Скам!     sub3  \n",
       "1                                             Скам!     sub1  \n",
       "2                                             Скам!     sub2  \n",
       "3                                             Скам!     sub2  \n",
       "4                                             Скам!     sub2  \n",
       "...                                             ...      ...  \n",
       "1378                  limit: 1800; речек 02.07.2025     sub2  \n",
       "1379                  limit: 2000; речек 02.07.2025     sub2  \n",
       "1380  Период мониторинга окончен. Трафик не окупаем           \n",
       "1381                  Медиабаинг: Трафик остановлен     sub1  \n",
       "1382                  limit: 1600; речек 02.07.2025     sub2  \n",
       "\n",
       "[1383 rows x 9 columns]"
      ]
     },
     "execution_count": 48,
     "metadata": {},
     "output_type": "execute_result"
    }
   ],
   "source": [
    "concat_data_payback"
   ]
  },
  {
   "cell_type": "code",
   "execution_count": 49,
   "id": "f7c6c723-b7ef-48b5-833a-fe78a7abe5f6",
   "metadata": {},
   "outputs": [],
   "source": [
    "concat_data_payback.loc[(concat_data_payback['sub'] == ''), 'sub_type'] = ''"
   ]
  },
  {
   "cell_type": "code",
   "execution_count": 50,
   "id": "c4bd9997-e8cf-41b4-89dd-8b1df89656ff",
   "metadata": {},
   "outputs": [],
   "source": [
    "concat_data_payback = concat_data_payback[true_columns_list]\n",
    "stopped_test_partners = stopped_test_partners[true_columns_list]"
   ]
  },
  {
   "cell_type": "code",
   "execution_count": 51,
   "id": "939484be-5fc0-4ee2-8935-0f8238fac40a",
   "metadata": {},
   "outputs": [],
   "source": [
    "##### Объединям с источниками не прошедшими тест!!!!"
   ]
  },
  {
   "cell_type": "code",
   "execution_count": 52,
   "id": "fde585bb-1a92-461c-9a3a-fb3883eda12a",
   "metadata": {},
   "outputs": [],
   "source": [
    "xxx = concat_data_payback.shape[0]\n",
    "# Объединяем DataFrame по строкам\n",
    "concat_data_payback = pd.concat([concat_data_payback, stopped_test_partners], ignore_index=True)\n",
    "\n",
    "# просто проверка\n",
    "assert concat_data_payback.isna().sum().sum() == 0\n",
    "assert xxx + stopped_test_partners.shape[0] == concat_data_payback.shape[0]"
   ]
  },
  {
   "cell_type": "code",
   "execution_count": 53,
   "id": "4da30c0d-6591-4137-bc5b-5201f1d8d22d",
   "metadata": {},
   "outputs": [
    {
     "data": {
      "text/html": [
       "<div>\n",
       "<style scoped>\n",
       "    .dataframe tbody tr th:only-of-type {\n",
       "        vertical-align: middle;\n",
       "    }\n",
       "\n",
       "    .dataframe tbody tr th {\n",
       "        vertical-align: top;\n",
       "    }\n",
       "\n",
       "    .dataframe thead th {\n",
       "        text-align: right;\n",
       "    }\n",
       "</style>\n",
       "<table border=\"1\" class=\"dataframe\">\n",
       "  <thead>\n",
       "    <tr style=\"text-align: right;\">\n",
       "      <th></th>\n",
       "      <th>project</th>\n",
       "      <th>type</th>\n",
       "      <th>geo</th>\n",
       "      <th>pid</th>\n",
       "      <th>sub</th>\n",
       "      <th>sub_type</th>\n",
       "      <th>block_flg</th>\n",
       "      <th>blocked_date</th>\n",
       "      <th>block_desc</th>\n",
       "    </tr>\n",
       "  </thead>\n",
       "  <tbody>\n",
       "    <tr>\n",
       "      <th>0</th>\n",
       "      <td>mb</td>\n",
       "      <td>perform</td>\n",
       "      <td>AZ</td>\n",
       "      <td>49660</td>\n",
       "      <td>ferid_abdullayev</td>\n",
       "      <td>sub3</td>\n",
       "      <td>4</td>\n",
       "      <td>1980-01-01</td>\n",
       "      <td>Скам!</td>\n",
       "    </tr>\n",
       "  </tbody>\n",
       "</table>\n",
       "</div>"
      ],
      "text/plain": [
       "  project     type geo    pid               sub sub_type  block_flg  \\\n",
       "0      mb  perform  AZ  49660  ferid_abdullayev     sub3          4   \n",
       "\n",
       "  blocked_date block_desc  \n",
       "0   1980-01-01      Скам!  "
      ]
     },
     "execution_count": 53,
     "metadata": {},
     "output_type": "execute_result"
    }
   ],
   "source": [
    "concat_data_payback.head(1)"
   ]
  },
  {
   "cell_type": "code",
   "execution_count": 54,
   "id": "dea941d2-4618-4643-ace2-90bc31cd7095",
   "metadata": {},
   "outputs": [
    {
     "data": {
      "text/plain": [
       "4674"
      ]
     },
     "execution_count": 54,
     "metadata": {},
     "output_type": "execute_result"
    }
   ],
   "source": [
    "concat_data_payback.shape[0]"
   ]
  },
  {
   "cell_type": "code",
   "execution_count": 55,
   "id": "5e09b1fe-25f5-41c0-a6f9-ad72aee01f96",
   "metadata": {},
   "outputs": [
    {
     "data": {
      "text/plain": [
       "3047"
      ]
     },
     "execution_count": 55,
     "metadata": {},
     "output_type": "execute_result"
    }
   ],
   "source": [
    "for_check"
   ]
  },
  {
   "cell_type": "code",
   "execution_count": 56,
   "id": "32474884-3c54-443e-86ce-8cf1625f741a",
   "metadata": {},
   "outputs": [],
   "source": [
    "# Проверка того что мы все ок сделали\n",
    "\n",
    "assert concat_data_payback.shape[0] >= for_check"
   ]
  },
  {
   "cell_type": "code",
   "execution_count": null,
   "id": "9e796630-d967-4197-92db-7bd7314a2270",
   "metadata": {},
   "outputs": [],
   "source": []
  },
  {
   "cell_type": "markdown",
   "id": "1be7afa3-65a0-4533-8e20-f87bda78e898",
   "metadata": {},
   "source": [
    "# Убираем временно весть 4й флаг:"
   ]
  },
  {
   "cell_type": "code",
   "execution_count": null,
   "id": "8624796a-4933-418b-bc2e-c26b284db524",
   "metadata": {},
   "outputs": [],
   "source": []
  },
  {
   "cell_type": "code",
   "execution_count": 57,
   "id": "9999c20f-04ae-411a-8b5f-0507708eadea",
   "metadata": {},
   "outputs": [],
   "source": [
    "# Убираем временно весть Антифрод\n",
    "concat_data_payback = concat_data_payback[concat_data_payback['block_flg'] != 4].reset_index(drop=True)"
   ]
  },
  {
   "cell_type": "code",
   "execution_count": 58,
   "id": "0f2459ce-31b8-4556-ac40-b67e54512a06",
   "metadata": {},
   "outputs": [
    {
     "data": {
      "text/html": [
       "<div>\n",
       "<style scoped>\n",
       "    .dataframe tbody tr th:only-of-type {\n",
       "        vertical-align: middle;\n",
       "    }\n",
       "\n",
       "    .dataframe tbody tr th {\n",
       "        vertical-align: top;\n",
       "    }\n",
       "\n",
       "    .dataframe thead th {\n",
       "        text-align: right;\n",
       "    }\n",
       "</style>\n",
       "<table border=\"1\" class=\"dataframe\">\n",
       "  <thead>\n",
       "    <tr style=\"text-align: right;\">\n",
       "      <th></th>\n",
       "      <th>project</th>\n",
       "      <th>type</th>\n",
       "      <th>geo</th>\n",
       "      <th>pid</th>\n",
       "      <th>sub</th>\n",
       "      <th>sub_type</th>\n",
       "      <th>block_flg</th>\n",
       "      <th>blocked_date</th>\n",
       "      <th>block_desc</th>\n",
       "    </tr>\n",
       "  </thead>\n",
       "  <tbody>\n",
       "    <tr>\n",
       "      <th>0</th>\n",
       "      <td>mb</td>\n",
       "      <td>perform</td>\n",
       "      <td>RU</td>\n",
       "      <td>114170</td>\n",
       "      <td>1740</td>\n",
       "      <td>sub2</td>\n",
       "      <td>0</td>\n",
       "      <td>2024-05-08</td>\n",
       "      <td>Исторические данные по остановленным источникам</td>\n",
       "    </tr>\n",
       "    <tr>\n",
       "      <th>1</th>\n",
       "      <td>mb</td>\n",
       "      <td>perform</td>\n",
       "      <td>RU</td>\n",
       "      <td>114170</td>\n",
       "      <td>1717</td>\n",
       "      <td>sub2</td>\n",
       "      <td>0</td>\n",
       "      <td>2024-05-08</td>\n",
       "      <td>Исторические данные по остановленным источникам</td>\n",
       "    </tr>\n",
       "    <tr>\n",
       "      <th>2</th>\n",
       "      <td>mb</td>\n",
       "      <td>perform</td>\n",
       "      <td>PK</td>\n",
       "      <td>126906</td>\n",
       "      <td>trafficstars</td>\n",
       "      <td>sub2</td>\n",
       "      <td>0</td>\n",
       "      <td>2024-05-08</td>\n",
       "      <td>Исторические данные по остановленным источникам</td>\n",
       "    </tr>\n",
       "    <tr>\n",
       "      <th>3</th>\n",
       "      <td>mb</td>\n",
       "      <td>perform</td>\n",
       "      <td>KZ</td>\n",
       "      <td>116858</td>\n",
       "      <td></td>\n",
       "      <td></td>\n",
       "      <td>0</td>\n",
       "      <td>2024-05-08</td>\n",
       "      <td>Исторические данные по остановленным источникам</td>\n",
       "    </tr>\n",
       "    <tr>\n",
       "      <th>4</th>\n",
       "      <td>mb</td>\n",
       "      <td>perform</td>\n",
       "      <td>MA</td>\n",
       "      <td>156541</td>\n",
       "      <td>igetmedia</td>\n",
       "      <td>sub2</td>\n",
       "      <td>0</td>\n",
       "      <td>2024-05-08</td>\n",
       "      <td>Исторические данные по остановленным источникам</td>\n",
       "    </tr>\n",
       "  </tbody>\n",
       "</table>\n",
       "</div>"
      ],
      "text/plain": [
       "  project     type geo     pid           sub sub_type  block_flg blocked_date  \\\n",
       "0      mb  perform  RU  114170          1740     sub2          0   2024-05-08   \n",
       "1      mb  perform  RU  114170          1717     sub2          0   2024-05-08   \n",
       "2      mb  perform  PK  126906  trafficstars     sub2          0   2024-05-08   \n",
       "3      mb  perform  KZ  116858                                 0   2024-05-08   \n",
       "4      mb  perform  MA  156541     igetmedia     sub2          0   2024-05-08   \n",
       "\n",
       "                                        block_desc  \n",
       "0  Исторические данные по остановленным источникам  \n",
       "1  Исторические данные по остановленным источникам  \n",
       "2  Исторические данные по остановленным источникам  \n",
       "3  Исторические данные по остановленным источникам  \n",
       "4  Исторические данные по остановленным источникам  "
      ]
     },
     "execution_count": 58,
     "metadata": {},
     "output_type": "execute_result"
    }
   ],
   "source": [
    "concat_data_payback.head()"
   ]
  },
  {
   "cell_type": "markdown",
   "id": "3a3b8646-4ea2-4947-bc0a-6da79f152e3b",
   "metadata": {},
   "source": [
    "# Разделяем на датасет с флагом 0 и остальные флаги"
   ]
  },
  {
   "cell_type": "code",
   "execution_count": 59,
   "id": "800d4ae8-a11b-41c9-b173-68d64a554c6d",
   "metadata": {},
   "outputs": [],
   "source": [
    "concat_data_payback_ZERO_FLG = (\n",
    "                                concat_data_payback[concat_data_payback['block_flg'] == 0]\n",
    "                                .reset_index(drop=True)\n",
    "                                    )\n",
    "\n",
    "concat_data_payback_ANOTHER_FLG = (\n",
    "                                    concat_data_payback[concat_data_payback['block_flg'] != 0]\n",
    "                                    .reset_index(drop=True)\n",
    "                                      )"
   ]
  },
  {
   "cell_type": "code",
   "execution_count": 61,
   "id": "bee25dac-aad3-4de0-a680-7f8783aa4df6",
   "metadata": {},
   "outputs": [
    {
     "data": {
      "text/html": [
       "<div>\n",
       "<style scoped>\n",
       "    .dataframe tbody tr th:only-of-type {\n",
       "        vertical-align: middle;\n",
       "    }\n",
       "\n",
       "    .dataframe tbody tr th {\n",
       "        vertical-align: top;\n",
       "    }\n",
       "\n",
       "    .dataframe thead th {\n",
       "        text-align: right;\n",
       "    }\n",
       "</style>\n",
       "<table border=\"1\" class=\"dataframe\">\n",
       "  <thead>\n",
       "    <tr style=\"text-align: right;\">\n",
       "      <th></th>\n",
       "      <th>project</th>\n",
       "      <th>type</th>\n",
       "      <th>geo</th>\n",
       "      <th>pid</th>\n",
       "      <th>sub</th>\n",
       "      <th>sub_type</th>\n",
       "      <th>block_flg</th>\n",
       "      <th>blocked_date</th>\n",
       "      <th>block_desc</th>\n",
       "    </tr>\n",
       "  </thead>\n",
       "  <tbody>\n",
       "    <tr>\n",
       "      <th>2132</th>\n",
       "      <td>mb</td>\n",
       "      <td>brand</td>\n",
       "      <td>UZ</td>\n",
       "      <td>25716</td>\n",
       "      <td>Historical_NaN</td>\n",
       "      <td>sub3</td>\n",
       "      <td>1</td>\n",
       "      <td>2024-09-27 18:21:18</td>\n",
       "      <td>Не успешная тестовая закупка</td>\n",
       "    </tr>\n",
       "    <tr>\n",
       "      <th>2612</th>\n",
       "      <td>mb</td>\n",
       "      <td>brand</td>\n",
       "      <td>UZ</td>\n",
       "      <td>25716</td>\n",
       "      <td>Historical_NaN</td>\n",
       "      <td>sub3</td>\n",
       "      <td>1</td>\n",
       "      <td>2024-12-06 18:27:35</td>\n",
       "      <td>Не успешная тестовая закупка</td>\n",
       "    </tr>\n",
       "    <tr>\n",
       "      <th>1185</th>\n",
       "      <td>ba</td>\n",
       "      <td>perform</td>\n",
       "      <td>ALL</td>\n",
       "      <td>25744</td>\n",
       "      <td></td>\n",
       "      <td></td>\n",
       "      <td>1</td>\n",
       "      <td>2025-01-14 18:39:17</td>\n",
       "      <td>Не успешная тестовая закупка</td>\n",
       "    </tr>\n",
       "    <tr>\n",
       "      <th>1186</th>\n",
       "      <td>ba</td>\n",
       "      <td>perform</td>\n",
       "      <td>ALL</td>\n",
       "      <td>25744</td>\n",
       "      <td></td>\n",
       "      <td></td>\n",
       "      <td>1</td>\n",
       "      <td>2025-01-14 18:39:17</td>\n",
       "      <td>Не успешная тестовая закупка</td>\n",
       "    </tr>\n",
       "    <tr>\n",
       "      <th>776</th>\n",
       "      <td>mb</td>\n",
       "      <td>brand</td>\n",
       "      <td>BR</td>\n",
       "      <td>49448</td>\n",
       "      <td>Historical_NaN</td>\n",
       "      <td>sub2</td>\n",
       "      <td>1</td>\n",
       "      <td>2024-11-08 18:52:28</td>\n",
       "      <td>Не успешная тестовая закупка</td>\n",
       "    </tr>\n",
       "    <tr>\n",
       "      <th>...</th>\n",
       "      <td>...</td>\n",
       "      <td>...</td>\n",
       "      <td>...</td>\n",
       "      <td>...</td>\n",
       "      <td>...</td>\n",
       "      <td>...</td>\n",
       "      <td>...</td>\n",
       "      <td>...</td>\n",
       "      <td>...</td>\n",
       "    </tr>\n",
       "    <tr>\n",
       "      <th>1079</th>\n",
       "      <td>mb</td>\n",
       "      <td>brand</td>\n",
       "      <td>BD</td>\n",
       "      <td>356716</td>\n",
       "      <td>Historical_NaN</td>\n",
       "      <td>sub2</td>\n",
       "      <td>1</td>\n",
       "      <td>2024-12-13 17:23:19</td>\n",
       "      <td>Не успешная тестовая закупка</td>\n",
       "    </tr>\n",
       "    <tr>\n",
       "      <th>1230</th>\n",
       "      <td>mb</td>\n",
       "      <td>perform</td>\n",
       "      <td>ALL</td>\n",
       "      <td>360176</td>\n",
       "      <td></td>\n",
       "      <td></td>\n",
       "      <td>1</td>\n",
       "      <td>2025-01-21 17:23:05</td>\n",
       "      <td>Не успешная тестовая закупка</td>\n",
       "    </tr>\n",
       "    <tr>\n",
       "      <th>1231</th>\n",
       "      <td>mb</td>\n",
       "      <td>perform</td>\n",
       "      <td>ALL</td>\n",
       "      <td>360176</td>\n",
       "      <td></td>\n",
       "      <td></td>\n",
       "      <td>1</td>\n",
       "      <td>2025-01-21 17:23:05</td>\n",
       "      <td>Не успешная тестовая закупка</td>\n",
       "    </tr>\n",
       "    <tr>\n",
       "      <th>3337</th>\n",
       "      <td>mb</td>\n",
       "      <td>brand</td>\n",
       "      <td>ALL</td>\n",
       "      <td>363778</td>\n",
       "      <td></td>\n",
       "      <td></td>\n",
       "      <td>1</td>\n",
       "      <td>2025-04-04 17:32:03</td>\n",
       "      <td>Не успешная тестовая закупка</td>\n",
       "    </tr>\n",
       "    <tr>\n",
       "      <th>3338</th>\n",
       "      <td>mb</td>\n",
       "      <td>brand</td>\n",
       "      <td>ALL</td>\n",
       "      <td>363778</td>\n",
       "      <td></td>\n",
       "      <td></td>\n",
       "      <td>1</td>\n",
       "      <td>2025-04-04 17:32:03</td>\n",
       "      <td>Не успешная тестовая закупка</td>\n",
       "    </tr>\n",
       "  </tbody>\n",
       "</table>\n",
       "<p>1673 rows × 9 columns</p>\n",
       "</div>"
      ],
      "text/plain": [
       "     project     type  geo     pid             sub sub_type  block_flg  \\\n",
       "2132      mb    brand   UZ   25716  Historical_NaN     sub3          1   \n",
       "2612      mb    brand   UZ   25716  Historical_NaN     sub3          1   \n",
       "1185      ba  perform  ALL   25744                                   1   \n",
       "1186      ba  perform  ALL   25744                                   1   \n",
       "776       mb    brand   BR   49448  Historical_NaN     sub2          1   \n",
       "...      ...      ...  ...     ...             ...      ...        ...   \n",
       "1079      mb    brand   BD  356716  Historical_NaN     sub2          1   \n",
       "1230      mb  perform  ALL  360176                                   1   \n",
       "1231      mb  perform  ALL  360176                                   1   \n",
       "3337      mb    brand  ALL  363778                                   1   \n",
       "3338      mb    brand  ALL  363778                                   1   \n",
       "\n",
       "            blocked_date                    block_desc  \n",
       "2132 2024-09-27 18:21:18  Не успешная тестовая закупка  \n",
       "2612 2024-12-06 18:27:35  Не успешная тестовая закупка  \n",
       "1185 2025-01-14 18:39:17  Не успешная тестовая закупка  \n",
       "1186 2025-01-14 18:39:17  Не успешная тестовая закупка  \n",
       "776  2024-11-08 18:52:28  Не успешная тестовая закупка  \n",
       "...                  ...                           ...  \n",
       "1079 2024-12-13 17:23:19  Не успешная тестовая закупка  \n",
       "1230 2025-01-21 17:23:05  Не успешная тестовая закупка  \n",
       "1231 2025-01-21 17:23:05  Не успешная тестовая закупка  \n",
       "3337 2025-04-04 17:32:03  Не успешная тестовая закупка  \n",
       "3338 2025-04-04 17:32:03  Не успешная тестовая закупка  \n",
       "\n",
       "[1673 rows x 9 columns]"
      ]
     },
     "execution_count": 61,
     "metadata": {},
     "output_type": "execute_result"
    }
   ],
   "source": [
    "### Дубликаты если по не нулевым флагам, \n",
    "### которые необходимо дополнительно согласовывать с заказчиками !\n",
    "\n",
    "concat_data_payback_ANOTHER_FLG[concat_data_payback_ANOTHER_FLG.duplicated(\n",
    "    subset=['project', \n",
    "            'type', \n",
    "            'geo', \n",
    "            'pid', \n",
    "            'sub', \n",
    "            'sub_type', \n",
    "            'block_flg'], \n",
    "    keep=False\n",
    ")].sort_values(by=['pid', 'sub'])"
   ]
  },
  {
   "cell_type": "code",
   "execution_count": 62,
   "id": "758d284d-e546-4552-b538-aff482d416a6",
   "metadata": {},
   "outputs": [],
   "source": [
    "#### полноe удаление дублей !"
   ]
  },
  {
   "cell_type": "code",
   "execution_count": 63,
   "id": "db3c94a3-4755-4123-bbba-35cf35d38d6d",
   "metadata": {},
   "outputs": [
    {
     "data": {
      "text/plain": [
       "3501"
      ]
     },
     "execution_count": 63,
     "metadata": {},
     "output_type": "execute_result"
    }
   ],
   "source": [
    "concat_data_payback_ANOTHER_FLG.shape[0]"
   ]
  },
  {
   "cell_type": "code",
   "execution_count": 64,
   "id": "37f376a9-f1be-4891-95bf-4b62fcad9a27",
   "metadata": {},
   "outputs": [],
   "source": [
    "### удаление дубликатов\n",
    "concat_data_payback_ANOTHER_FLG = (\n",
    "                                    concat_data_payback_ANOTHER_FLG\n",
    "                                .drop_duplicates()\n",
    "                                .reset_index(drop=True)\n",
    "                                      )"
   ]
  },
  {
   "cell_type": "code",
   "execution_count": 65,
   "id": "47652381-07d5-4bce-9354-6ce8ae0e9d71",
   "metadata": {},
   "outputs": [
    {
     "data": {
      "text/plain": [
       "2308"
      ]
     },
     "execution_count": 65,
     "metadata": {},
     "output_type": "execute_result"
    }
   ],
   "source": [
    "# Общая сверка строк таблицы после чистки дублей\n",
    "concat_data_payback_ANOTHER_FLG.shape[0]"
   ]
  },
  {
   "cell_type": "markdown",
   "id": "7566839b-f699-4dda-9d8a-5e00dc0a6357",
   "metadata": {},
   "source": [
    "# РАЗОБЬЕМ НЕ НУЛЕВЫЕ ФЛАГИ НА 1 И ОСТАЛЬНЫЕ"
   ]
  },
  {
   "cell_type": "code",
   "execution_count": 66,
   "id": "ecf153a5-779a-4cac-97b0-be9c3d30258c",
   "metadata": {},
   "outputs": [],
   "source": [
    "concat_data_payback_1_FLG = (\n",
    "                                concat_data_payback_ANOTHER_FLG[\n",
    "                                    concat_data_payback_ANOTHER_FLG['block_flg'] == 1\n",
    "                                        ].reset_index(drop=True)\n",
    "                                )\n",
    "concat_data_payback_NOT_ONE_FLG = (\n",
    "                                    concat_data_payback_ANOTHER_FLG[\n",
    "                                        concat_data_payback_ANOTHER_FLG['block_flg'] != 1\n",
    "                                            ].reset_index(drop=True)\n",
    "                                          )"
   ]
  },
  {
   "cell_type": "markdown",
   "id": "9897663f-73d3-455d-92a9-2d3e875700d9",
   "metadata": {},
   "source": [
    "# очистим строки, в которых уже есть 1 (удалим их по новой дате, оставив только старую)"
   ]
  },
  {
   "cell_type": "code",
   "execution_count": 67,
   "id": "c2dee8dc-6733-4a93-add1-eb77d7efc029",
   "metadata": {},
   "outputs": [
    {
     "data": {
      "text/html": [
       "<div>\n",
       "<style scoped>\n",
       "    .dataframe tbody tr th:only-of-type {\n",
       "        vertical-align: middle;\n",
       "    }\n",
       "\n",
       "    .dataframe tbody tr th {\n",
       "        vertical-align: top;\n",
       "    }\n",
       "\n",
       "    .dataframe thead th {\n",
       "        text-align: right;\n",
       "    }\n",
       "</style>\n",
       "<table border=\"1\" class=\"dataframe\">\n",
       "  <thead>\n",
       "    <tr style=\"text-align: right;\">\n",
       "      <th></th>\n",
       "      <th>project</th>\n",
       "      <th>type</th>\n",
       "      <th>geo</th>\n",
       "      <th>pid</th>\n",
       "      <th>sub</th>\n",
       "      <th>sub_type</th>\n",
       "      <th>block_flg</th>\n",
       "      <th>blocked_date</th>\n",
       "      <th>block_desc</th>\n",
       "    </tr>\n",
       "  </thead>\n",
       "  <tbody>\n",
       "    <tr>\n",
       "      <th>1415</th>\n",
       "      <td>mb</td>\n",
       "      <td>brand</td>\n",
       "      <td>UZ</td>\n",
       "      <td>25716</td>\n",
       "      <td>Historical_NaN</td>\n",
       "      <td>sub3</td>\n",
       "      <td>1</td>\n",
       "      <td>2024-09-27 18:21:18</td>\n",
       "      <td>Не успешная тестовая закупка</td>\n",
       "    </tr>\n",
       "    <tr>\n",
       "      <th>1486</th>\n",
       "      <td>mb</td>\n",
       "      <td>brand</td>\n",
       "      <td>UZ</td>\n",
       "      <td>25716</td>\n",
       "      <td>Historical_NaN</td>\n",
       "      <td>sub3</td>\n",
       "      <td>1</td>\n",
       "      <td>2024-12-06 18:27:35</td>\n",
       "      <td>Не успешная тестовая закупка</td>\n",
       "    </tr>\n",
       "    <tr>\n",
       "      <th>432</th>\n",
       "      <td>mb</td>\n",
       "      <td>brand</td>\n",
       "      <td>BR</td>\n",
       "      <td>49448</td>\n",
       "      <td>Historical_NaN</td>\n",
       "      <td>sub2</td>\n",
       "      <td>1</td>\n",
       "      <td>2024-11-08 18:52:28</td>\n",
       "      <td>Не успешная тестовая закупка</td>\n",
       "    </tr>\n",
       "    <tr>\n",
       "      <th>462</th>\n",
       "      <td>mb</td>\n",
       "      <td>brand</td>\n",
       "      <td>BR</td>\n",
       "      <td>49448</td>\n",
       "      <td>Historical_NaN</td>\n",
       "      <td>sub2</td>\n",
       "      <td>1</td>\n",
       "      <td>2024-11-15 17:03:42</td>\n",
       "      <td>Не успешная тестовая закупка</td>\n",
       "    </tr>\n",
       "    <tr>\n",
       "      <th>477</th>\n",
       "      <td>mb</td>\n",
       "      <td>brand</td>\n",
       "      <td>BR</td>\n",
       "      <td>49448</td>\n",
       "      <td>Historical_NaN</td>\n",
       "      <td>sub2</td>\n",
       "      <td>1</td>\n",
       "      <td>2024-11-22 18:07:25</td>\n",
       "      <td>Не успешная тестовая закупка</td>\n",
       "    </tr>\n",
       "    <tr>\n",
       "      <th>...</th>\n",
       "      <td>...</td>\n",
       "      <td>...</td>\n",
       "      <td>...</td>\n",
       "      <td>...</td>\n",
       "      <td>...</td>\n",
       "      <td>...</td>\n",
       "      <td>...</td>\n",
       "      <td>...</td>\n",
       "      <td>...</td>\n",
       "    </tr>\n",
       "    <tr>\n",
       "      <th>542</th>\n",
       "      <td>mb</td>\n",
       "      <td>perform</td>\n",
       "      <td>BR</td>\n",
       "      <td>350732</td>\n",
       "      <td>Historical_NaN</td>\n",
       "      <td>sub2</td>\n",
       "      <td>1</td>\n",
       "      <td>2024-12-13 17:23:19</td>\n",
       "      <td>Не успешная тестовая закупка</td>\n",
       "    </tr>\n",
       "    <tr>\n",
       "      <th>1488</th>\n",
       "      <td>mb</td>\n",
       "      <td>perform</td>\n",
       "      <td>BR</td>\n",
       "      <td>350732</td>\n",
       "      <td>Historical_NaN</td>\n",
       "      <td>sub2</td>\n",
       "      <td>1</td>\n",
       "      <td>2024-12-06 18:27:35</td>\n",
       "      <td>Не успешная тестовая закупка</td>\n",
       "    </tr>\n",
       "    <tr>\n",
       "      <th>486</th>\n",
       "      <td>mb</td>\n",
       "      <td>perform</td>\n",
       "      <td>TR</td>\n",
       "      <td>351244</td>\n",
       "      <td>Historical_NaN</td>\n",
       "      <td>sub2</td>\n",
       "      <td>1</td>\n",
       "      <td>2024-11-22 18:07:25</td>\n",
       "      <td>Не успешная тестовая закупка</td>\n",
       "    </tr>\n",
       "    <tr>\n",
       "      <th>502</th>\n",
       "      <td>mb</td>\n",
       "      <td>perform</td>\n",
       "      <td>TR</td>\n",
       "      <td>351244</td>\n",
       "      <td>Historical_NaN</td>\n",
       "      <td>sub2</td>\n",
       "      <td>1</td>\n",
       "      <td>2024-11-29 17:33:21</td>\n",
       "      <td>Не успешная тестовая закупка</td>\n",
       "    </tr>\n",
       "    <tr>\n",
       "      <th>1492</th>\n",
       "      <td>mb</td>\n",
       "      <td>perform</td>\n",
       "      <td>TR</td>\n",
       "      <td>351244</td>\n",
       "      <td>Historical_NaN</td>\n",
       "      <td>sub2</td>\n",
       "      <td>1</td>\n",
       "      <td>2024-12-06 18:27:35</td>\n",
       "      <td>Не успешная тестовая закупка</td>\n",
       "    </tr>\n",
       "  </tbody>\n",
       "</table>\n",
       "<p>464 rows × 9 columns</p>\n",
       "</div>"
      ],
      "text/plain": [
       "     project     type geo     pid             sub sub_type  block_flg  \\\n",
       "1415      mb    brand  UZ   25716  Historical_NaN     sub3          1   \n",
       "1486      mb    brand  UZ   25716  Historical_NaN     sub3          1   \n",
       "432       mb    brand  BR   49448  Historical_NaN     sub2          1   \n",
       "462       mb    brand  BR   49448  Historical_NaN     sub2          1   \n",
       "477       mb    brand  BR   49448  Historical_NaN     sub2          1   \n",
       "...      ...      ...  ..     ...             ...      ...        ...   \n",
       "542       mb  perform  BR  350732  Historical_NaN     sub2          1   \n",
       "1488      mb  perform  BR  350732  Historical_NaN     sub2          1   \n",
       "486       mb  perform  TR  351244  Historical_NaN     sub2          1   \n",
       "502       mb  perform  TR  351244  Historical_NaN     sub2          1   \n",
       "1492      mb  perform  TR  351244  Historical_NaN     sub2          1   \n",
       "\n",
       "            blocked_date                    block_desc  \n",
       "1415 2024-09-27 18:21:18  Не успешная тестовая закупка  \n",
       "1486 2024-12-06 18:27:35  Не успешная тестовая закупка  \n",
       "432  2024-11-08 18:52:28  Не успешная тестовая закупка  \n",
       "462  2024-11-15 17:03:42  Не успешная тестовая закупка  \n",
       "477  2024-11-22 18:07:25  Не успешная тестовая закупка  \n",
       "...                  ...                           ...  \n",
       "542  2024-12-13 17:23:19  Не успешная тестовая закупка  \n",
       "1488 2024-12-06 18:27:35  Не успешная тестовая закупка  \n",
       "486  2024-11-22 18:07:25  Не успешная тестовая закупка  \n",
       "502  2024-11-29 17:33:21  Не успешная тестовая закупка  \n",
       "1492 2024-12-06 18:27:35  Не успешная тестовая закупка  \n",
       "\n",
       "[464 rows x 9 columns]"
      ]
     },
     "execution_count": 67,
     "metadata": {},
     "output_type": "execute_result"
    }
   ],
   "source": [
    "#concat_data_payback_1_FLG\n",
    "\n",
    "concat_data_payback_1_FLG[concat_data_payback_1_FLG.duplicated(\n",
    "    subset=['project', \n",
    "            'type', \n",
    "            'geo', \n",
    "            'pid', \n",
    "            'sub', \n",
    "            'sub_type', \n",
    "            'block_flg'], \n",
    "    keep=False\n",
    ")].sort_values(by=['pid', 'sub', 'geo'])"
   ]
  },
  {
   "cell_type": "code",
   "execution_count": 68,
   "id": "f4ef00c8-b6c1-4a9b-b698-bafad165c525",
   "metadata": {},
   "outputs": [],
   "source": [
    "concat_data_payback_1_FLG = concat_data_payback_1_FLG.sort_values(\n",
    "    by=['project', \n",
    "        'type', \n",
    "        'geo', \n",
    "        'pid', \n",
    "        'sub', \n",
    "        'sub_type', \n",
    "        'block_flg', \n",
    "        'blocked_date'], \n",
    "    ascending=[True, \n",
    "               True, \n",
    "               True, \n",
    "               True, \n",
    "               True, \n",
    "               True, \n",
    "               True, \n",
    "               True]  # Дата по убыванию\n",
    ").reset_index(drop=True)\n",
    ".drop_duplicates(\n",
    "    subset=['project', \n",
    "            'type', \n",
    "            'geo', \n",
    "            'pid', \n",
    "            'sub', \n",
    "            'sub_type', \n",
    "            'block_flg'], \n",
    "    keep='first'  # Оставляем первую (самую старшую) дату\n",
    ").reset_index(drop=True)"
   ]
  },
  {
   "cell_type": "code",
   "execution_count": 70,
   "id": "986eefda-ee69-4dfe-b767-d86ff03ea9b7",
   "metadata": {},
   "outputs": [
    {
     "data": {
      "text/html": [
       "<div>\n",
       "<style scoped>\n",
       "    .dataframe tbody tr th:only-of-type {\n",
       "        vertical-align: middle;\n",
       "    }\n",
       "\n",
       "    .dataframe tbody tr th {\n",
       "        vertical-align: top;\n",
       "    }\n",
       "\n",
       "    .dataframe thead th {\n",
       "        text-align: right;\n",
       "    }\n",
       "</style>\n",
       "<table border=\"1\" class=\"dataframe\">\n",
       "  <thead>\n",
       "    <tr style=\"text-align: right;\">\n",
       "      <th></th>\n",
       "      <th>project</th>\n",
       "      <th>type</th>\n",
       "      <th>geo</th>\n",
       "      <th>pid</th>\n",
       "      <th>sub</th>\n",
       "      <th>sub_type</th>\n",
       "      <th>block_flg</th>\n",
       "      <th>blocked_date</th>\n",
       "      <th>block_desc</th>\n",
       "    </tr>\n",
       "  </thead>\n",
       "  <tbody>\n",
       "    <tr>\n",
       "      <th>709</th>\n",
       "      <td>mb</td>\n",
       "      <td>brand</td>\n",
       "      <td>UZ</td>\n",
       "      <td>49624</td>\n",
       "      <td>ig10</td>\n",
       "      <td>sub3</td>\n",
       "      <td>1</td>\n",
       "      <td>2025-04-11 15:43:38</td>\n",
       "      <td>Не успешная тестовая закупка</td>\n",
       "    </tr>\n",
       "  </tbody>\n",
       "</table>\n",
       "</div>"
      ],
      "text/plain": [
       "    project   type geo    pid   sub sub_type  block_flg        blocked_date  \\\n",
       "709      mb  brand  UZ  49624  ig10     sub3          1 2025-04-11 15:43:38   \n",
       "\n",
       "                       block_desc  \n",
       "709  Не успешная тестовая закупка  "
      ]
     },
     "execution_count": 70,
     "metadata": {},
     "output_type": "execute_result"
    }
   ],
   "source": [
    "### Ячейка для ручной проверки конкретного партнера, не более\n",
    "concat_data_payback_1_FLG.loc[(concat_data_payback_1_FLG['pid']==49624) \n",
    "                              & (concat_data_payback_1_FLG['sub']=='ig10')]"
   ]
  },
  {
   "cell_type": "code",
   "execution_count": 71,
   "id": "72399f3e-97ac-460c-84cf-4683bfd288fe",
   "metadata": {},
   "outputs": [],
   "source": [
    "### с флагами 1 все ок в этом сегмете идем дальше!"
   ]
  },
  {
   "cell_type": "markdown",
   "id": "c8e15e78-90be-46a1-89d3-7682cc659f22",
   "metadata": {},
   "source": [
    "# теперь занулим лишние не нулевые флаги, которые не равны 1"
   ]
  },
  {
   "cell_type": "code",
   "execution_count": 72,
   "id": "b71a596c-db45-493d-a97d-80db0bca467a",
   "metadata": {},
   "outputs": [
    {
     "data": {
      "text/html": [
       "<div>\n",
       "<style scoped>\n",
       "    .dataframe tbody tr th:only-of-type {\n",
       "        vertical-align: middle;\n",
       "    }\n",
       "\n",
       "    .dataframe tbody tr th {\n",
       "        vertical-align: top;\n",
       "    }\n",
       "\n",
       "    .dataframe thead th {\n",
       "        text-align: right;\n",
       "    }\n",
       "</style>\n",
       "<table border=\"1\" class=\"dataframe\">\n",
       "  <thead>\n",
       "    <tr style=\"text-align: right;\">\n",
       "      <th></th>\n",
       "      <th>project</th>\n",
       "      <th>type</th>\n",
       "      <th>geo</th>\n",
       "      <th>pid</th>\n",
       "      <th>sub</th>\n",
       "      <th>sub_type</th>\n",
       "      <th>block_flg</th>\n",
       "      <th>blocked_date</th>\n",
       "      <th>block_desc</th>\n",
       "    </tr>\n",
       "  </thead>\n",
       "  <tbody>\n",
       "  </tbody>\n",
       "</table>\n",
       "</div>"
      ],
      "text/plain": [
       "Empty DataFrame\n",
       "Columns: [project, type, geo, pid, sub, sub_type, block_flg, blocked_date, block_desc]\n",
       "Index: []"
      ]
     },
     "execution_count": 72,
     "metadata": {},
     "output_type": "execute_result"
    }
   ],
   "source": [
    "#concat_data_payback_NOT_ONE_FLG\n",
    "\n",
    "\n",
    "#### Визуальный осмотр дублей по флагам, удовлетворяющим условия если такие есть !\n",
    "concat_data_payback_NOT_ONE_FLG[concat_data_payback_NOT_ONE_FLG.duplicated(\n",
    "    subset=['project', \n",
    "            'type', \n",
    "            'geo', \n",
    "            'pid', \n",
    "            'sub', \n",
    "            'sub_type', \n",
    "            'block_flg'], \n",
    "    keep=False\n",
    ")].sort_values(by=['pid', 'sub', 'geo'])"
   ]
  },
  {
   "cell_type": "code",
   "execution_count": 73,
   "id": "1f291c6e-ba5f-42c5-9f71-26d69baabd9d",
   "metadata": {},
   "outputs": [],
   "source": [
    "# Найдем дубликаты по заданным столбцам\n",
    "duplicates = concat_data_payback_NOT_ONE_FLG.duplicated(\n",
    "    subset=['project', \n",
    "            'type', \n",
    "            'geo', \n",
    "            'pid', \n",
    "            'sub', \n",
    "            'sub_type', \n",
    "            'block_flg'], \n",
    "    keep=False  \n",
    ")\n",
    "\n",
    "# Сортируем строки с дубликатами по blocked_date (по возрастанию)\n",
    "concat_data_payback_NOT_ONE_FLG.loc[duplicates] = concat_data_payback_NOT_ONE_FLG.loc[duplicates] \\\n",
    "    .sort_values(by=['blocked_date'], ascending=True)\n",
    "\n",
    "# Обнуляем block_flg для всех строк-дубликатов, кроме самой поздней\n",
    "concat_data_payback_NOT_ONE_FLG.loc[\n",
    "    duplicates & concat_data_payback_NOT_ONE_FLG.duplicated(\n",
    "        subset=['project', \n",
    "                'type', \n",
    "                'geo', \n",
    "                'pid', \n",
    "                'sub', \n",
    "                'sub_type', \n",
    "                'block_flg'], \n",
    "        keep='last'  # Оставляем последнюю\n",
    "    ),\n",
    "    'block_flg'\n",
    "] = 0"
   ]
  },
  {
   "cell_type": "markdown",
   "id": "0bfe52cc-f1d2-456b-a773-5077e2b3b4c5",
   "metadata": {},
   "source": [
    "# Если есть флаг 1, то остальные флаги должны быть равны нулю"
   ]
  },
  {
   "cell_type": "code",
   "execution_count": 75,
   "id": "32793485-f0c3-479c-aef7-f115960f51a2",
   "metadata": {},
   "outputs": [],
   "source": [
    "# Объединение по ключевым столбцам\n",
    "merged_df = concat_data_payback_NOT_ONE_FLG.merge(concat_data_payback_1_FLG,\n",
    "                                                  on=['project', \n",
    "                                                      'type', \n",
    "                                                      'geo', \n",
    "                                                      'pid', \n",
    "                                                      'sub', \n",
    "                                                      'sub_type'], \n",
    "                                                  how='left', \n",
    "                                                  suffixes=('', '_df1'))"
   ]
  },
  {
   "cell_type": "code",
   "execution_count": 77,
   "id": "5731b3ee-7a74-42b4-9cee-2fc96cac93f5",
   "metadata": {},
   "outputs": [],
   "source": [
    "#### Кейсы где дужно занулить 2й и 3й флаг, т.к. есть первый(Если такие есть)!!!!\n",
    "FLAG_2_3_BY_ZERO = merged_df.loc[(merged_df['block_flg_df1'] == 1)]"
   ]
  },
  {
   "cell_type": "code",
   "execution_count": 78,
   "id": "f5673bfa-0a0b-42c6-893d-e1ef3f8edd86",
   "metadata": {},
   "outputs": [
    {
     "data": {
      "text/html": [
       "<div>\n",
       "<style scoped>\n",
       "    .dataframe tbody tr th:only-of-type {\n",
       "        vertical-align: middle;\n",
       "    }\n",
       "\n",
       "    .dataframe tbody tr th {\n",
       "        vertical-align: top;\n",
       "    }\n",
       "\n",
       "    .dataframe thead th {\n",
       "        text-align: right;\n",
       "    }\n",
       "</style>\n",
       "<table border=\"1\" class=\"dataframe\">\n",
       "  <thead>\n",
       "    <tr style=\"text-align: right;\">\n",
       "      <th></th>\n",
       "      <th>project</th>\n",
       "      <th>type</th>\n",
       "      <th>geo</th>\n",
       "      <th>pid</th>\n",
       "      <th>sub</th>\n",
       "      <th>sub_type</th>\n",
       "      <th>block_flg</th>\n",
       "      <th>blocked_date</th>\n",
       "      <th>block_desc</th>\n",
       "      <th>block_flg_df1</th>\n",
       "      <th>blocked_date_df1</th>\n",
       "      <th>block_desc_df1</th>\n",
       "    </tr>\n",
       "  </thead>\n",
       "  <tbody>\n",
       "  </tbody>\n",
       "</table>\n",
       "</div>"
      ],
      "text/plain": [
       "Empty DataFrame\n",
       "Columns: [project, type, geo, pid, sub, sub_type, block_flg, blocked_date, block_desc, block_flg_df1, blocked_date_df1, block_desc_df1]\n",
       "Index: []"
      ]
     },
     "execution_count": 78,
     "metadata": {},
     "output_type": "execute_result"
    }
   ],
   "source": [
    "#### Кейсы где дужно занулить 2й и 3й флаг, т.к. есть первый(Если такие есть)!!!!\n",
    "merged_df.loc[(merged_df['block_flg_df1'] == 1)]"
   ]
  },
  {
   "cell_type": "code",
   "execution_count": 79,
   "id": "1aca5a40-540f-4419-8ede-0074f60018dc",
   "metadata": {},
   "outputs": [],
   "source": [
    "# Создаем словарь из merged_df (где block_flg == 1)\n",
    "mask = merged_df['block_flg_df1'] == 1\n",
    "pid_to_update = merged_df.loc[mask, ['project', \n",
    "                                     'type', \n",
    "                                     'geo', \n",
    "                                     'pid', \n",
    "                                     'sub', \n",
    "                                     'sub_type']]\n",
    "                          .set_index(\n",
    "                                        ['project', \n",
    "                                         'type', \n",
    "                                         'geo', \n",
    "                                         'pid', \n",
    "                                         'sub', \n",
    "                                         'sub_type']\n",
    ").index\n",
    "\n",
    "# Обновляем block_flg\n",
    "concat_data_payback_NOT_ONE_FLG.loc[\n",
    "    concat_data_payback_NOT_ONE_FLG.set_index(['project', \n",
    "                                               'type', \n",
    "                                               'geo', \n",
    "                                               'pid', \n",
    "                                               'sub', \n",
    "                                               'sub_type']).index.isin(pid_to_update),\n",
    "    'block_flg'\n",
    "] = 0\n"
   ]
  },
  {
   "cell_type": "markdown",
   "id": "64693935-d666-4e91-b99f-72c0a8ba47fa",
   "metadata": {},
   "source": [
    "# объединим все назад в один датасет, что бы не запутаться"
   ]
  },
  {
   "cell_type": "code",
   "execution_count": 81,
   "id": "c8607523-10b7-4bba-90ab-265cdb7f7181",
   "metadata": {},
   "outputs": [],
   "source": [
    "# Объединяем DataFrame по строкам\n",
    "concat_data_payback = pd.concat([concat_data_payback_1_FLG, \n",
    "                                 concat_data_payback_NOT_ONE_FLG], \n",
    "                                ignore_index=True).reset_index(drop=True)\n",
    "concat_data_payback = pd.concat([concat_data_payback, \n",
    "                                 concat_data_payback_ZERO_FLG], \n",
    "                                ignore_index=True).reset_index(drop=True)"
   ]
  },
  {
   "cell_type": "code",
   "execution_count": 82,
   "id": "2019a2e1-c1c3-43f7-8d29-191f92ddf751",
   "metadata": {},
   "outputs": [],
   "source": [
    "assert concat_data_payback.isna().sum().sum() == 0"
   ]
  },
  {
   "cell_type": "code",
   "execution_count": 84,
   "id": "18d32486-1bd2-41b2-96f7-e07d40fddbd2",
   "metadata": {},
   "outputs": [
    {
     "data": {
      "text/html": [
       "<div>\n",
       "<style scoped>\n",
       "    .dataframe tbody tr th:only-of-type {\n",
       "        vertical-align: middle;\n",
       "    }\n",
       "\n",
       "    .dataframe tbody tr th {\n",
       "        vertical-align: top;\n",
       "    }\n",
       "\n",
       "    .dataframe thead th {\n",
       "        text-align: right;\n",
       "    }\n",
       "</style>\n",
       "<table border=\"1\" class=\"dataframe\">\n",
       "  <thead>\n",
       "    <tr style=\"text-align: right;\">\n",
       "      <th></th>\n",
       "      <th>project</th>\n",
       "      <th>type</th>\n",
       "      <th>geo</th>\n",
       "      <th>pid</th>\n",
       "      <th>sub</th>\n",
       "      <th>sub_type</th>\n",
       "      <th>block_flg</th>\n",
       "      <th>blocked_date</th>\n",
       "      <th>block_desc</th>\n",
       "    </tr>\n",
       "  </thead>\n",
       "  <tbody>\n",
       "    <tr>\n",
       "      <th>1880</th>\n",
       "      <td>mb</td>\n",
       "      <td>perform</td>\n",
       "      <td>RU</td>\n",
       "      <td>347114</td>\n",
       "      <td>988</td>\n",
       "      <td>sub2</td>\n",
       "      <td>2</td>\n",
       "      <td>2025-04-23</td>\n",
       "      <td>limit=200</td>\n",
       "    </tr>\n",
       "    <tr>\n",
       "      <th>1881</th>\n",
       "      <td>mb</td>\n",
       "      <td>brand</td>\n",
       "      <td>UZ</td>\n",
       "      <td>321992</td>\n",
       "      <td>charos__gafurova</td>\n",
       "      <td>sub3</td>\n",
       "      <td>2</td>\n",
       "      <td>2025-05-07</td>\n",
       "      <td>limit=1100; речек 04.06.2025</td>\n",
       "    </tr>\n",
       "    <tr>\n",
       "      <th>1882</th>\n",
       "      <td>mb</td>\n",
       "      <td>perform</td>\n",
       "      <td>RU</td>\n",
       "      <td>114170</td>\n",
       "      <td>st346</td>\n",
       "      <td>sub2</td>\n",
       "      <td>2</td>\n",
       "      <td>2025-05-21</td>\n",
       "      <td>limit=3800; речек 18.06.2025</td>\n",
       "    </tr>\n",
       "    <tr>\n",
       "      <th>1883</th>\n",
       "      <td>mb</td>\n",
       "      <td>brand</td>\n",
       "      <td>BD</td>\n",
       "      <td>340702</td>\n",
       "      <td>1913</td>\n",
       "      <td>sub2</td>\n",
       "      <td>2</td>\n",
       "      <td>2025-05-21</td>\n",
       "      <td>limit=1200; речек 18.06.2025</td>\n",
       "    </tr>\n",
       "    <tr>\n",
       "      <th>1884</th>\n",
       "      <td>mb</td>\n",
       "      <td>perform</td>\n",
       "      <td>PT</td>\n",
       "      <td>295150</td>\n",
       "      <td></td>\n",
       "      <td></td>\n",
       "      <td>2</td>\n",
       "      <td>2025-05-21</td>\n",
       "      <td>limit=7500; речек 04.06.2025</td>\n",
       "    </tr>\n",
       "  </tbody>\n",
       "</table>\n",
       "</div>"
      ],
      "text/plain": [
       "     project     type geo     pid               sub sub_type  block_flg  \\\n",
       "1880      mb  perform  RU  347114               988     sub2          2   \n",
       "1881      mb    brand  UZ  321992  charos__gafurova     sub3          2   \n",
       "1882      mb  perform  RU  114170             st346     sub2          2   \n",
       "1883      mb    brand  BD  340702              1913     sub2          2   \n",
       "1884      mb  perform  PT  295150                                     2   \n",
       "\n",
       "     blocked_date                    block_desc  \n",
       "1880   2025-04-23                     limit=200  \n",
       "1881   2025-05-07  limit=1100; речек 04.06.2025  \n",
       "1882   2025-05-21  limit=3800; речек 18.06.2025  \n",
       "1883   2025-05-21  limit=1200; речек 18.06.2025  \n",
       "1884   2025-05-21  limit=7500; речек 04.06.2025  "
      ]
     },
     "execution_count": 84,
     "metadata": {},
     "output_type": "execute_result"
    }
   ],
   "source": [
    "concat_data_payback[concat_data_payback['block_flg'] == 2].head()"
   ]
  },
  {
   "cell_type": "markdown",
   "id": "a186b7a5-9401-4304-bbf4-ea8d1493f86e",
   "metadata": {},
   "source": [
    "# Занулим флаг 2 для дублей, если они есть во флаге 3"
   ]
  },
  {
   "cell_type": "code",
   "execution_count": 85,
   "id": "4cfb7037-e210-4129-9ee1-9f7ff55808d0",
   "metadata": {},
   "outputs": [],
   "source": [
    "concat_data_payback_2_FLG = (\n",
    "                                concat_data_payback[\n",
    "                                    concat_data_payback['block_flg'] == 2]\n",
    "                                .reset_index(drop=True)\n",
    "                                    )\n",
    "concat_data_payback_3_FLG = (\n",
    "                                concat_data_payback[\n",
    "                                    concat_data_payback['block_flg'] == 3]\n",
    "                                .reset_index(drop=True)\n",
    "                                    )\n",
    "\n",
    "\n",
    "concat_data_payback_1_0_FLG = (concat_data_payback.loc[\n",
    "                                                        (concat_data_payback['block_flg'] != 2) \n",
    "                                                      & (concat_data_payback['block_flg'] != 3)\n",
    "                                                    ].reset_index(drop=True)\n",
    "                                      )"
   ]
  },
  {
   "cell_type": "code",
   "execution_count": null,
   "id": "b6856992-0b81-49be-a13e-c6b940759736",
   "metadata": {},
   "outputs": [],
   "source": []
  },
  {
   "cell_type": "code",
   "execution_count": 86,
   "id": "ec5f8fea-7efc-4bf2-a935-7296f6a21b9f",
   "metadata": {},
   "outputs": [],
   "source": [
    "# Объединение по ключевым столбцам\n",
    "merged_df = concat_data_payback_2_FLG.merge(concat_data_payback_3_FLG, on=['project', \n",
    "                                                                           'type', \n",
    "                                                                           'geo', \n",
    "                                                                           'pid', \n",
    "                                                                           'sub', \n",
    "                                                                           'sub_type'], \n",
    "                                            how='left', \n",
    "                                            suffixes=('', '_df1')\n",
    "                                                   )\n"
   ]
  },
  {
   "cell_type": "code",
   "execution_count": 88,
   "id": "c506d667-d959-49a7-b790-3fe9d8cb44f6",
   "metadata": {},
   "outputs": [],
   "source": [
    "# По аналогии\n",
    "mask = merged_df['block_flg_df1'] == 3\n",
    "pid_to_update = merged_df.loc[mask, ['project', \n",
    "                                     'type', \n",
    "                                     'geo', \n",
    "                                     'pid', \n",
    "                                     'sub', \n",
    "                                     'sub_type']]\n",
    "                         .set_index(\n",
    "                                    ['project', \n",
    "                                     'type', \n",
    "                                     'geo', \n",
    "                                     'pid', \n",
    "                                     'sub', \n",
    "                                     'sub_type']\n",
    ").index\n",
    "\n",
    "# Обновляем block_flg в concat_data_payback_2_FLG\n",
    "concat_data_payback_2_FLG.loc[\n",
    "    concat_data_payback_2_FLG.set_index(['project', \n",
    "                                         'type', \n",
    "                                         'geo', \n",
    "                                         'pid', \n",
    "                                         'sub', \n",
    "                                         'sub_type'])\n",
    "    .index.isin(pid_to_update),\n",
    "    'block_flg'\n",
    "] = 0\n"
   ]
  },
  {
   "cell_type": "code",
   "execution_count": 90,
   "id": "67dc564f-aee1-4bd2-af21-34418595b34c",
   "metadata": {},
   "outputs": [],
   "source": [
    "# Объединяем DataFrame по строкам\n",
    "concat_data_payback = pd.concat([concat_data_payback_2_FLG, \n",
    "                                 concat_data_payback_3_FLG], \n",
    "                                ignore_index=True).reset_index(drop=True)\n",
    "# Объединяем DataFrame по строкам\n",
    "concat_data_payback = pd.concat([concat_data_payback, \n",
    "                                 concat_data_payback_1_0_FLG], \n",
    "                                ignore_index=True).reset_index(drop=True)"
   ]
  },
  {
   "cell_type": "code",
   "execution_count": 91,
   "id": "3a13c1c7-f209-4cb0-b35d-d682a0f140fb",
   "metadata": {},
   "outputs": [],
   "source": [
    "assert (concat_data_payback.shape[0] == (concat_data_payback_2_FLG.shape[0] \n",
    "                                      +  concat_data_payback_3_FLG.shape[0] \n",
    "                                      + concat_data_payback_1_0_FLG.shape[0]\n",
    "                                            )\n",
    "               )\n",
    "\n",
    "assert concat_data_payback.isna().sum().sum() == 0"
   ]
  },
  {
   "cell_type": "code",
   "execution_count": 94,
   "id": "89dc54dd-8d8c-494e-99cb-e83865ff60b1",
   "metadata": {},
   "outputs": [
    {
     "data": {
      "text/html": [
       "<div>\n",
       "<style scoped>\n",
       "    .dataframe tbody tr th:only-of-type {\n",
       "        vertical-align: middle;\n",
       "    }\n",
       "\n",
       "    .dataframe tbody tr th {\n",
       "        vertical-align: top;\n",
       "    }\n",
       "\n",
       "    .dataframe thead th {\n",
       "        text-align: right;\n",
       "    }\n",
       "</style>\n",
       "<table border=\"1\" class=\"dataframe\">\n",
       "  <thead>\n",
       "    <tr style=\"text-align: right;\">\n",
       "      <th></th>\n",
       "      <th>project</th>\n",
       "      <th>type</th>\n",
       "      <th>geo</th>\n",
       "      <th>pid</th>\n",
       "      <th>sub</th>\n",
       "      <th>sub_type</th>\n",
       "      <th>block_flg</th>\n",
       "      <th>blocked_date</th>\n",
       "      <th>block_desc</th>\n",
       "    </tr>\n",
       "  </thead>\n",
       "  <tbody>\n",
       "    <tr>\n",
       "      <th>0</th>\n",
       "      <td>mb</td>\n",
       "      <td>perform</td>\n",
       "      <td>RU</td>\n",
       "      <td>347114</td>\n",
       "      <td>988</td>\n",
       "      <td>sub2</td>\n",
       "      <td>2</td>\n",
       "      <td>2025-04-23</td>\n",
       "      <td>limit=200</td>\n",
       "    </tr>\n",
       "    <tr>\n",
       "      <th>1</th>\n",
       "      <td>mb</td>\n",
       "      <td>brand</td>\n",
       "      <td>UZ</td>\n",
       "      <td>321992</td>\n",
       "      <td>charos__gafurova</td>\n",
       "      <td>sub3</td>\n",
       "      <td>2</td>\n",
       "      <td>2025-05-07</td>\n",
       "      <td>limit=1100; речек 04.06.2025</td>\n",
       "    </tr>\n",
       "    <tr>\n",
       "      <th>2</th>\n",
       "      <td>mb</td>\n",
       "      <td>perform</td>\n",
       "      <td>RU</td>\n",
       "      <td>114170</td>\n",
       "      <td>st346</td>\n",
       "      <td>sub2</td>\n",
       "      <td>2</td>\n",
       "      <td>2025-05-21</td>\n",
       "      <td>limit=3800; речек 18.06.2025</td>\n",
       "    </tr>\n",
       "    <tr>\n",
       "      <th>3</th>\n",
       "      <td>mb</td>\n",
       "      <td>brand</td>\n",
       "      <td>BD</td>\n",
       "      <td>340702</td>\n",
       "      <td>1913</td>\n",
       "      <td>sub2</td>\n",
       "      <td>2</td>\n",
       "      <td>2025-05-21</td>\n",
       "      <td>limit=1200; речек 18.06.2025</td>\n",
       "    </tr>\n",
       "    <tr>\n",
       "      <th>4</th>\n",
       "      <td>mb</td>\n",
       "      <td>perform</td>\n",
       "      <td>PT</td>\n",
       "      <td>295150</td>\n",
       "      <td></td>\n",
       "      <td></td>\n",
       "      <td>2</td>\n",
       "      <td>2025-05-21</td>\n",
       "      <td>limit=7500; речек 04.06.2025</td>\n",
       "    </tr>\n",
       "  </tbody>\n",
       "</table>\n",
       "</div>"
      ],
      "text/plain": [
       "  project     type geo     pid               sub sub_type  block_flg  \\\n",
       "0      mb  perform  RU  347114               988     sub2          2   \n",
       "1      mb    brand  UZ  321992  charos__gafurova     sub3          2   \n",
       "2      mb  perform  RU  114170             st346     sub2          2   \n",
       "3      mb    brand  BD  340702              1913     sub2          2   \n",
       "4      mb  perform  PT  295150                                     2   \n",
       "\n",
       "  blocked_date                    block_desc  \n",
       "0   2025-04-23                     limit=200  \n",
       "1   2025-05-07  limit=1100; речек 04.06.2025  \n",
       "2   2025-05-21  limit=3800; речек 18.06.2025  \n",
       "3   2025-05-21  limit=1200; речек 18.06.2025  \n",
       "4   2025-05-21  limit=7500; речек 04.06.2025  "
      ]
     },
     "execution_count": 94,
     "metadata": {},
     "output_type": "execute_result"
    }
   ],
   "source": [
    "# Визуальный осмотр\n",
    "concat_data_payback[concat_data_payback['block_flg'] == 2].head()"
   ]
  },
  {
   "cell_type": "markdown",
   "id": "d50e185b-d847-4e1b-a0b5-c7481c522ac7",
   "metadata": {},
   "source": [
    "# Добавление новых записей из таблицы Антифрода по заблокированным АФ источникам:"
   ]
  },
  {
   "cell_type": "code",
   "execution_count": 97,
   "id": "38a2382f-f8ca-43e1-80a5-33e50e2c6a48",
   "metadata": {},
   "outputs": [],
   "source": [
    "true_columns_list = list(concat_data_payback.columns)"
   ]
  },
  {
   "cell_type": "code",
   "execution_count": 98,
   "id": "7feb5b39-52ec-455e-ad8d-749ff1d48f46",
   "metadata": {},
   "outputs": [
    {
     "name": "stderr",
     "output_type": "stream",
     "text": [
      "/home/jovyan/work/!!!!!Новые_Красные_вебы!!!!!!/!!!ПАПКА_С_ИТОГОВЫМ_ВАРИАНТОМ_РАБОТЫ/!!!ДЛЯ_АНТИФРОДА_ЗАБЛОКИРОВАННЫЕ_ВЕБЫ/functions_dwh.py:30: UserWarning: pandas only supports SQLAlchemy connectable (engine/connection) or database string URI or sqlite3 DBAPI2 connection. Other DBAPI2 objects are not tested. Please consider using SQLAlchemy.\n",
      "  df = pd.read_sql(query, con=engine)\n"
     ]
    }
   ],
   "source": [
    "strange_partners_try = pg_query_mostbetcom(f\"\"\"\n",
    "                                            SELECT \n",
    "                                                    partner_id, \n",
    "                                                    updated_dwh as updated_at, \n",
    "                                                    traffic_source, \n",
    "                                                    geo, \n",
    "                                                    case \n",
    "                                                        when sub in ('NA', 'ALL') \n",
    "                                                        then '' else sub end sub\n",
    "                                                FROM web_analytics.antifraud.strange_partners\n",
    "                                                WHERE decision = 'Блокировка АФ' --is_fraud_af=1\n",
    "                                                ORDER BY updated_at desc\n",
    "                                                    \"\"\").fillna('')"
   ]
  },
  {
   "cell_type": "code",
   "execution_count": 99,
   "id": "c57605f4-e063-4707-9533-bfec56789273",
   "metadata": {},
   "outputs": [],
   "source": [
    "assert strange_partners_try.shape[0] != 0"
   ]
  },
  {
   "cell_type": "code",
   "execution_count": 100,
   "id": "d7694fea-647c-4a4f-aba2-9e5400762fdd",
   "metadata": {},
   "outputs": [],
   "source": [
    "strange_partners_try = (strange_partners_try[strange_partners_try['updated_at'].notna()]\n",
    "                        .reset_index(drop=True)\n",
    "                               )"
   ]
  },
  {
   "cell_type": "code",
   "execution_count": 101,
   "id": "66cf73f6-ed98-4267-8661-9c6927aba040",
   "metadata": {},
   "outputs": [
    {
     "data": {
      "text/html": [
       "<div>\n",
       "<style scoped>\n",
       "    .dataframe tbody tr th:only-of-type {\n",
       "        vertical-align: middle;\n",
       "    }\n",
       "\n",
       "    .dataframe tbody tr th {\n",
       "        vertical-align: top;\n",
       "    }\n",
       "\n",
       "    .dataframe thead th {\n",
       "        text-align: right;\n",
       "    }\n",
       "</style>\n",
       "<table border=\"1\" class=\"dataframe\">\n",
       "  <thead>\n",
       "    <tr style=\"text-align: right;\">\n",
       "      <th></th>\n",
       "      <th>partner_id</th>\n",
       "      <th>updated_at</th>\n",
       "      <th>traffic_source</th>\n",
       "      <th>geo</th>\n",
       "      <th>sub</th>\n",
       "    </tr>\n",
       "  </thead>\n",
       "  <tbody>\n",
       "    <tr>\n",
       "      <th>0</th>\n",
       "      <td>49534</td>\n",
       "      <td>2025-06-18 18:29:09.952824</td>\n",
       "      <td></td>\n",
       "      <td>IN</td>\n",
       "      <td>23044</td>\n",
       "    </tr>\n",
       "  </tbody>\n",
       "</table>\n",
       "</div>"
      ],
      "text/plain": [
       "   partner_id                 updated_at traffic_source geo    sub\n",
       "0       49534 2025-06-18 18:29:09.952824                 IN  23044"
      ]
     },
     "execution_count": 101,
     "metadata": {},
     "output_type": "execute_result"
    }
   ],
   "source": [
    "strange_partners_try.head(1)"
   ]
  },
  {
   "cell_type": "code",
   "execution_count": 102,
   "id": "10a45264-af26-442e-8e01-d4bbf50dc496",
   "metadata": {},
   "outputs": [],
   "source": [
    "strange_partners_try = strange_partners_try[['geo', \n",
    "                                             'partner_id', \n",
    "                                             'sub', \n",
    "                                             'updated_at']].copy()"
   ]
  },
  {
   "cell_type": "code",
   "execution_count": 103,
   "id": "b974a803-f0ff-4c7a-bb33-02c5bba8ca8f",
   "metadata": {},
   "outputs": [],
   "source": [
    "strange_partners_try['block_desc'] = 'Антифрод: Заблокировано'"
   ]
  },
  {
   "cell_type": "code",
   "execution_count": 104,
   "id": "5765a654-56a0-467b-a7c7-ed05b0244930",
   "metadata": {},
   "outputs": [],
   "source": [
    "strange_partners_try = strange_partners_try.astype({\n",
    "    'geo': 'str',\n",
    "    'partner_id': 'int64',\n",
    "    'sub': 'str',\n",
    "    'updated_at': 'datetime64[ns]',\n",
    "    'block_desc': 'str'\n",
    "})\n",
    "\n",
    "assert strange_partners_try.isna().sum().sum() == 0"
   ]
  },
  {
   "cell_type": "code",
   "execution_count": 105,
   "id": "693b7da6-9d83-43ce-8a7a-6c61b66ee2b8",
   "metadata": {},
   "outputs": [],
   "source": [
    "### подгрузка инфо\n",
    "# список партнеров продукта\n",
    "mediabuying_info = ch_query_DWH2(f\"\"\"\n",
    "    SELECT *\n",
    "        FROM reports.mediabuying_info\n",
    "        WHERE business_unit ILIKE '%acqu%'\n",
    "\"\"\").fillna('')"
   ]
  },
  {
   "cell_type": "code",
   "execution_count": 106,
   "id": "d56a1635-d26b-46e9-9bf4-8eba817cb015",
   "metadata": {},
   "outputs": [],
   "source": [
    "mediabuying_info = mediabuying_info[['site', 'partner_id', 'geo', 'sub_type', 'type']].copy()"
   ]
  },
  {
   "cell_type": "code",
   "execution_count": 107,
   "id": "a9ee88de-a1f3-4d95-b3e2-45164ccd1970",
   "metadata": {},
   "outputs": [],
   "source": [
    "# Функция для присвоения значений новой колонке\n",
    "def assign_value(row):\n",
    "    if row['site'] == 'Mos':\n",
    "        return 'mb'\n",
    "    elif row['site'] == 'Beta':\n",
    "        return 'ba'\n",
    "    elif row['site'] == 'Bnai':\n",
    "        return 'bnai'    \n",
    "    else:\n",
    "        return 'vi'  \n",
    "\n",
    "# Применение функции к DataFrame для создания новой колонки\n",
    "mediabuying_info['project'] = mediabuying_info.apply(assign_value, axis=1)\n",
    "__mediabuying_info__ = mediabuying_info.copy()\n",
    "__mediabuying_info__['project'] = __mediabuying_info__.apply(assign_value, axis=1)"
   ]
  },
  {
   "cell_type": "code",
   "execution_count": 108,
   "id": "49675a4b-a96b-476d-bbef-b87b2f4009e8",
   "metadata": {},
   "outputs": [],
   "source": [
    "mediabuying_info = mediabuying_info[['project', \n",
    "                                     'type', \n",
    "                                     'geo', \n",
    "                                     'partner_id', \n",
    "                                     'sub_type']].copy()"
   ]
  },
  {
   "cell_type": "code",
   "execution_count": 109,
   "id": "546c4706-c78d-4459-a5ee-db4a18df7d88",
   "metadata": {},
   "outputs": [],
   "source": [
    "mediabuying_info_MONO_GEO = mediabuying_info[mediabuying_info['geo'] != 'Multigeo'].reset_index(drop=True)"
   ]
  },
  {
   "cell_type": "code",
   "execution_count": 110,
   "id": "934026b6-ad98-426d-80df-90df0d0a2781",
   "metadata": {},
   "outputs": [],
   "source": [
    "strange_partners_TRUE = mediabuying_info_MONO_GEO.merge(strange_partners_try[['geo', \n",
    "                                                                              'partner_id', \n",
    "                                                                              'sub', \n",
    "                                                                              'updated_at', \n",
    "                                                                              'block_desc']], \n",
    "                                                        on=['partner_id', \n",
    "                                                            'geo'], \n",
    "                                                        how='left')"
   ]
  },
  {
   "cell_type": "code",
   "execution_count": 111,
   "id": "bb25e51b-0765-4a72-bb85-4a997a86b429",
   "metadata": {},
   "outputs": [],
   "source": [
    "## фильтр значений не являющихся пустыми\n",
    "strange_partners_TRUE = strange_partners_TRUE[strange_partners_TRUE['sub'].notna()]"
   ]
  },
  {
   "cell_type": "code",
   "execution_count": 112,
   "id": "c66000de-4cd7-4713-9cf5-a2442046bbaf",
   "metadata": {},
   "outputs": [
    {
     "data": {
      "text/html": [
       "<div>\n",
       "<style scoped>\n",
       "    .dataframe tbody tr th:only-of-type {\n",
       "        vertical-align: middle;\n",
       "    }\n",
       "\n",
       "    .dataframe tbody tr th {\n",
       "        vertical-align: top;\n",
       "    }\n",
       "\n",
       "    .dataframe thead th {\n",
       "        text-align: right;\n",
       "    }\n",
       "</style>\n",
       "<table border=\"1\" class=\"dataframe\">\n",
       "  <thead>\n",
       "    <tr style=\"text-align: right;\">\n",
       "      <th></th>\n",
       "      <th>project</th>\n",
       "      <th>type</th>\n",
       "      <th>geo</th>\n",
       "      <th>partner_id</th>\n",
       "      <th>sub_type</th>\n",
       "      <th>sub</th>\n",
       "      <th>updated_at</th>\n",
       "      <th>block_desc</th>\n",
       "    </tr>\n",
       "  </thead>\n",
       "  <tbody>\n",
       "    <tr>\n",
       "      <th>138</th>\n",
       "      <td>mb</td>\n",
       "      <td>perform</td>\n",
       "      <td>RU</td>\n",
       "      <td>114170</td>\n",
       "      <td>sub2</td>\n",
       "      <td>1901</td>\n",
       "      <td>2025-02-28 19:58:03.888546</td>\n",
       "      <td>Антифрод: Заблокировано</td>\n",
       "    </tr>\n",
       "  </tbody>\n",
       "</table>\n",
       "</div>"
      ],
      "text/plain": [
       "    project     type geo  partner_id sub_type   sub  \\\n",
       "138      mb  perform  RU      114170     sub2  1901   \n",
       "\n",
       "                    updated_at               block_desc  \n",
       "138 2025-02-28 19:58:03.888546  Антифрод: Заблокировано  "
      ]
     },
     "execution_count": 112,
     "metadata": {},
     "output_type": "execute_result"
    }
   ],
   "source": [
    "## проверка дублей в таблице АФ\n",
    "strange_partners_TRUE[strange_partners_TRUE.duplicated()]"
   ]
  },
  {
   "cell_type": "code",
   "execution_count": 113,
   "id": "86e6aafa-5164-472e-bb85-d1d16bb9677f",
   "metadata": {},
   "outputs": [
    {
     "data": {
      "text/html": [
       "<div>\n",
       "<style scoped>\n",
       "    .dataframe tbody tr th:only-of-type {\n",
       "        vertical-align: middle;\n",
       "    }\n",
       "\n",
       "    .dataframe tbody tr th {\n",
       "        vertical-align: top;\n",
       "    }\n",
       "\n",
       "    .dataframe thead th {\n",
       "        text-align: right;\n",
       "    }\n",
       "</style>\n",
       "<table border=\"1\" class=\"dataframe\">\n",
       "  <thead>\n",
       "    <tr style=\"text-align: right;\">\n",
       "      <th></th>\n",
       "      <th>project</th>\n",
       "      <th>type</th>\n",
       "      <th>geo</th>\n",
       "      <th>partner_id</th>\n",
       "      <th>sub_type</th>\n",
       "      <th>sub</th>\n",
       "      <th>updated_at</th>\n",
       "      <th>block_desc</th>\n",
       "    </tr>\n",
       "  </thead>\n",
       "  <tbody>\n",
       "    <tr>\n",
       "      <th>186</th>\n",
       "      <td>ba</td>\n",
       "      <td>perform</td>\n",
       "      <td>AZ</td>\n",
       "      <td>139509</td>\n",
       "      <td>sub3</td>\n",
       "      <td>BA</td>\n",
       "      <td>2025-02-28 19:58:03.888546</td>\n",
       "      <td>Антифрод: Заблокировано</td>\n",
       "    </tr>\n",
       "    <tr>\n",
       "      <th>187</th>\n",
       "      <td>ba</td>\n",
       "      <td>perform</td>\n",
       "      <td>AZ</td>\n",
       "      <td>139513</td>\n",
       "      <td>sub3</td>\n",
       "      <td>BA</td>\n",
       "      <td>2025-02-28 19:58:03.888546</td>\n",
       "      <td>Антифрод: Заблокировано</td>\n",
       "    </tr>\n",
       "  </tbody>\n",
       "</table>\n",
       "</div>"
      ],
      "text/plain": [
       "    project     type geo  partner_id sub_type sub                 updated_at  \\\n",
       "186      ba  perform  AZ      139509     sub3  BA 2025-02-28 19:58:03.888546   \n",
       "187      ba  perform  AZ      139513     sub3  BA 2025-02-28 19:58:03.888546   \n",
       "\n",
       "                  block_desc  \n",
       "186  Антифрод: Заблокировано  \n",
       "187  Антифрод: Заблокировано  "
      ]
     },
     "execution_count": 113,
     "metadata": {},
     "output_type": "execute_result"
    }
   ],
   "source": [
    "## детальная проверка дублей (Необходимо выяснить отдельно причину их появления)\n",
    "strange_partners_TRUE.loc[(strange_partners_TRUE['sub'].isin(['BA', '9136']))]"
   ]
  },
  {
   "cell_type": "code",
   "execution_count": 114,
   "id": "111cbe83-67fc-4782-9a39-c1ce1796d4e4",
   "metadata": {},
   "outputs": [
    {
     "data": {
      "text/plain": [
       "187"
      ]
     },
     "execution_count": 114,
     "metadata": {},
     "output_type": "execute_result"
    }
   ],
   "source": [
    "strange_partners_TRUE.shape[0]"
   ]
  },
  {
   "cell_type": "code",
   "execution_count": 115,
   "id": "967cdd12-a976-444b-bbce-eefd185f2b07",
   "metadata": {},
   "outputs": [],
   "source": [
    "### удаление дубликатов\n",
    "strange_partners_TRUE = strange_partners_TRUE.drop_duplicates().reset_index(drop=True)\n",
    "\n"
   ]
  },
  {
   "cell_type": "code",
   "execution_count": 116,
   "id": "bbb284f6-c2d1-4933-a0ae-edb29f363514",
   "metadata": {},
   "outputs": [
    {
     "data": {
      "text/plain": [
       "186"
      ]
     },
     "execution_count": 116,
     "metadata": {},
     "output_type": "execute_result"
    }
   ],
   "source": [
    "strange_partners_TRUE.shape[0]"
   ]
  },
  {
   "cell_type": "code",
   "execution_count": 117,
   "id": "60d74c5d-4a3a-476f-a7c3-a8e12448109e",
   "metadata": {},
   "outputs": [],
   "source": [
    "#### Теперь нужно добавить мультигео пидов"
   ]
  },
  {
   "cell_type": "code",
   "execution_count": 118,
   "id": "cc102fb4-20e7-4282-8154-55afdd88f12d",
   "metadata": {},
   "outputs": [],
   "source": [
    "mediabuying_info_Multigeo = mediabuying_info[mediabuying_info['geo'] == 'Multigeo'].reset_index(drop=True)"
   ]
  },
  {
   "cell_type": "code",
   "execution_count": 119,
   "id": "41200069-abc9-4bcc-b255-8facbcad2500",
   "metadata": {},
   "outputs": [],
   "source": [
    "strange_partners_Multigeo = (strange_partners_try.loc[strange_partners_try['partner_id']\n",
    "                              .isin(list(mediabuying_info_Multigeo['partner_id'].unique()))]\n",
    "                              .reset_index(drop=True)\n",
    "                                    )"
   ]
  },
  {
   "cell_type": "code",
   "execution_count": 120,
   "id": "9937252b-dd18-46a0-94ac-64ef75eb461f",
   "metadata": {},
   "outputs": [
    {
     "data": {
      "text/html": [
       "<div>\n",
       "<style scoped>\n",
       "    .dataframe tbody tr th:only-of-type {\n",
       "        vertical-align: middle;\n",
       "    }\n",
       "\n",
       "    .dataframe tbody tr th {\n",
       "        vertical-align: top;\n",
       "    }\n",
       "\n",
       "    .dataframe thead th {\n",
       "        text-align: right;\n",
       "    }\n",
       "</style>\n",
       "<table border=\"1\" class=\"dataframe\">\n",
       "  <thead>\n",
       "    <tr style=\"text-align: right;\">\n",
       "      <th></th>\n",
       "      <th>geo</th>\n",
       "      <th>partner_id</th>\n",
       "      <th>sub</th>\n",
       "      <th>updated_at</th>\n",
       "      <th>block_desc</th>\n",
       "    </tr>\n",
       "  </thead>\n",
       "  <tbody>\n",
       "    <tr>\n",
       "      <th>0</th>\n",
       "      <td>RU</td>\n",
       "      <td>229549</td>\n",
       "      <td>1782</td>\n",
       "      <td>2025-03-21 14:39:00.212406</td>\n",
       "      <td>Антифрод: Заблокировано</td>\n",
       "    </tr>\n",
       "    <tr>\n",
       "      <th>1</th>\n",
       "      <td>BD</td>\n",
       "      <td>295150</td>\n",
       "      <td>BRpwaMBD013</td>\n",
       "      <td>2025-02-28 19:58:03.888546</td>\n",
       "      <td>Антифрод: Заблокировано</td>\n",
       "    </tr>\n",
       "  </tbody>\n",
       "</table>\n",
       "</div>"
      ],
      "text/plain": [
       "  geo  partner_id          sub                 updated_at  \\\n",
       "0  RU      229549         1782 2025-03-21 14:39:00.212406   \n",
       "1  BD      295150  BRpwaMBD013 2025-02-28 19:58:03.888546   \n",
       "\n",
       "                block_desc  \n",
       "0  Антифрод: Заблокировано  \n",
       "1  Антифрод: Заблокировано  "
      ]
     },
     "execution_count": 120,
     "metadata": {},
     "output_type": "execute_result"
    }
   ],
   "source": [
    "strange_partners_Multigeo"
   ]
  },
  {
   "cell_type": "code",
   "execution_count": 121,
   "id": "d321d154-0fa3-407a-8778-caa3b89a38fe",
   "metadata": {},
   "outputs": [
    {
     "data": {
      "text/plain": [
       "2"
      ]
     },
     "execution_count": 121,
     "metadata": {},
     "output_type": "execute_result"
    }
   ],
   "source": [
    "strange_partners_Multigeo.shape[0]"
   ]
  },
  {
   "cell_type": "code",
   "execution_count": 122,
   "id": "a19a1e12-70b0-4cb4-bad0-426360de4dc0",
   "metadata": {},
   "outputs": [],
   "source": [
    "strange_partners_Multigeo = strange_partners_Multigeo.merge(mediabuying_info_Multigeo[['project', \n",
    "                                                                                       'type', \n",
    "                                                                                       'partner_id', \n",
    "                                                                                       'sub_type']], \n",
    "                                                            on=['partner_id'], \n",
    "                                                            how='left')"
   ]
  },
  {
   "cell_type": "code",
   "execution_count": 123,
   "id": "5631aa4d-7cf9-4c12-b0d1-2b9512cba172",
   "metadata": {},
   "outputs": [
    {
     "data": {
      "text/plain": [
       "2"
      ]
     },
     "execution_count": 123,
     "metadata": {},
     "output_type": "execute_result"
    }
   ],
   "source": [
    "strange_partners_Multigeo.shape[0]"
   ]
  },
  {
   "cell_type": "code",
   "execution_count": 124,
   "id": "d312753e-3204-45eb-a3ee-0852997dbc71",
   "metadata": {},
   "outputs": [],
   "source": [
    "strange_partners_Multigeo = strange_partners_Multigeo.rename(columns={'updated_at': 'blocked_date',\n",
    "                                                                       'partner_id': 'pid'})\n",
    "\n",
    "strange_partners_TRUE = strange_partners_TRUE.rename(columns={'updated_at': 'blocked_date',\n",
    "                                                               'partner_id': 'pid'})"
   ]
  },
  {
   "cell_type": "code",
   "execution_count": 125,
   "id": "216501a6-04df-4c82-be77-2d26ee376d6f",
   "metadata": {},
   "outputs": [],
   "source": [
    "strange_partners_Multigeo['block_flg'] = 1\n",
    "strange_partners_TRUE['block_flg'] = 1"
   ]
  },
  {
   "cell_type": "code",
   "execution_count": 126,
   "id": "21ecb74c-1101-4554-ba67-8477ba2a5391",
   "metadata": {},
   "outputs": [],
   "source": [
    "strange_partners_Multigeo = strange_partners_Multigeo[true_columns_list].copy()\n",
    "\n",
    "strange_partners_TRUE = strange_partners_TRUE[true_columns_list].copy()"
   ]
  },
  {
   "cell_type": "code",
   "execution_count": 127,
   "id": "8c4ef4fc-cd68-4c4f-a452-b80cf85c6821",
   "metadata": {},
   "outputs": [],
   "source": [
    "strange_partners_Multigeo = strange_partners_Multigeo.astype({\n",
    "    'project': 'str',\n",
    "    'type': 'str',\n",
    "    'geo': 'str',\n",
    "    'pid': 'int64',\n",
    "    'sub': 'str',\n",
    "    'sub_type': 'str',\n",
    "    'block_flg': 'int64',\n",
    "    'blocked_date': 'datetime64[ns]',\n",
    "    'block_desc': 'str'\n",
    "})\n",
    "\n",
    "assert strange_partners_Multigeo.isna().sum().sum() == 0\n",
    "\n",
    "\n",
    "strange_partners_TRUE = strange_partners_TRUE.astype({\n",
    "    'project': 'str',\n",
    "    'type': 'str',\n",
    "    'geo': 'str',\n",
    "    'pid': 'int64',\n",
    "    'sub': 'str',\n",
    "    'sub_type': 'str',\n",
    "    'block_flg': 'int64',\n",
    "    'blocked_date': 'datetime64[ns]',\n",
    "    'block_desc': 'str'\n",
    "})\n",
    "\n",
    "assert strange_partners_TRUE.isna().sum().sum() == 0"
   ]
  },
  {
   "cell_type": "code",
   "execution_count": 128,
   "id": "a38e863b-e5a5-408d-ac88-c5e9e6c122ce",
   "metadata": {},
   "outputs": [],
   "source": [
    "_strange_partners_TRUE_ = pd.concat([strange_partners_TRUE, \n",
    "                                     strange_partners_Multigeo], \n",
    "                                    ignore_index=True)"
   ]
  },
  {
   "cell_type": "code",
   "execution_count": 129,
   "id": "231a25d4-b1fb-40e9-835f-9a9f419384a0",
   "metadata": {},
   "outputs": [],
   "source": [
    "assert _strange_partners_TRUE_.shape[0] == (\n",
    "                                            strange_partners_TRUE.shape[0] \n",
    "                                          + strange_partners_Multigeo.shape[0]\n",
    "                                                   )"
   ]
  },
  {
   "cell_type": "code",
   "execution_count": 130,
   "id": "bda8525f-0088-4b49-a148-a176504dd040",
   "metadata": {},
   "outputs": [],
   "source": [
    "\n",
    "_strange_partners_TRUE_ = _strange_partners_TRUE_.astype({\n",
    "    'project': 'str',\n",
    "    'type': 'str',\n",
    "    'geo': 'str',\n",
    "    'pid': 'int64',\n",
    "    'sub': 'str',\n",
    "    'sub_type': 'str',\n",
    "    'block_flg': 'int64',\n",
    "    'blocked_date': 'datetime64[ns]',\n",
    "    'block_desc': 'str'\n",
    "})\n",
    "\n",
    "assert _strange_partners_TRUE_.isna().sum().sum() == 0"
   ]
  },
  {
   "cell_type": "code",
   "execution_count": 131,
   "id": "1d2c902c-37a4-4b3f-b8fb-c6d190a9e44f",
   "metadata": {},
   "outputs": [],
   "source": [
    "###### Удалим возможные дубли по АФ\n",
    "_strange_partners_TRUE_ = _strange_partners_TRUE_.drop_duplicates().reset_index(drop=True)"
   ]
  },
  {
   "cell_type": "code",
   "execution_count": 132,
   "id": "859f5f25-874e-4446-a5d2-b44e5f29a03d",
   "metadata": {},
   "outputs": [],
   "source": [
    "_strange_partners_TRUE_['block_flg'] = 4"
   ]
  },
  {
   "cell_type": "code",
   "execution_count": 133,
   "id": "a4683e53-2d24-4b7d-b422-03ab614ba482",
   "metadata": {},
   "outputs": [
    {
     "data": {
      "text/plain": [
       "array(['Антифрод: Заблокировано'], dtype=object)"
      ]
     },
     "execution_count": 133,
     "metadata": {},
     "output_type": "execute_result"
    }
   ],
   "source": [
    "_strange_partners_TRUE_['block_desc'].unique()"
   ]
  },
  {
   "cell_type": "code",
   "execution_count": 134,
   "id": "6e7b9299-001f-47b5-a74e-8aa454c1bb36",
   "metadata": {},
   "outputs": [
    {
     "data": {
      "text/html": [
       "<div>\n",
       "<style scoped>\n",
       "    .dataframe tbody tr th:only-of-type {\n",
       "        vertical-align: middle;\n",
       "    }\n",
       "\n",
       "    .dataframe tbody tr th {\n",
       "        vertical-align: top;\n",
       "    }\n",
       "\n",
       "    .dataframe thead th {\n",
       "        text-align: right;\n",
       "    }\n",
       "</style>\n",
       "<table border=\"1\" class=\"dataframe\">\n",
       "  <thead>\n",
       "    <tr style=\"text-align: right;\">\n",
       "      <th></th>\n",
       "      <th>project</th>\n",
       "      <th>type</th>\n",
       "      <th>geo</th>\n",
       "      <th>pid</th>\n",
       "      <th>sub</th>\n",
       "      <th>sub_type</th>\n",
       "      <th>block_flg</th>\n",
       "      <th>blocked_date</th>\n",
       "      <th>block_desc</th>\n",
       "    </tr>\n",
       "  </thead>\n",
       "  <tbody>\n",
       "    <tr>\n",
       "      <th>0</th>\n",
       "      <td>mb</td>\n",
       "      <td>brand</td>\n",
       "      <td>IN</td>\n",
       "      <td>49534</td>\n",
       "      <td>23044</td>\n",
       "      <td>sub2</td>\n",
       "      <td>4</td>\n",
       "      <td>2025-06-18 18:29:09.952824</td>\n",
       "      <td>Антифрод: Заблокировано</td>\n",
       "    </tr>\n",
       "  </tbody>\n",
       "</table>\n",
       "</div>"
      ],
      "text/plain": [
       "  project   type geo    pid    sub sub_type  block_flg  \\\n",
       "0      mb  brand  IN  49534  23044     sub2          4   \n",
       "\n",
       "                blocked_date               block_desc  \n",
       "0 2025-06-18 18:29:09.952824  Антифрод: Заблокировано  "
      ]
     },
     "execution_count": 134,
     "metadata": {},
     "output_type": "execute_result"
    }
   ],
   "source": [
    "_strange_partners_TRUE_.head(1)"
   ]
  },
  {
   "cell_type": "code",
   "execution_count": 135,
   "id": "c6664732-8bda-417d-abd2-80a0c053e7f8",
   "metadata": {},
   "outputs": [],
   "source": [
    "##### По антифроду датасет готов!!!!!!!!!"
   ]
  },
  {
   "cell_type": "markdown",
   "id": "c67f36e8-7ece-4238-9db6-e6ac32ee3a0c",
   "metadata": {},
   "source": [
    "## Добавляем Скам пидов из гугл файла!!!!!!"
   ]
  },
  {
   "cell_type": "code",
   "execution_count": 136,
   "id": "cca052bd-3d5d-4f79-8e99-b7a1e4dd6fa2",
   "metadata": {},
   "outputs": [],
   "source": [
    "# получение учетных данных \n",
    "# и изменение их на ваш адрес электронной почты \n",
    "# для использования delegated_credentials в дальнейшем коде\n",
    "creds = service_account.Credentials.from_service_account_file(\n",
    "        'client_secret.json', # тут client_secret.json от сервисного\n",
    "        scopes=['https://www.googleapis.com/auth/spreadsheets', 'https://www.googleapis.com/auth/drive']\n",
    "    )\n",
    "\n",
    "# masking service account with work account\n",
    "delegated_creds = creds.with_subject('d.user@mail.cloud')\n",
    "\n",
    "\n",
    "##########################################################################################\n",
    "\n",
    "\n",
    "\n",
    "def google_sheet_df(doc_url: str, worksheet: str):\n",
    "    gc = gs.authorize(delegated_creds)\n",
    "    g_sheet = gc.open_by_url(doc_url)\n",
    "    \n",
    "    # Получаем все записи с 7-й строки как заголовками\n",
    "    df = pd.DataFrame(g_sheet.worksheet(worksheet).get_all_records(head=1))  \n",
    "    # Указано, что заголовки находятся на 7-й строке\n",
    "\n",
    "    return df\n",
    "\n",
    "doc_url = 'https://docs.google.com/spreadsheets/d/LLEzDgvqvDWCOzgSqKzgvqvDWCZYA'\n",
    "worksheet = 'Лист1'\n",
    "\n"
   ]
  },
  {
   "cell_type": "code",
   "execution_count": 137,
   "id": "b808aa01-d3bf-44d2-b0d2-13a74fa02691",
   "metadata": {},
   "outputs": [],
   "source": [
    "pids_list_data = google_sheet_df(doc_url, worksheet)"
   ]
  },
  {
   "cell_type": "code",
   "execution_count": 138,
   "id": "754d296e-aab0-4f93-ba35-ae4cb363f11a",
   "metadata": {},
   "outputs": [],
   "source": [
    "assert pids_list_data.shape[0] != 0"
   ]
  },
  {
   "cell_type": "code",
   "execution_count": 139,
   "id": "2fecaf5b-0b1d-4b92-a007-1c6e79e4d2fb",
   "metadata": {},
   "outputs": [
    {
     "data": {
      "text/html": [
       "<div>\n",
       "<style scoped>\n",
       "    .dataframe tbody tr th:only-of-type {\n",
       "        vertical-align: middle;\n",
       "    }\n",
       "\n",
       "    .dataframe tbody tr th {\n",
       "        vertical-align: top;\n",
       "    }\n",
       "\n",
       "    .dataframe thead th {\n",
       "        text-align: right;\n",
       "    }\n",
       "</style>\n",
       "<table border=\"1\" class=\"dataframe\">\n",
       "  <thead>\n",
       "    <tr style=\"text-align: right;\">\n",
       "      <th></th>\n",
       "      <th>гео</th>\n",
       "      <th>пид</th>\n",
       "      <th>саб</th>\n",
       "      <th>причина/комментарий</th>\n",
       "      <th>менеджер</th>\n",
       "    </tr>\n",
       "  </thead>\n",
       "  <tbody>\n",
       "    <tr>\n",
       "      <th>0</th>\n",
       "      <td>AZ</td>\n",
       "      <td>49660</td>\n",
       "      <td>ferid_abdullayev</td>\n",
       "      <td>взял деньги, рекламу не сделал, пропал</td>\n",
       "      <td>Amin Bagirov</td>\n",
       "    </tr>\n",
       "    <tr>\n",
       "      <th>1</th>\n",
       "      <td>AZ</td>\n",
       "      <td>135157</td>\n",
       "      <td>QAQASBUNETEMADI</td>\n",
       "      <td>взял деньги, рекламу не сделал, пропал</td>\n",
       "      <td>Nigar Aliyeva</td>\n",
       "    </tr>\n",
       "    <tr>\n",
       "      <th>2</th>\n",
       "      <td>KZ</td>\n",
       "      <td>64146</td>\n",
       "      <td>rakhmetoovvaa</td>\n",
       "      <td>после оплаты перестала выходить на связь</td>\n",
       "      <td>Алина Шмакова</td>\n",
       "    </tr>\n",
       "    <tr>\n",
       "      <th>3</th>\n",
       "      <td>KZ</td>\n",
       "      <td>64146</td>\n",
       "      <td>isamakarov</td>\n",
       "      <td>после оплаты перестала выходить на связь, пере...</td>\n",
       "      <td>Алина Шмакова</td>\n",
       "    </tr>\n",
       "    <tr>\n",
       "      <th>4</th>\n",
       "      <td>KZ</td>\n",
       "      <td>64146</td>\n",
       "      <td>niko_nett</td>\n",
       "      <td>не выполняет обещания, манипулирует ценой, ден...</td>\n",
       "      <td>Алина Шмакова</td>\n",
       "    </tr>\n",
       "    <tr>\n",
       "      <th>5</th>\n",
       "      <td>KZ</td>\n",
       "      <td>64146</td>\n",
       "      <td>kuanyweva_</td>\n",
       "      <td>взял деньги, рекламу не сделал, пропал</td>\n",
       "      <td>Алина Шмакова</td>\n",
       "    </tr>\n",
       "    <tr>\n",
       "      <th>6</th>\n",
       "      <td>TR</td>\n",
       "      <td>49706</td>\n",
       "      <td>ig174</td>\n",
       "      <td>сделал одну публикацию после оплаты и перестал...</td>\n",
       "      <td>Melis Öz</td>\n",
       "    </tr>\n",
       "    <tr>\n",
       "      <th>7</th>\n",
       "      <td>TR</td>\n",
       "      <td>49706</td>\n",
       "      <td>ig175</td>\n",
       "      <td>сделал одну публикацию после оплаты и перестал...</td>\n",
       "      <td>Melis Öz</td>\n",
       "    </tr>\n",
       "    <tr>\n",
       "      <th>8</th>\n",
       "      <td>IN</td>\n",
       "      <td>49534</td>\n",
       "      <td>23044</td>\n",
       "      <td>нет кликов и фд, но много регистраций</td>\n",
       "      <td>ALI SHAH MUHAMMAD</td>\n",
       "    </tr>\n",
       "    <tr>\n",
       "      <th>9</th>\n",
       "      <td>TR</td>\n",
       "      <td>49710</td>\n",
       "      <td>bonuslion</td>\n",
       "      <td>плохо делает размещения, делает меньше обещанн...</td>\n",
       "      <td>Umut</td>\n",
       "    </tr>\n",
       "    <tr>\n",
       "      <th>10</th>\n",
       "      <td>AZ</td>\n",
       "      <td>49664</td>\n",
       "      <td>ali.nadiroglu</td>\n",
       "      <td>после оплаты удалил переписку и исчез</td>\n",
       "      <td>Nigar Alieva</td>\n",
       "    </tr>\n",
       "    <tr>\n",
       "      <th>11</th>\n",
       "      <td>AZ</td>\n",
       "      <td>49660</td>\n",
       "      <td>alinadiroglu</td>\n",
       "      <td>после оплаты удалил переписку и исчез</td>\n",
       "      <td>Nigar Alieva</td>\n",
       "    </tr>\n",
       "  </tbody>\n",
       "</table>\n",
       "</div>"
      ],
      "text/plain": [
       "   гео     пид               саб  \\\n",
       "0   AZ   49660  ferid_abdullayev   \n",
       "1   AZ  135157   QAQASBUNETEMADI   \n",
       "2   KZ   64146     rakhmetoovvaa   \n",
       "3   KZ   64146        isamakarov   \n",
       "4   KZ   64146         niko_nett   \n",
       "5   KZ   64146        kuanyweva_   \n",
       "6   TR   49706             ig174   \n",
       "7   TR   49706             ig175   \n",
       "8   IN   49534             23044   \n",
       "9   TR   49710         bonuslion   \n",
       "10  AZ   49664     ali.nadiroglu   \n",
       "11  AZ   49660      alinadiroglu   \n",
       "\n",
       "                                  причина/комментарий           менеджер  \n",
       "0              взял деньги, рекламу не сделал, пропал       Amin Bagirov  \n",
       "1              взял деньги, рекламу не сделал, пропал      Nigar Aliyeva  \n",
       "2            после оплаты перестала выходить на связь      Алина Шмакова  \n",
       "3   после оплаты перестала выходить на связь, пере...      Алина Шмакова  \n",
       "4   не выполняет обещания, манипулирует ценой, ден...      Алина Шмакова  \n",
       "5              взял деньги, рекламу не сделал, пропал      Алина Шмакова  \n",
       "6   сделал одну публикацию после оплаты и перестал...           Melis Öz  \n",
       "7   сделал одну публикацию после оплаты и перестал...           Melis Öz  \n",
       "8               нет кликов и фд, но много регистраций  ALI SHAH MUHAMMAD  \n",
       "9   плохо делает размещения, делает меньше обещанн...               Umut  \n",
       "10              после оплаты удалил переписку и исчез       Nigar Alieva  \n",
       "11              после оплаты удалил переписку и исчез       Nigar Alieva  "
      ]
     },
     "execution_count": 139,
     "metadata": {},
     "output_type": "execute_result"
    }
   ],
   "source": [
    "pids_list_data"
   ]
  },
  {
   "cell_type": "code",
   "execution_count": 140,
   "id": "56c519c0-b10c-42df-9f4f-3e1a3bf6b097",
   "metadata": {},
   "outputs": [],
   "source": [
    "pids_list_data = pids_list_data.rename(columns={'гео': 'geo',\n",
    "                                               'пид': 'pid',\n",
    "                                               'саб': 'sub'})"
   ]
  },
  {
   "cell_type": "code",
   "execution_count": 141,
   "id": "3c817979-efa7-4f1a-b76b-13c78050f7cf",
   "metadata": {},
   "outputs": [],
   "source": [
    "pids_list_data = pids_list_data[[\n",
    "    'geo', 'pid', 'sub'\n",
    "]].copy()"
   ]
  },
  {
   "cell_type": "code",
   "execution_count": 142,
   "id": "6cb9e436-49bf-4781-9a37-5adef397e836",
   "metadata": {},
   "outputs": [],
   "source": [
    "pids_list_data['blocked_date'] = '1980-01-01'\n",
    "pids_list_data['block_desc'] = 'Скам!'\n",
    "pids_list_data['block_flg'] = 4"
   ]
  },
  {
   "cell_type": "code",
   "execution_count": 143,
   "id": "5074a8b7-eb98-4a7a-b8f1-2dc01729d640",
   "metadata": {},
   "outputs": [],
   "source": [
    "pids_list_data = pids_list_data.astype({\n",
    "    'geo': 'str',\n",
    "    'pid': 'int64',\n",
    "    'sub': 'str',\n",
    "    'block_flg': 'int64',\n",
    "    'blocked_date': 'datetime64[ns]',\n",
    "    'block_desc': 'str'\n",
    "})\n",
    "\n",
    "assert pids_list_data.isna().sum().sum() == 0"
   ]
  },
  {
   "cell_type": "code",
   "execution_count": 144,
   "id": "004ef6cd-564d-4cb0-a553-0b0ce21a2c2f",
   "metadata": {},
   "outputs": [
    {
     "data": {
      "text/html": [
       "<div>\n",
       "<style scoped>\n",
       "    .dataframe tbody tr th:only-of-type {\n",
       "        vertical-align: middle;\n",
       "    }\n",
       "\n",
       "    .dataframe tbody tr th {\n",
       "        vertical-align: top;\n",
       "    }\n",
       "\n",
       "    .dataframe thead th {\n",
       "        text-align: right;\n",
       "    }\n",
       "</style>\n",
       "<table border=\"1\" class=\"dataframe\">\n",
       "  <thead>\n",
       "    <tr style=\"text-align: right;\">\n",
       "      <th></th>\n",
       "      <th>geo</th>\n",
       "      <th>pid</th>\n",
       "      <th>sub</th>\n",
       "      <th>blocked_date</th>\n",
       "      <th>block_desc</th>\n",
       "      <th>block_flg</th>\n",
       "    </tr>\n",
       "  </thead>\n",
       "  <tbody>\n",
       "    <tr>\n",
       "      <th>0</th>\n",
       "      <td>AZ</td>\n",
       "      <td>49660</td>\n",
       "      <td>ferid_abdullayev</td>\n",
       "      <td>1980-01-01</td>\n",
       "      <td>Скам!</td>\n",
       "      <td>4</td>\n",
       "    </tr>\n",
       "    <tr>\n",
       "      <th>1</th>\n",
       "      <td>AZ</td>\n",
       "      <td>135157</td>\n",
       "      <td>QAQASBUNETEMADI</td>\n",
       "      <td>1980-01-01</td>\n",
       "      <td>Скам!</td>\n",
       "      <td>4</td>\n",
       "    </tr>\n",
       "    <tr>\n",
       "      <th>2</th>\n",
       "      <td>KZ</td>\n",
       "      <td>64146</td>\n",
       "      <td>rakhmetoovvaa</td>\n",
       "      <td>1980-01-01</td>\n",
       "      <td>Скам!</td>\n",
       "      <td>4</td>\n",
       "    </tr>\n",
       "    <tr>\n",
       "      <th>3</th>\n",
       "      <td>KZ</td>\n",
       "      <td>64146</td>\n",
       "      <td>isamakarov</td>\n",
       "      <td>1980-01-01</td>\n",
       "      <td>Скам!</td>\n",
       "      <td>4</td>\n",
       "    </tr>\n",
       "    <tr>\n",
       "      <th>4</th>\n",
       "      <td>KZ</td>\n",
       "      <td>64146</td>\n",
       "      <td>niko_nett</td>\n",
       "      <td>1980-01-01</td>\n",
       "      <td>Скам!</td>\n",
       "      <td>4</td>\n",
       "    </tr>\n",
       "    <tr>\n",
       "      <th>5</th>\n",
       "      <td>KZ</td>\n",
       "      <td>64146</td>\n",
       "      <td>kuanyweva_</td>\n",
       "      <td>1980-01-01</td>\n",
       "      <td>Скам!</td>\n",
       "      <td>4</td>\n",
       "    </tr>\n",
       "    <tr>\n",
       "      <th>6</th>\n",
       "      <td>TR</td>\n",
       "      <td>49706</td>\n",
       "      <td>ig174</td>\n",
       "      <td>1980-01-01</td>\n",
       "      <td>Скам!</td>\n",
       "      <td>4</td>\n",
       "    </tr>\n",
       "    <tr>\n",
       "      <th>7</th>\n",
       "      <td>TR</td>\n",
       "      <td>49706</td>\n",
       "      <td>ig175</td>\n",
       "      <td>1980-01-01</td>\n",
       "      <td>Скам!</td>\n",
       "      <td>4</td>\n",
       "    </tr>\n",
       "    <tr>\n",
       "      <th>8</th>\n",
       "      <td>IN</td>\n",
       "      <td>49534</td>\n",
       "      <td>23044</td>\n",
       "      <td>1980-01-01</td>\n",
       "      <td>Скам!</td>\n",
       "      <td>4</td>\n",
       "    </tr>\n",
       "    <tr>\n",
       "      <th>9</th>\n",
       "      <td>TR</td>\n",
       "      <td>49710</td>\n",
       "      <td>bonuslion</td>\n",
       "      <td>1980-01-01</td>\n",
       "      <td>Скам!</td>\n",
       "      <td>4</td>\n",
       "    </tr>\n",
       "    <tr>\n",
       "      <th>10</th>\n",
       "      <td>AZ</td>\n",
       "      <td>49664</td>\n",
       "      <td>ali.nadiroglu</td>\n",
       "      <td>1980-01-01</td>\n",
       "      <td>Скам!</td>\n",
       "      <td>4</td>\n",
       "    </tr>\n",
       "    <tr>\n",
       "      <th>11</th>\n",
       "      <td>AZ</td>\n",
       "      <td>49660</td>\n",
       "      <td>alinadiroglu</td>\n",
       "      <td>1980-01-01</td>\n",
       "      <td>Скам!</td>\n",
       "      <td>4</td>\n",
       "    </tr>\n",
       "  </tbody>\n",
       "</table>\n",
       "</div>"
      ],
      "text/plain": [
       "   geo     pid               sub blocked_date block_desc  block_flg\n",
       "0   AZ   49660  ferid_abdullayev   1980-01-01      Скам!          4\n",
       "1   AZ  135157   QAQASBUNETEMADI   1980-01-01      Скам!          4\n",
       "2   KZ   64146     rakhmetoovvaa   1980-01-01      Скам!          4\n",
       "3   KZ   64146        isamakarov   1980-01-01      Скам!          4\n",
       "4   KZ   64146         niko_nett   1980-01-01      Скам!          4\n",
       "5   KZ   64146        kuanyweva_   1980-01-01      Скам!          4\n",
       "6   TR   49706             ig174   1980-01-01      Скам!          4\n",
       "7   TR   49706             ig175   1980-01-01      Скам!          4\n",
       "8   IN   49534             23044   1980-01-01      Скам!          4\n",
       "9   TR   49710         bonuslion   1980-01-01      Скам!          4\n",
       "10  AZ   49664     ali.nadiroglu   1980-01-01      Скам!          4\n",
       "11  AZ   49660      alinadiroglu   1980-01-01      Скам!          4"
      ]
     },
     "execution_count": 144,
     "metadata": {},
     "output_type": "execute_result"
    }
   ],
   "source": [
    "pids_list_data"
   ]
  },
  {
   "cell_type": "code",
   "execution_count": 145,
   "id": "c9252448-e460-44e9-a419-597c6a9fd430",
   "metadata": {},
   "outputs": [],
   "source": [
    "#### Добавляем колонку project и sub_type из инфо !!!!"
   ]
  },
  {
   "cell_type": "code",
   "execution_count": 146,
   "id": "d64e719d-07cd-493c-8be3-b2c5f709c629",
   "metadata": {},
   "outputs": [],
   "source": [
    "__mediabuying_info__ = __mediabuying_info__.rename(columns={'partner_id': 'pid'})"
   ]
  },
  {
   "cell_type": "code",
   "execution_count": 148,
   "id": "26f073b9-521c-46e7-90aa-7a5186095fcc",
   "metadata": {},
   "outputs": [],
   "source": [
    "pids_list_data = pids_list_data.merge(\n",
    "    __mediabuying_info__[['project', 'type', 'pid', 'sub_type']], on=['pid'], how='left')"
   ]
  },
  {
   "cell_type": "code",
   "execution_count": 149,
   "id": "34cc871b-7a3d-4b22-91f4-d76a50c82e8d",
   "metadata": {},
   "outputs": [],
   "source": [
    "pids_list_data = pids_list_data[_strange_partners_TRUE_.columns].copy()"
   ]
  },
  {
   "cell_type": "code",
   "execution_count": 150,
   "id": "dd6cfc91-b9d7-4148-92fc-52d2d09ae8b7",
   "metadata": {},
   "outputs": [],
   "source": [
    "pids_list_data = pids_list_data.astype({\n",
    "    'project': 'str',\n",
    "    'type': 'str',\n",
    "    'geo': 'str',\n",
    "    'pid': 'int64',\n",
    "    'sub': 'str',\n",
    "    'sub_type': 'str',\n",
    "    'block_flg': 'int64',\n",
    "    'blocked_date': 'datetime64[ns]',\n",
    "    'block_desc': 'str'\n",
    "})\n",
    "\n",
    "assert pids_list_data.isna().sum().sum() == 0"
   ]
  },
  {
   "cell_type": "code",
   "execution_count": 151,
   "id": "993c45ca-0ce8-4ec2-9a61-0be9f3680eec",
   "metadata": {},
   "outputs": [
    {
     "data": {
      "text/html": [
       "<div>\n",
       "<style scoped>\n",
       "    .dataframe tbody tr th:only-of-type {\n",
       "        vertical-align: middle;\n",
       "    }\n",
       "\n",
       "    .dataframe tbody tr th {\n",
       "        vertical-align: top;\n",
       "    }\n",
       "\n",
       "    .dataframe thead th {\n",
       "        text-align: right;\n",
       "    }\n",
       "</style>\n",
       "<table border=\"1\" class=\"dataframe\">\n",
       "  <thead>\n",
       "    <tr style=\"text-align: right;\">\n",
       "      <th></th>\n",
       "      <th>project</th>\n",
       "      <th>type</th>\n",
       "      <th>geo</th>\n",
       "      <th>pid</th>\n",
       "      <th>sub</th>\n",
       "      <th>sub_type</th>\n",
       "      <th>block_flg</th>\n",
       "      <th>blocked_date</th>\n",
       "      <th>block_desc</th>\n",
       "    </tr>\n",
       "  </thead>\n",
       "  <tbody>\n",
       "    <tr>\n",
       "      <th>0</th>\n",
       "      <td>mb</td>\n",
       "      <td>perform</td>\n",
       "      <td>AZ</td>\n",
       "      <td>49660</td>\n",
       "      <td>ferid_abdullayev</td>\n",
       "      <td>sub3</td>\n",
       "      <td>4</td>\n",
       "      <td>1980-01-01</td>\n",
       "      <td>Скам!</td>\n",
       "    </tr>\n",
       "  </tbody>\n",
       "</table>\n",
       "</div>"
      ],
      "text/plain": [
       "  project     type geo    pid               sub sub_type  block_flg  \\\n",
       "0      mb  perform  AZ  49660  ferid_abdullayev     sub3          4   \n",
       "\n",
       "  blocked_date block_desc  \n",
       "0   1980-01-01      Скам!  "
      ]
     },
     "execution_count": 151,
     "metadata": {},
     "output_type": "execute_result"
    }
   ],
   "source": [
    "pids_list_data.head(1)"
   ]
  },
  {
   "cell_type": "code",
   "execution_count": 152,
   "id": "f5593221-327c-42b7-b7c8-310ec7d6ceca",
   "metadata": {},
   "outputs": [],
   "source": [
    "##### Закончили со скамом!!!!!!!!!!"
   ]
  },
  {
   "cell_type": "markdown",
   "id": "73abee8a-9a16-4c28-af77-87946d903562",
   "metadata": {},
   "source": [
    "## Продолжаем дальнейшие манипуляции"
   ]
  },
  {
   "cell_type": "code",
   "execution_count": 154,
   "id": "3755631e-75cf-4950-a0fe-957a31b83fda",
   "metadata": {},
   "outputs": [],
   "source": [
    "# Объединение по ключевым столбцам\n",
    "merged_df = _strange_partners_TRUE_.merge(pids_list_data, on=['project', \n",
    "                                                              'type', \n",
    "                                                              'geo', \n",
    "                                                              'pid', \n",
    "                                                              'sub', \n",
    "                                                              'sub_type'], \n",
    "                                          how='left', \n",
    "                                          suffixes=('', '_df1'))\n"
   ]
  },
  {
   "cell_type": "code",
   "execution_count": 155,
   "id": "c06c7aa1-7f48-4024-8619-3415a40f8fe6",
   "metadata": {},
   "outputs": [
    {
     "data": {
      "text/html": [
       "<div>\n",
       "<style scoped>\n",
       "    .dataframe tbody tr th:only-of-type {\n",
       "        vertical-align: middle;\n",
       "    }\n",
       "\n",
       "    .dataframe tbody tr th {\n",
       "        vertical-align: top;\n",
       "    }\n",
       "\n",
       "    .dataframe thead th {\n",
       "        text-align: right;\n",
       "    }\n",
       "</style>\n",
       "<table border=\"1\" class=\"dataframe\">\n",
       "  <thead>\n",
       "    <tr style=\"text-align: right;\">\n",
       "      <th></th>\n",
       "      <th>project</th>\n",
       "      <th>type</th>\n",
       "      <th>geo</th>\n",
       "      <th>pid</th>\n",
       "      <th>sub</th>\n",
       "      <th>sub_type</th>\n",
       "      <th>block_flg</th>\n",
       "      <th>blocked_date</th>\n",
       "      <th>block_desc</th>\n",
       "      <th>block_flg_df1</th>\n",
       "      <th>blocked_date_df1</th>\n",
       "      <th>block_desc_df1</th>\n",
       "    </tr>\n",
       "  </thead>\n",
       "  <tbody>\n",
       "    <tr>\n",
       "      <th>0</th>\n",
       "      <td>mb</td>\n",
       "      <td>brand</td>\n",
       "      <td>IN</td>\n",
       "      <td>49534</td>\n",
       "      <td>23044</td>\n",
       "      <td>sub2</td>\n",
       "      <td>4</td>\n",
       "      <td>2025-06-18 18:29:09.952824</td>\n",
       "      <td>Антифрод: Заблокировано</td>\n",
       "      <td>4.0</td>\n",
       "      <td>1980-01-01</td>\n",
       "      <td>Скам!</td>\n",
       "    </tr>\n",
       "    <tr>\n",
       "      <th>1</th>\n",
       "      <td>mb</td>\n",
       "      <td>perform</td>\n",
       "      <td>IN</td>\n",
       "      <td>49688</td>\n",
       "      <td>3015</td>\n",
       "      <td>sub2</td>\n",
       "      <td>4</td>\n",
       "      <td>2025-02-28 19:58:03.888546</td>\n",
       "      <td>Антифрод: Заблокировано</td>\n",
       "      <td>NaN</td>\n",
       "      <td>NaT</td>\n",
       "      <td>NaN</td>\n",
       "    </tr>\n",
       "    <tr>\n",
       "      <th>2</th>\n",
       "      <td>mb</td>\n",
       "      <td>perform</td>\n",
       "      <td>IN</td>\n",
       "      <td>49688</td>\n",
       "      <td>3012</td>\n",
       "      <td>sub2</td>\n",
       "      <td>4</td>\n",
       "      <td>2025-02-28 19:58:03.888546</td>\n",
       "      <td>Антифрод: Заблокировано</td>\n",
       "      <td>NaN</td>\n",
       "      <td>NaT</td>\n",
       "      <td>NaN</td>\n",
       "    </tr>\n",
       "    <tr>\n",
       "      <th>3</th>\n",
       "      <td>mb</td>\n",
       "      <td>perform</td>\n",
       "      <td>IN</td>\n",
       "      <td>49688</td>\n",
       "      <td>3013</td>\n",
       "      <td>sub2</td>\n",
       "      <td>4</td>\n",
       "      <td>2025-02-28 19:58:03.888546</td>\n",
       "      <td>Антифрод: Заблокировано</td>\n",
       "      <td>NaN</td>\n",
       "      <td>NaT</td>\n",
       "      <td>NaN</td>\n",
       "    </tr>\n",
       "    <tr>\n",
       "      <th>4</th>\n",
       "      <td>mb</td>\n",
       "      <td>perform</td>\n",
       "      <td>IN</td>\n",
       "      <td>49688</td>\n",
       "      <td>3082</td>\n",
       "      <td>sub2</td>\n",
       "      <td>4</td>\n",
       "      <td>2025-02-28 19:58:03.888546</td>\n",
       "      <td>Антифрод: Заблокировано</td>\n",
       "      <td>NaN</td>\n",
       "      <td>NaT</td>\n",
       "      <td>NaN</td>\n",
       "    </tr>\n",
       "    <tr>\n",
       "      <th>...</th>\n",
       "      <td>...</td>\n",
       "      <td>...</td>\n",
       "      <td>...</td>\n",
       "      <td>...</td>\n",
       "      <td>...</td>\n",
       "      <td>...</td>\n",
       "      <td>...</td>\n",
       "      <td>...</td>\n",
       "      <td>...</td>\n",
       "      <td>...</td>\n",
       "      <td>...</td>\n",
       "      <td>...</td>\n",
       "    </tr>\n",
       "    <tr>\n",
       "      <th>183</th>\n",
       "      <td>mb</td>\n",
       "      <td>perform</td>\n",
       "      <td>KG</td>\n",
       "      <td>250176</td>\n",
       "      <td>kechkikabar24</td>\n",
       "      <td>sub2</td>\n",
       "      <td>4</td>\n",
       "      <td>2025-02-28 19:58:03.888546</td>\n",
       "      <td>Антифрод: Заблокировано</td>\n",
       "      <td>NaN</td>\n",
       "      <td>NaT</td>\n",
       "      <td>NaN</td>\n",
       "    </tr>\n",
       "    <tr>\n",
       "      <th>184</th>\n",
       "      <td>mb</td>\n",
       "      <td>brand</td>\n",
       "      <td>BD</td>\n",
       "      <td>356714</td>\n",
       "      <td>ProfessorOfPcGaming</td>\n",
       "      <td>sub2</td>\n",
       "      <td>4</td>\n",
       "      <td>2025-02-28 19:58:03.888546</td>\n",
       "      <td>Антифрод: Заблокировано</td>\n",
       "      <td>NaN</td>\n",
       "      <td>NaT</td>\n",
       "      <td>NaN</td>\n",
       "    </tr>\n",
       "    <tr>\n",
       "      <th>185</th>\n",
       "      <td>mb</td>\n",
       "      <td>brand</td>\n",
       "      <td>BD</td>\n",
       "      <td>356714</td>\n",
       "      <td>DGProduction</td>\n",
       "      <td>sub2</td>\n",
       "      <td>4</td>\n",
       "      <td>2025-02-28 19:58:03.888546</td>\n",
       "      <td>Антифрод: Заблокировано</td>\n",
       "      <td>NaN</td>\n",
       "      <td>NaT</td>\n",
       "      <td>NaN</td>\n",
       "    </tr>\n",
       "    <tr>\n",
       "      <th>186</th>\n",
       "      <td>ba</td>\n",
       "      <td>perform</td>\n",
       "      <td>RU</td>\n",
       "      <td>229549</td>\n",
       "      <td>1782</td>\n",
       "      <td>sub2</td>\n",
       "      <td>4</td>\n",
       "      <td>2025-03-21 14:39:00.212406</td>\n",
       "      <td>Антифрод: Заблокировано</td>\n",
       "      <td>NaN</td>\n",
       "      <td>NaT</td>\n",
       "      <td>NaN</td>\n",
       "    </tr>\n",
       "    <tr>\n",
       "      <th>187</th>\n",
       "      <td>mb</td>\n",
       "      <td>perform</td>\n",
       "      <td>BD</td>\n",
       "      <td>295150</td>\n",
       "      <td>BRpwaMBD013</td>\n",
       "      <td></td>\n",
       "      <td>4</td>\n",
       "      <td>2025-02-28 19:58:03.888546</td>\n",
       "      <td>Антифрод: Заблокировано</td>\n",
       "      <td>NaN</td>\n",
       "      <td>NaT</td>\n",
       "      <td>NaN</td>\n",
       "    </tr>\n",
       "  </tbody>\n",
       "</table>\n",
       "<p>188 rows × 12 columns</p>\n",
       "</div>"
      ],
      "text/plain": [
       "    project     type geo     pid                  sub sub_type  block_flg  \\\n",
       "0        mb    brand  IN   49534                23044     sub2          4   \n",
       "1        mb  perform  IN   49688                 3015     sub2          4   \n",
       "2        mb  perform  IN   49688                 3012     sub2          4   \n",
       "3        mb  perform  IN   49688                 3013     sub2          4   \n",
       "4        mb  perform  IN   49688                 3082     sub2          4   \n",
       "..      ...      ...  ..     ...                  ...      ...        ...   \n",
       "183      mb  perform  KG  250176        kechkikabar24     sub2          4   \n",
       "184      mb    brand  BD  356714  ProfessorOfPcGaming     sub2          4   \n",
       "185      mb    brand  BD  356714         DGProduction     sub2          4   \n",
       "186      ba  perform  RU  229549                 1782     sub2          4   \n",
       "187      mb  perform  BD  295150          BRpwaMBD013                   4   \n",
       "\n",
       "                  blocked_date               block_desc  block_flg_df1  \\\n",
       "0   2025-06-18 18:29:09.952824  Антифрод: Заблокировано            4.0   \n",
       "1   2025-02-28 19:58:03.888546  Антифрод: Заблокировано            NaN   \n",
       "2   2025-02-28 19:58:03.888546  Антифрод: Заблокировано            NaN   \n",
       "3   2025-02-28 19:58:03.888546  Антифрод: Заблокировано            NaN   \n",
       "4   2025-02-28 19:58:03.888546  Антифрод: Заблокировано            NaN   \n",
       "..                         ...                      ...            ...   \n",
       "183 2025-02-28 19:58:03.888546  Антифрод: Заблокировано            NaN   \n",
       "184 2025-02-28 19:58:03.888546  Антифрод: Заблокировано            NaN   \n",
       "185 2025-02-28 19:58:03.888546  Антифрод: Заблокировано            NaN   \n",
       "186 2025-03-21 14:39:00.212406  Антифрод: Заблокировано            NaN   \n",
       "187 2025-02-28 19:58:03.888546  Антифрод: Заблокировано            NaN   \n",
       "\n",
       "    blocked_date_df1 block_desc_df1  \n",
       "0         1980-01-01          Скам!  \n",
       "1                NaT            NaN  \n",
       "2                NaT            NaN  \n",
       "3                NaT            NaN  \n",
       "4                NaT            NaN  \n",
       "..               ...            ...  \n",
       "183              NaT            NaN  \n",
       "184              NaT            NaN  \n",
       "185              NaT            NaN  \n",
       "186              NaT            NaN  \n",
       "187              NaT            NaN  \n",
       "\n",
       "[188 rows x 12 columns]"
      ]
     },
     "execution_count": 155,
     "metadata": {},
     "output_type": "execute_result"
    }
   ],
   "source": [
    "merged_df"
   ]
  },
  {
   "cell_type": "code",
   "execution_count": null,
   "id": "40e5f60e-ab26-4d97-b709-19ceca142ecf",
   "metadata": {},
   "outputs": [],
   "source": []
  },
  {
   "cell_type": "code",
   "execution_count": 156,
   "id": "70d5e13d-6a73-4b81-b82b-3f431460e8c0",
   "metadata": {},
   "outputs": [
    {
     "data": {
      "text/html": [
       "<div>\n",
       "<style scoped>\n",
       "    .dataframe tbody tr th:only-of-type {\n",
       "        vertical-align: middle;\n",
       "    }\n",
       "\n",
       "    .dataframe tbody tr th {\n",
       "        vertical-align: top;\n",
       "    }\n",
       "\n",
       "    .dataframe thead th {\n",
       "        text-align: right;\n",
       "    }\n",
       "</style>\n",
       "<table border=\"1\" class=\"dataframe\">\n",
       "  <thead>\n",
       "    <tr style=\"text-align: right;\">\n",
       "      <th></th>\n",
       "      <th>project</th>\n",
       "      <th>type</th>\n",
       "      <th>geo</th>\n",
       "      <th>pid</th>\n",
       "      <th>sub</th>\n",
       "      <th>sub_type</th>\n",
       "      <th>block_flg</th>\n",
       "      <th>blocked_date</th>\n",
       "      <th>block_desc</th>\n",
       "      <th>block_flg_df1</th>\n",
       "      <th>blocked_date_df1</th>\n",
       "      <th>block_desc_df1</th>\n",
       "    </tr>\n",
       "  </thead>\n",
       "  <tbody>\n",
       "    <tr>\n",
       "      <th>0</th>\n",
       "      <td>mb</td>\n",
       "      <td>brand</td>\n",
       "      <td>IN</td>\n",
       "      <td>49534</td>\n",
       "      <td>23044</td>\n",
       "      <td>sub2</td>\n",
       "      <td>4</td>\n",
       "      <td>2025-06-18 18:29:09.952824</td>\n",
       "      <td>Антифрод: Заблокировано</td>\n",
       "      <td>4.0</td>\n",
       "      <td>1980-01-01</td>\n",
       "      <td>Скам!</td>\n",
       "    </tr>\n",
       "  </tbody>\n",
       "</table>\n",
       "</div>"
      ],
      "text/plain": [
       "  project   type geo    pid    sub sub_type  block_flg  \\\n",
       "0      mb  brand  IN  49534  23044     sub2          4   \n",
       "\n",
       "                blocked_date               block_desc  block_flg_df1  \\\n",
       "0 2025-06-18 18:29:09.952824  Антифрод: Заблокировано            4.0   \n",
       "\n",
       "  blocked_date_df1 block_desc_df1  \n",
       "0       1980-01-01          Скам!  "
      ]
     },
     "execution_count": 156,
     "metadata": {},
     "output_type": "execute_result"
    }
   ],
   "source": [
    "#### Кейсы где дужно занулить АФ флаг и т.к. есть дубль в скаме!!!!\n",
    "merged_df.loc[(merged_df['block_desc_df1'] == 'Скам!')]"
   ]
  },
  {
   "cell_type": "code",
   "execution_count": 157,
   "id": "e9a069a9-ddb6-4ed5-8973-628a8f9da0af",
   "metadata": {},
   "outputs": [],
   "source": [
    "# Создаем словарь из merged_df (где block_flg == Скам!)\n",
    "mask = merged_df['block_desc_df1'] == 'Скам!'\n",
    "pid_to_update = merged_df.loc[mask, ['project', \n",
    "                                     'type', \n",
    "                                     'geo', \n",
    "                                     'pid', \n",
    "                                     'sub', \n",
    "                                     'sub_type']]\n",
    "                         .set_index(\n",
    "                                    ['project', \n",
    "                                     'type', \n",
    "                                     'geo', \n",
    "                                     'pid', \n",
    "                                     'sub', \n",
    "                                     'sub_type']\n",
    ").index\n",
    "\n",
    "# Обновляем block_flg\n",
    "_strange_partners_TRUE_.loc[\n",
    "    _strange_partners_TRUE_.set_index(['project', \n",
    "                                       'type', \n",
    "                                       'geo', \n",
    "                                       'pid', \n",
    "                                       'sub', \n",
    "                                       'sub_type']).index.isin(pid_to_update),\n",
    "    'block_flg'\n",
    "] = 0\n"
   ]
  },
  {
   "cell_type": "code",
   "execution_count": 158,
   "id": "fb1a646b-9583-4fd9-b9ae-c80ed8d8ac4e",
   "metadata": {},
   "outputs": [
    {
     "data": {
      "text/html": [
       "<div>\n",
       "<style scoped>\n",
       "    .dataframe tbody tr th:only-of-type {\n",
       "        vertical-align: middle;\n",
       "    }\n",
       "\n",
       "    .dataframe tbody tr th {\n",
       "        vertical-align: top;\n",
       "    }\n",
       "\n",
       "    .dataframe thead th {\n",
       "        text-align: right;\n",
       "    }\n",
       "</style>\n",
       "<table border=\"1\" class=\"dataframe\">\n",
       "  <thead>\n",
       "    <tr style=\"text-align: right;\">\n",
       "      <th></th>\n",
       "      <th>project</th>\n",
       "      <th>type</th>\n",
       "      <th>geo</th>\n",
       "      <th>pid</th>\n",
       "      <th>sub</th>\n",
       "      <th>sub_type</th>\n",
       "      <th>block_flg</th>\n",
       "      <th>blocked_date</th>\n",
       "      <th>block_desc</th>\n",
       "    </tr>\n",
       "  </thead>\n",
       "  <tbody>\n",
       "  </tbody>\n",
       "</table>\n",
       "</div>"
      ],
      "text/plain": [
       "Empty DataFrame\n",
       "Columns: [project, type, geo, pid, sub, sub_type, block_flg, blocked_date, block_desc]\n",
       "Index: []"
      ]
     },
     "execution_count": 158,
     "metadata": {},
     "output_type": "execute_result"
    }
   ],
   "source": [
    "# Просто для доп проверки ячейка по возможным AD-Hoc!\n",
    "_strange_partners_TRUE_.loc[(_strange_partners_TRUE_['pid'] == 49660) \n",
    "                            & (_strange_partners_TRUE_['sub'] == 'ferid_abdullayev')]"
   ]
  },
  {
   "cell_type": "code",
   "execution_count": 159,
   "id": "de6e524b-2369-4dbb-9f13-8d42b4d69abe",
   "metadata": {},
   "outputs": [
    {
     "data": {
      "text/plain": [
       "188"
      ]
     },
     "execution_count": 159,
     "metadata": {},
     "output_type": "execute_result"
    }
   ],
   "source": [
    "_strange_partners_TRUE_.shape[0]"
   ]
  },
  {
   "cell_type": "code",
   "execution_count": 160,
   "id": "6605757f-7299-4235-ab55-b23f1c2b0684",
   "metadata": {},
   "outputs": [],
   "source": [
    "_strange_partners_TRUE_ = _strange_partners_TRUE_[_strange_partners_TRUE_['block_flg'] != 0]"
   ]
  },
  {
   "cell_type": "code",
   "execution_count": 161,
   "id": "bcbfe128-1e54-48a9-8b04-9c3594927624",
   "metadata": {},
   "outputs": [
    {
     "data": {
      "text/plain": [
       "187"
      ]
     },
     "execution_count": 161,
     "metadata": {},
     "output_type": "execute_result"
    }
   ],
   "source": [
    "_strange_partners_TRUE_.shape[0]"
   ]
  },
  {
   "cell_type": "markdown",
   "id": "b5e5aed4-8049-4776-aab1-34e65f02c937",
   "metadata": {},
   "source": [
    "# Конкатим итоговый 4й флаг!!!!"
   ]
  },
  {
   "cell_type": "code",
   "execution_count": 164,
   "id": "b3c37260-5eb2-4516-b2ba-be3511777a83",
   "metadata": {},
   "outputs": [],
   "source": [
    "# Объединяем DataFrame по строкам\n",
    "base_data_to_update = pd.concat([_strange_partners_TRUE_, \n",
    "                                    pids_list_data], \n",
    "                                   ignore_index=True).reset_index(drop=True)\n",
    "\n",
    "# Объединяем DataFrame по строкам\n",
    "base_data_to_update = pd.concat([base_data_to_update, \n",
    "                                    concat_data_payback], \n",
    "                                   ignore_index=True).reset_index(drop=True)"
   ]
  },
  {
   "cell_type": "code",
   "execution_count": 165,
   "id": "0691394e-2c2e-460c-bb0a-c98396b171f6",
   "metadata": {},
   "outputs": [],
   "source": [
    "assert (_strange_partners_TRUE_.shape[0] \n",
    "        + pids_list_data.shape[0] \n",
    "        + concat_data_payback.shape[0]) == base_data_to_update.shape[0]"
   ]
  },
  {
   "cell_type": "code",
   "execution_count": 166,
   "id": "b6255aed-4000-4800-aaf4-fcd6d8ed20d8",
   "metadata": {},
   "outputs": [
    {
     "data": {
      "text/plain": [
       "array([4, 2, 3, 1, 0])"
      ]
     },
     "execution_count": 166,
     "metadata": {},
     "output_type": "execute_result"
    }
   ],
   "source": [
    "base_data_to_update['block_flg'].unique()"
   ]
  },
  {
   "cell_type": "code",
   "execution_count": 167,
   "id": "2ea79b47-eabf-40a2-b5bf-2e46cf8a94ef",
   "metadata": {},
   "outputs": [
    {
     "data": {
      "text/html": [
       "<div>\n",
       "<style scoped>\n",
       "    .dataframe tbody tr th:only-of-type {\n",
       "        vertical-align: middle;\n",
       "    }\n",
       "\n",
       "    .dataframe tbody tr th {\n",
       "        vertical-align: top;\n",
       "    }\n",
       "\n",
       "    .dataframe thead th {\n",
       "        text-align: right;\n",
       "    }\n",
       "</style>\n",
       "<table border=\"1\" class=\"dataframe\">\n",
       "  <thead>\n",
       "    <tr style=\"text-align: right;\">\n",
       "      <th></th>\n",
       "      <th>project</th>\n",
       "      <th>type</th>\n",
       "      <th>geo</th>\n",
       "      <th>pid</th>\n",
       "      <th>sub</th>\n",
       "      <th>sub_type</th>\n",
       "      <th>block_flg</th>\n",
       "      <th>blocked_date</th>\n",
       "      <th>block_desc</th>\n",
       "    </tr>\n",
       "  </thead>\n",
       "  <tbody>\n",
       "    <tr>\n",
       "      <th>0</th>\n",
       "      <td>mb</td>\n",
       "      <td>perform</td>\n",
       "      <td>IN</td>\n",
       "      <td>49688</td>\n",
       "      <td>3015</td>\n",
       "      <td>sub2</td>\n",
       "      <td>4</td>\n",
       "      <td>2025-02-28 19:58:03.888546</td>\n",
       "      <td>Антифрод: Заблокировано</td>\n",
       "    </tr>\n",
       "    <tr>\n",
       "      <th>1</th>\n",
       "      <td>mb</td>\n",
       "      <td>perform</td>\n",
       "      <td>IN</td>\n",
       "      <td>49688</td>\n",
       "      <td>3012</td>\n",
       "      <td>sub2</td>\n",
       "      <td>4</td>\n",
       "      <td>2025-02-28 19:58:03.888546</td>\n",
       "      <td>Антифрод: Заблокировано</td>\n",
       "    </tr>\n",
       "    <tr>\n",
       "      <th>2</th>\n",
       "      <td>mb</td>\n",
       "      <td>perform</td>\n",
       "      <td>IN</td>\n",
       "      <td>49688</td>\n",
       "      <td>3013</td>\n",
       "      <td>sub2</td>\n",
       "      <td>4</td>\n",
       "      <td>2025-02-28 19:58:03.888546</td>\n",
       "      <td>Антифрод: Заблокировано</td>\n",
       "    </tr>\n",
       "    <tr>\n",
       "      <th>3</th>\n",
       "      <td>mb</td>\n",
       "      <td>perform</td>\n",
       "      <td>IN</td>\n",
       "      <td>49688</td>\n",
       "      <td>3082</td>\n",
       "      <td>sub2</td>\n",
       "      <td>4</td>\n",
       "      <td>2025-02-28 19:58:03.888546</td>\n",
       "      <td>Антифрод: Заблокировано</td>\n",
       "    </tr>\n",
       "    <tr>\n",
       "      <th>4</th>\n",
       "      <td>mb</td>\n",
       "      <td>perform</td>\n",
       "      <td>IN</td>\n",
       "      <td>49688</td>\n",
       "      <td>3081</td>\n",
       "      <td>sub2</td>\n",
       "      <td>4</td>\n",
       "      <td>2025-02-28 19:58:03.888546</td>\n",
       "      <td>Антифрод: Заблокировано</td>\n",
       "    </tr>\n",
       "  </tbody>\n",
       "</table>\n",
       "</div>"
      ],
      "text/plain": [
       "  project     type geo    pid   sub sub_type  block_flg  \\\n",
       "0      mb  perform  IN  49688  3015     sub2          4   \n",
       "1      mb  perform  IN  49688  3012     sub2          4   \n",
       "2      mb  perform  IN  49688  3013     sub2          4   \n",
       "3      mb  perform  IN  49688  3082     sub2          4   \n",
       "4      mb  perform  IN  49688  3081     sub2          4   \n",
       "\n",
       "                blocked_date               block_desc  \n",
       "0 2025-02-28 19:58:03.888546  Антифрод: Заблокировано  \n",
       "1 2025-02-28 19:58:03.888546  Антифрод: Заблокировано  \n",
       "2 2025-02-28 19:58:03.888546  Антифрод: Заблокировано  \n",
       "3 2025-02-28 19:58:03.888546  Антифрод: Заблокировано  \n",
       "4 2025-02-28 19:58:03.888546  Антифрод: Заблокировано  "
      ]
     },
     "execution_count": 167,
     "metadata": {},
     "output_type": "execute_result"
    }
   ],
   "source": [
    "base_data_to_update.head()"
   ]
  },
  {
   "cell_type": "code",
   "execution_count": 168,
   "id": "f8895a71-4571-4d53-abfc-c0376c4e71ea",
   "metadata": {},
   "outputs": [],
   "source": [
    "assert base_data_to_update.isna().sum().sum() == 0"
   ]
  },
  {
   "cell_type": "markdown",
   "id": "8f6a34fa-b5b1-418e-b7a6-e59d2c7d956b",
   "metadata": {},
   "source": [
    "# Зануляем все не нулевые флаги, если есть 4й флаг!!!!!!"
   ]
  },
  {
   "cell_type": "code",
   "execution_count": 169,
   "id": "930f456b-812e-4f0e-ae90-6925a95c775e",
   "metadata": {},
   "outputs": [],
   "source": [
    "##### Делим на два датасета с 4м флагом и всеми остальными!!!!!!!!!!\n",
    "\n",
    "base_data_to_update_4_DATA = (base_data_to_update[base_data_to_update['block_flg'] == 4]\n",
    "                                     .reset_index(drop=True)\n",
    "                                        )\n",
    "\n",
    "base_data_to_update_ANOTHER_FLG_DATA = (\n",
    "                                        base_data_to_update[base_data_to_update['block_flg'] != 4]\n",
    "                                           .reset_index(drop=True)\n",
    "                                                  )"
   ]
  },
  {
   "cell_type": "code",
   "execution_count": 170,
   "id": "a5b5b222-e311-48bf-917c-e099915b1dde",
   "metadata": {},
   "outputs": [],
   "source": [
    "# Объединение по ключевым столбцам\n",
    "merged_df = base_data_to_update_4_DATA.merge(base_data_to_update_ANOTHER_FLG_DATA, \n",
    "                                                on=['project', \n",
    "                                                    'type', \n",
    "                                                    'geo', \n",
    "                                                    'pid', \n",
    "                                                    'sub', \n",
    "                                                    'sub_type'], \n",
    "                                                how='left', \n",
    "                                                suffixes=('', '_df1'))\n"
   ]
  },
  {
   "cell_type": "code",
   "execution_count": 173,
   "id": "eb849426-de2b-46bc-8982-2356d618e725",
   "metadata": {},
   "outputs": [],
   "source": [
    "# Создаем словарь из merged_df (где block_flg == 4)\n",
    "mask = (merged_df['block_flg_df1'] != 4) & (merged_df['block_desc_df1'].notna())\n",
    "pid_to_update = merged_df.loc[mask, ['project', \n",
    "                                     'type', \n",
    "                                     'geo', \n",
    "                                     'pid', \n",
    "                                     'sub', \n",
    "                                     'sub_type']]\n",
    "                                                .set_index(\n",
    "                                                    ['project', \n",
    "                                                     'type', \n",
    "                                                     'geo', \n",
    "                                                     'pid', \n",
    "                                                     'sub', \n",
    "                                                     'sub_type']\n",
    ").index\n",
    "\n",
    "# Обновляем block_flg в concat_data_payback_2_FLG\n",
    "base_data_to_update_ANOTHER_FLG_DATA.loc[\n",
    "    base_data_to_update_ANOTHER_FLG_DATA.set_index(['project', \n",
    "                                                       'type', \n",
    "                                                       'geo', \n",
    "                                                       'pid', \n",
    "                                                       'sub', \n",
    "                                                       'sub_type']).index.isin(pid_to_update),\n",
    "    'block_flg'\n",
    "] = 0\n"
   ]
  },
  {
   "cell_type": "code",
   "execution_count": 174,
   "id": "125355a5-4b4f-46d6-9151-c5d91f3d732e",
   "metadata": {},
   "outputs": [
    {
     "data": {
      "text/html": [
       "<div>\n",
       "<style scoped>\n",
       "    .dataframe tbody tr th:only-of-type {\n",
       "        vertical-align: middle;\n",
       "    }\n",
       "\n",
       "    .dataframe tbody tr th {\n",
       "        vertical-align: top;\n",
       "    }\n",
       "\n",
       "    .dataframe thead th {\n",
       "        text-align: right;\n",
       "    }\n",
       "</style>\n",
       "<table border=\"1\" class=\"dataframe\">\n",
       "  <thead>\n",
       "    <tr style=\"text-align: right;\">\n",
       "      <th></th>\n",
       "      <th>project</th>\n",
       "      <th>type</th>\n",
       "      <th>geo</th>\n",
       "      <th>pid</th>\n",
       "      <th>sub</th>\n",
       "      <th>sub_type</th>\n",
       "      <th>block_flg</th>\n",
       "      <th>blocked_date</th>\n",
       "      <th>block_desc</th>\n",
       "    </tr>\n",
       "  </thead>\n",
       "  <tbody>\n",
       "    <tr>\n",
       "      <th>1452</th>\n",
       "      <td>mb</td>\n",
       "      <td>perform</td>\n",
       "      <td>RU</td>\n",
       "      <td>114170</td>\n",
       "      <td>st114</td>\n",
       "      <td>sub2</td>\n",
       "      <td>0</td>\n",
       "      <td>2025-03-19 17:21:15</td>\n",
       "      <td>Не успешная тестовая закупка</td>\n",
       "    </tr>\n",
       "  </tbody>\n",
       "</table>\n",
       "</div>"
      ],
      "text/plain": [
       "     project     type geo     pid    sub sub_type  block_flg  \\\n",
       "1452      mb  perform  RU  114170  st114     sub2          0   \n",
       "\n",
       "            blocked_date                    block_desc  \n",
       "1452 2025-03-19 17:21:15  Не успешная тестовая закупка  "
      ]
     },
     "execution_count": 174,
     "metadata": {},
     "output_type": "execute_result"
    }
   ],
   "source": [
    "# Для возможных AD-Hoc !\n",
    "base_data_to_update_ANOTHER_FLG_DATA.loc[(base_data_to_update_ANOTHER_FLG_DATA['pid'] == 114170)\n",
    "                                            & (base_data_to_update_ANOTHER_FLG_DATA['sub'] == 'st114')]"
   ]
  },
  {
   "cell_type": "code",
   "execution_count": null,
   "id": "5b13866c-86fd-4453-a5da-b1009a04b745",
   "metadata": {},
   "outputs": [],
   "source": []
  },
  {
   "cell_type": "code",
   "execution_count": 175,
   "id": "11d111d4-629c-4555-a76d-ac6a0a0bb3de",
   "metadata": {},
   "outputs": [],
   "source": [
    "# Объединяем DataFrame по строкам\n",
    "base_data_to_update = pd.concat([base_data_to_update_ANOTHER_FLG_DATA, \n",
    "                                    base_data_to_update_4_DATA], \n",
    "                                   ignore_index=True).reset_index(drop=True)"
   ]
  },
  {
   "cell_type": "code",
   "execution_count": 176,
   "id": "02f8b718-308d-40e9-8005-10dd5ade8ffd",
   "metadata": {},
   "outputs": [],
   "source": [
    "assert base_data_to_update.shape[0] == (\n",
    "                                            base_data_to_update_ANOTHER_FLG_DATA.shape[0]\n",
    "                                          + base_data_to_update_4_DATA.shape[0]\n",
    "                                                  )"
   ]
  },
  {
   "cell_type": "code",
   "execution_count": null,
   "id": "6e6ac6a1-9228-446a-9f4c-084ec41ceaa4",
   "metadata": {},
   "outputs": [],
   "source": [
    "# Визуальная проверка ниже :"
   ]
  },
  {
   "cell_type": "code",
   "execution_count": 177,
   "id": "dbaec1a9-fb73-4074-b2a7-ef9311e1008a",
   "metadata": {},
   "outputs": [
    {
     "data": {
      "text/html": [
       "<div>\n",
       "<style scoped>\n",
       "    .dataframe tbody tr th:only-of-type {\n",
       "        vertical-align: middle;\n",
       "    }\n",
       "\n",
       "    .dataframe tbody tr th {\n",
       "        vertical-align: top;\n",
       "    }\n",
       "\n",
       "    .dataframe thead th {\n",
       "        text-align: right;\n",
       "    }\n",
       "</style>\n",
       "<table border=\"1\" class=\"dataframe\">\n",
       "  <thead>\n",
       "    <tr style=\"text-align: right;\">\n",
       "      <th></th>\n",
       "      <th>project</th>\n",
       "      <th>type</th>\n",
       "      <th>geo</th>\n",
       "      <th>pid</th>\n",
       "      <th>sub</th>\n",
       "      <th>sub_type</th>\n",
       "      <th>block_flg</th>\n",
       "      <th>blocked_date</th>\n",
       "      <th>block_desc</th>\n",
       "    </tr>\n",
       "  </thead>\n",
       "  <tbody>\n",
       "    <tr>\n",
       "      <th>0</th>\n",
       "      <td>mb</td>\n",
       "      <td>perform</td>\n",
       "      <td>RU</td>\n",
       "      <td>347114</td>\n",
       "      <td>988</td>\n",
       "      <td>sub2</td>\n",
       "      <td>2</td>\n",
       "      <td>2025-04-23</td>\n",
       "      <td>limit=200</td>\n",
       "    </tr>\n",
       "  </tbody>\n",
       "</table>\n",
       "</div>"
      ],
      "text/plain": [
       "  project     type geo     pid  sub sub_type  block_flg blocked_date  \\\n",
       "0      mb  perform  RU  347114  988     sub2          2   2025-04-23   \n",
       "\n",
       "  block_desc  \n",
       "0  limit=200  "
      ]
     },
     "execution_count": 177,
     "metadata": {},
     "output_type": "execute_result"
    }
   ],
   "source": [
    "base_data_to_update.head(1)"
   ]
  },
  {
   "cell_type": "code",
   "execution_count": 178,
   "id": "89d1edb8-5e18-41ed-aec9-60f5a7bcc1fc",
   "metadata": {},
   "outputs": [
    {
     "data": {
      "text/plain": [
       "array([2, 3, 1, 0, 4])"
      ]
     },
     "execution_count": 178,
     "metadata": {},
     "output_type": "execute_result"
    }
   ],
   "source": [
    "base_data_to_update['block_flg'].unique()"
   ]
  },
  {
   "cell_type": "code",
   "execution_count": 179,
   "id": "e02bc5c7-0dc3-4e7c-b73f-2900adf8293b",
   "metadata": {},
   "outputs": [
    {
     "data": {
      "text/plain": [
       "3095"
      ]
     },
     "execution_count": 179,
     "metadata": {},
     "output_type": "execute_result"
    }
   ],
   "source": [
    "base_data_to_update.shape[0]"
   ]
  },
  {
   "cell_type": "markdown",
   "id": "3f7cd3f7-469d-4700-aa50-51b2f96cce9c",
   "metadata": {},
   "source": [
    "# Продолжаем!"
   ]
  },
  {
   "cell_type": "code",
   "execution_count": 181,
   "id": "f8c4f7d1-295e-4958-a3f7-f4fb3da0b67e",
   "metadata": {},
   "outputs": [
    {
     "data": {
      "text/plain": [
       "3095"
      ]
     },
     "execution_count": 181,
     "metadata": {},
     "output_type": "execute_result"
    }
   ],
   "source": [
    "base_data_to_update.shape[0]"
   ]
  },
  {
   "cell_type": "code",
   "execution_count": 182,
   "id": "bd9cb000-f0d9-4f0e-8dd2-136eb65ef747",
   "metadata": {},
   "outputs": [
    {
     "data": {
      "text/html": [
       "<div>\n",
       "<style scoped>\n",
       "    .dataframe tbody tr th:only-of-type {\n",
       "        vertical-align: middle;\n",
       "    }\n",
       "\n",
       "    .dataframe tbody tr th {\n",
       "        vertical-align: top;\n",
       "    }\n",
       "\n",
       "    .dataframe thead th {\n",
       "        text-align: right;\n",
       "    }\n",
       "</style>\n",
       "<table border=\"1\" class=\"dataframe\">\n",
       "  <thead>\n",
       "    <tr style=\"text-align: right;\">\n",
       "      <th></th>\n",
       "      <th>project</th>\n",
       "      <th>type</th>\n",
       "      <th>geo</th>\n",
       "      <th>pid</th>\n",
       "      <th>sub</th>\n",
       "      <th>sub_type</th>\n",
       "      <th>block_flg</th>\n",
       "      <th>blocked_date</th>\n",
       "      <th>block_desc</th>\n",
       "    </tr>\n",
       "  </thead>\n",
       "  <tbody>\n",
       "    <tr>\n",
       "      <th>0</th>\n",
       "      <td>mb</td>\n",
       "      <td>perform</td>\n",
       "      <td>RU</td>\n",
       "      <td>347114</td>\n",
       "      <td>988</td>\n",
       "      <td>sub2</td>\n",
       "      <td>2</td>\n",
       "      <td>2025-04-23</td>\n",
       "      <td>limit=200</td>\n",
       "    </tr>\n",
       "  </tbody>\n",
       "</table>\n",
       "</div>"
      ],
      "text/plain": [
       "  project     type geo     pid  sub sub_type  block_flg blocked_date  \\\n",
       "0      mb  perform  RU  347114  988     sub2          2   2025-04-23   \n",
       "\n",
       "  block_desc  \n",
       "0  limit=200  "
      ]
     },
     "execution_count": 182,
     "metadata": {},
     "output_type": "execute_result"
    }
   ],
   "source": [
    "base_data_to_update.head(1)"
   ]
  },
  {
   "cell_type": "code",
   "execution_count": 183,
   "id": "5c3bb445-92d7-4353-ac3f-a548dab8e95a",
   "metadata": {},
   "outputs": [],
   "source": [
    "assert base_data_to_update.isna().sum().sum() == 0"
   ]
  },
  {
   "cell_type": "markdown",
   "id": "ed5f388b-6a3c-4a2c-8ea7-411dcd704aec",
   "metadata": {},
   "source": [
    "# Снимание флага 2 если не попали в расширенный список текущей недели!!!!"
   ]
  },
  {
   "cell_type": "code",
   "execution_count": 184,
   "id": "651a0e36-251d-42df-b65c-f445493f6804",
   "metadata": {},
   "outputs": [],
   "source": [
    "# список актуальных красных расширенный последней недели\n",
    "red_webs_list_LAST_DATE = ch_query_DWH2(f\"\"\"\n",
    "WITH \n",
    "    (SELECT max(report_date) AS max_added_dt \n",
    "        FROM sandbox_analytical_projects.red_webs_list) AS max_added_dt\n",
    "SELECT * \n",
    "    FROM sandbox_analytical_projects.red_webs_list\n",
    "    WHERE report_date = max_added_dt\n",
    "\"\"\")"
   ]
  },
  {
   "cell_type": "code",
   "execution_count": 185,
   "id": "e2cd7ea7-41db-4681-ae98-865d6dcee036",
   "metadata": {},
   "outputs": [],
   "source": [
    "# Замена пропусков в определенных колонках\n",
    "columns_to_replace = ['sub', 'sub_type']\n",
    "red_webs_list_LAST_DATE[columns_to_replace] = red_webs_list_LAST_DATE[columns_to_replace].fillna(\"\")"
   ]
  },
  {
   "cell_type": "code",
   "execution_count": 186,
   "id": "a5928246-3a39-46f4-954f-f27b0513e3b3",
   "metadata": {},
   "outputs": [],
   "source": [
    "assert red_webs_list_LAST_DATE.isna().sum().sum() == 0"
   ]
  },
  {
   "cell_type": "code",
   "execution_count": 187,
   "id": "b2637833-12d6-4297-a69b-f58bafc480f1",
   "metadata": {},
   "outputs": [],
   "source": [
    "def assign_value(row):\n",
    "    if row['product_name'] in ['Beta']:\n",
    "        return 'ba'\n",
    "    elif row['product_name'] == 'Mos':\n",
    "        return 'mb'\n",
    "    else:\n",
    "        return 'error'\n",
    "\n",
    "# Применение функции к DataFrame для создания новой колонки\n",
    "red_webs_list_LAST_DATE['project'] = red_webs_list_LAST_DATE.apply(assign_value, axis=1)"
   ]
  },
  {
   "cell_type": "code",
   "execution_count": 188,
   "id": "7e427a7a-958c-4726-8252-833b8cfbcdf7",
   "metadata": {},
   "outputs": [],
   "source": [
    "assert red_webs_list_LAST_DATE[red_webs_list_LAST_DATE['project'] == 'error'].shape[0 ] == 0"
   ]
  },
  {
   "cell_type": "code",
   "execution_count": 189,
   "id": "cee76be9-b7fd-4704-9d7e-9a5e8565e883",
   "metadata": {},
   "outputs": [],
   "source": [
    "red_webs_list_LAST_DATE = red_webs_list_LAST_DATE.rename(columns={'ID': 'pid'})"
   ]
  },
  {
   "cell_type": "code",
   "execution_count": 190,
   "id": "d30e0bd2-a08f-4574-9788-62168a6ae163",
   "metadata": {},
   "outputs": [],
   "source": [
    "red_webs_list_LAST_DATE = red_webs_list_LAST_DATE[['project', 'type', 'geo', 'pid', 'sub', 'sub_type']]"
   ]
  },
  {
   "cell_type": "code",
   "execution_count": 191,
   "id": "63c406e3-e952-4992-a048-95719ccf1398",
   "metadata": {},
   "outputs": [],
   "source": [
    "### делим  на два датасета с флагом 2 и остальными\n",
    "\n",
    "\n",
    "base_data_to_update_block_flg_2 = (base_data_to_update[\n",
    "                                        base_data_to_update['block_flg'] == 2]\n",
    "                                      .reset_index(drop=True)\n",
    "                                             )\n",
    "\n",
    "base_data_to_update_block_flg_ANOTHER = (base_data_to_update[\n",
    "                                                base_data_to_update['block_flg'] != 2]\n",
    "                                            .reset_index(drop=True)\n",
    "                                                   )\n",
    "\n",
    "assert (\n",
    "    base_data_to_update_block_flg_2.shape[0] \n",
    "  + base_data_to_update_block_flg_ANOTHER.shape[0] \n",
    " == base_data_to_update.shape[0]\n",
    "               )"
   ]
  },
  {
   "cell_type": "code",
   "execution_count": 192,
   "id": "dd791917-be28-46ac-9a79-f503e55fe4f3",
   "metadata": {},
   "outputs": [],
   "source": [
    "red_webs_list_LAST_DATE['block_desc'] = 2"
   ]
  },
  {
   "cell_type": "code",
   "execution_count": 193,
   "id": "f1a04bf6-2645-4cd0-8d7b-7dd0c6c21a97",
   "metadata": {},
   "outputs": [],
   "source": [
    "# Объединение по ключевым столбцам\n",
    "merged_df = base_data_to_update_block_flg_2.merge(red_webs_list_LAST_DATE, \n",
    "                                                     on=['project', \n",
    "                                                         'type', \n",
    "                                                         'geo', \n",
    "                                                         'pid', \n",
    "                                                         'sub', \n",
    "                                                         'sub_type'], \n",
    "                                                     how='left', \n",
    "                                                     suffixes=('', '_df1'))"
   ]
  },
  {
   "cell_type": "code",
   "execution_count": 194,
   "id": "cf2adef9-9212-4bbd-a974-41cb5cbd9a70",
   "metadata": {},
   "outputs": [],
   "source": [
    "merged_df['block_desc_df1'] = merged_df['block_desc_df1'].fillna(-777)\n",
    "merged_df['block_desc_df1'] = merged_df['block_desc_df1'].astype(int)"
   ]
  },
  {
   "cell_type": "code",
   "execution_count": 195,
   "id": "8c296e96-0d19-42da-aeff-18258ea69b31",
   "metadata": {},
   "outputs": [
    {
     "data": {
      "text/html": [
       "<div>\n",
       "<style scoped>\n",
       "    .dataframe tbody tr th:only-of-type {\n",
       "        vertical-align: middle;\n",
       "    }\n",
       "\n",
       "    .dataframe tbody tr th {\n",
       "        vertical-align: top;\n",
       "    }\n",
       "\n",
       "    .dataframe thead th {\n",
       "        text-align: right;\n",
       "    }\n",
       "</style>\n",
       "<table border=\"1\" class=\"dataframe\">\n",
       "  <thead>\n",
       "    <tr style=\"text-align: right;\">\n",
       "      <th></th>\n",
       "      <th>project</th>\n",
       "      <th>type</th>\n",
       "      <th>geo</th>\n",
       "      <th>pid</th>\n",
       "      <th>sub</th>\n",
       "      <th>sub_type</th>\n",
       "      <th>block_flg</th>\n",
       "      <th>blocked_date</th>\n",
       "      <th>block_desc</th>\n",
       "      <th>block_desc_df1</th>\n",
       "    </tr>\n",
       "  </thead>\n",
       "  <tbody>\n",
       "    <tr>\n",
       "      <th>0</th>\n",
       "      <td>mb</td>\n",
       "      <td>perform</td>\n",
       "      <td>RU</td>\n",
       "      <td>347114</td>\n",
       "      <td>988</td>\n",
       "      <td>sub2</td>\n",
       "      <td>2</td>\n",
       "      <td>2025-04-23</td>\n",
       "      <td>limit=200</td>\n",
       "      <td>-777</td>\n",
       "    </tr>\n",
       "    <tr>\n",
       "      <th>1</th>\n",
       "      <td>mb</td>\n",
       "      <td>brand</td>\n",
       "      <td>UZ</td>\n",
       "      <td>321992</td>\n",
       "      <td>charos__gafurova</td>\n",
       "      <td>sub3</td>\n",
       "      <td>2</td>\n",
       "      <td>2025-05-07</td>\n",
       "      <td>limit=1100; речек 04.06.2025</td>\n",
       "      <td>2</td>\n",
       "    </tr>\n",
       "    <tr>\n",
       "      <th>2</th>\n",
       "      <td>mb</td>\n",
       "      <td>perform</td>\n",
       "      <td>RU</td>\n",
       "      <td>114170</td>\n",
       "      <td>st346</td>\n",
       "      <td>sub2</td>\n",
       "      <td>2</td>\n",
       "      <td>2025-05-21</td>\n",
       "      <td>limit=3800; речек 18.06.2025</td>\n",
       "      <td>-777</td>\n",
       "    </tr>\n",
       "    <tr>\n",
       "      <th>3</th>\n",
       "      <td>mb</td>\n",
       "      <td>brand</td>\n",
       "      <td>BD</td>\n",
       "      <td>340702</td>\n",
       "      <td>1913</td>\n",
       "      <td>sub2</td>\n",
       "      <td>2</td>\n",
       "      <td>2025-05-21</td>\n",
       "      <td>limit=1200; речек 18.06.2025</td>\n",
       "      <td>2</td>\n",
       "    </tr>\n",
       "    <tr>\n",
       "      <th>4</th>\n",
       "      <td>mb</td>\n",
       "      <td>perform</td>\n",
       "      <td>PT</td>\n",
       "      <td>295150</td>\n",
       "      <td></td>\n",
       "      <td></td>\n",
       "      <td>2</td>\n",
       "      <td>2025-05-21</td>\n",
       "      <td>limit=7500; речек 04.06.2025</td>\n",
       "      <td>-777</td>\n",
       "    </tr>\n",
       "  </tbody>\n",
       "</table>\n",
       "</div>"
      ],
      "text/plain": [
       "  project     type geo     pid               sub sub_type  block_flg  \\\n",
       "0      mb  perform  RU  347114               988     sub2          2   \n",
       "1      mb    brand  UZ  321992  charos__gafurova     sub3          2   \n",
       "2      mb  perform  RU  114170             st346     sub2          2   \n",
       "3      mb    brand  BD  340702              1913     sub2          2   \n",
       "4      mb  perform  PT  295150                                     2   \n",
       "\n",
       "  blocked_date                    block_desc  block_desc_df1  \n",
       "0   2025-04-23                     limit=200            -777  \n",
       "1   2025-05-07  limit=1100; речек 04.06.2025               2  \n",
       "2   2025-05-21  limit=3800; речек 18.06.2025            -777  \n",
       "3   2025-05-21  limit=1200; речек 18.06.2025               2  \n",
       "4   2025-05-21  limit=7500; речек 04.06.2025            -777  "
      ]
     },
     "execution_count": 195,
     "metadata": {},
     "output_type": "execute_result"
    }
   ],
   "source": [
    "merged_df.head()"
   ]
  },
  {
   "cell_type": "code",
   "execution_count": 196,
   "id": "972f495b-3923-4c8f-8240-73163d0b579d",
   "metadata": {},
   "outputs": [],
   "source": [
    "# Создаем словарь из merged_df (где block_flg == 2)\n",
    "mask = merged_df['block_desc_df1'] == -777\n",
    "pid_to_update = merged_df.loc[mask, ['project', \n",
    "                                     'type', \n",
    "                                     'geo', \n",
    "                                     'pid', \n",
    "                                     'sub', \n",
    "                                     'sub_type']].set_index(\n",
    "    ['project', 'type', 'geo', 'pid', 'sub', 'sub_type']\n",
    ").index\n",
    "\n",
    "# Обновляем block_flg в concat_data_payback_2_FLG\n",
    "base_data_to_update_block_flg_2.loc[\n",
    "    base_data_to_update_block_flg_2.set_index(['project', \n",
    "                                                  'type', \n",
    "                                                  'geo', \n",
    "                                                  'pid', \n",
    "                                                  'sub', \n",
    "                                                  'sub_type']).index.isin(pid_to_update),\n",
    "    'block_flg'\n",
    "] = 0"
   ]
  },
  {
   "cell_type": "markdown",
   "id": "a02eca56-74b7-46f8-ace8-8efe43eac49a",
   "metadata": {
    "tags": []
   },
   "source": [
    "Три ячейки ниже для проверки корректности :"
   ]
  },
  {
   "cell_type": "code",
   "execution_count": 198,
   "id": "4df6fd9d-3f01-4eb5-bfb4-bb3a96bef499",
   "metadata": {},
   "outputs": [
    {
     "data": {
      "text/plain": [
       "3095"
      ]
     },
     "execution_count": 198,
     "metadata": {},
     "output_type": "execute_result"
    }
   ],
   "source": [
    "base_data_to_update.shape[0]"
   ]
  },
  {
   "cell_type": "code",
   "execution_count": 199,
   "id": "99af31cc-9314-4625-9a9e-47ed5da5079d",
   "metadata": {},
   "outputs": [],
   "source": [
    "# Объединяем DataFrame по строкам\n",
    "base_data_to_update = pd.concat([base_data_to_update_block_flg_2, \n",
    "                                    base_data_to_update_block_flg_ANOTHER], \n",
    "                                   ignore_index=True).reset_index(drop=True)\n"
   ]
  },
  {
   "cell_type": "code",
   "execution_count": 200,
   "id": "e6f457ff-8327-43e0-813d-df7580626cb9",
   "metadata": {},
   "outputs": [
    {
     "data": {
      "text/plain": [
       "3095"
      ]
     },
     "execution_count": 200,
     "metadata": {},
     "output_type": "execute_result"
    }
   ],
   "source": [
    "base_data_to_update.shape[0]"
   ]
  },
  {
   "cell_type": "markdown",
   "id": "4c3369f5-6e34-4572-b4d6-456d218c3743",
   "metadata": {},
   "source": [
    "# ПРОВЕРКА КОНФЛИКТОВ МЕЖДУ 3м ФЛАГОМ И 1м НЕ РАВНЫМ АФ:"
   ]
  },
  {
   "cell_type": "code",
   "execution_count": 202,
   "id": "8c545f17-7a2c-41af-9327-61c1beaf9576",
   "metadata": {},
   "outputs": [],
   "source": [
    "### делим  на два датасета с флагом 2 и остальными\n",
    "\n",
    "\n",
    "base_data_to_update_3_FLAG = (base_data_to_update[base_data_to_update['block_flg'] == 3]\n",
    "                                 .reset_index(drop=True)\n",
    "                                        )\n",
    "\n",
    "base_data_to_update_1_FLAG = (base_data_to_update[base_data_to_update['block_flg'] == 1]\n",
    "                                 .reset_index(drop=True)\n",
    "                                        )\n",
    "\n",
    "base_data_to_update_ALL_ANOTHER_FLAG = (\n",
    "                                        base_data_to_update.loc[\n",
    "                                          (base_data_to_update['block_flg'] != 1) \n",
    "                                        & (base_data_to_update['block_flg'] != 3)]\n",
    "                                           .reset_index(drop=True)\n",
    "                                                  )\n",
    "\n",
    "assert (base_data_to_update_3_FLAG.shape[0] \n",
    "        + base_data_to_update_1_FLAG.shape[0] \n",
    "        + base_data_to_update_ALL_ANOTHER_FLAG.shape[0]) == base_data_to_update.shape[0]"
   ]
  },
  {
   "cell_type": "code",
   "execution_count": 203,
   "id": "eb22712c-348a-4843-8c2f-91430defa3fe",
   "metadata": {},
   "outputs": [
    {
     "data": {
      "text/plain": [
       "array([0, 2, 4])"
      ]
     },
     "execution_count": 203,
     "metadata": {},
     "output_type": "execute_result"
    }
   ],
   "source": [
    "base_data_to_update_ALL_ANOTHER_FLAG['block_flg'].unique()"
   ]
  },
  {
   "cell_type": "code",
   "execution_count": 204,
   "id": "dfe3bc61-c2b0-45a1-abe6-bede3d449954",
   "metadata": {},
   "outputs": [],
   "source": [
    "# Объединение по ключевым столбцам\n",
    "merged_df = base_data_to_update_3_FLAG.merge(base_data_to_update_1_FLAG, \n",
    "                                                on=['project', \n",
    "                                                    'type', \n",
    "                                                    'geo', \n",
    "                                                    'pid', \n",
    "                                                    'sub', \n",
    "                                                    'sub_type'], \n",
    "                                                how='left', \n",
    "                                                suffixes=('', '_df1'))"
   ]
  },
  {
   "cell_type": "code",
   "execution_count": 205,
   "id": "7c13f923-011d-4f0e-a349-f56110f80506",
   "metadata": {},
   "outputs": [],
   "source": [
    "FLAG_3_TO_ZERO_ANOTHER_1_FLG = merged_df.loc[(merged_df['block_flg_df1'] == 1)].reset_index(drop=True)"
   ]
  },
  {
   "cell_type": "code",
   "execution_count": 207,
   "id": "f052c043-da14-4c60-9daf-5c217235cd4b",
   "metadata": {},
   "outputs": [],
   "source": [
    "mask = merged_df['block_flg_df1'] == 1"
   ]
  },
  {
   "cell_type": "code",
   "execution_count": 208,
   "id": "e822e926-d7e6-429b-8701-e98346550e2e",
   "metadata": {},
   "outputs": [],
   "source": [
    "\n",
    "mask = merged_df['block_flg_df1'] == 1\n",
    "pid_to_update = merged_df.loc[mask, ['project', \n",
    "                                     'type', \n",
    "                                     'geo', \n",
    "                                     'pid', \n",
    "                                     'sub', \n",
    "                                     'sub_type']].set_index(\n",
    "    ['project', \n",
    "     'type', \n",
    "     'geo', \n",
    "     'pid', \n",
    "     'sub', \n",
    "     'sub_type']\n",
    ").index\n",
    "\n",
    "# Обновляем block_flg в concat_data_payback_2_FLG\n",
    "base_data_to_update_3_FLAG.loc[\n",
    "    base_data_to_update_3_FLAG.set_index(['project', \n",
    "                                             'type', \n",
    "                                             'geo', \n",
    "                                             'pid', \n",
    "                                             'sub', \n",
    "                                             'sub_type']).index.isin(pid_to_update),\n",
    "    'block_flg'\n",
    "] = 0"
   ]
  },
  {
   "cell_type": "code",
   "execution_count": 209,
   "id": "75cc0059-232a-45eb-9586-1f92cf7c53a8",
   "metadata": {},
   "outputs": [
    {
     "data": {
      "text/plain": [
       "3095"
      ]
     },
     "execution_count": 209,
     "metadata": {},
     "output_type": "execute_result"
    }
   ],
   "source": [
    "base_data_to_update.shape[0]"
   ]
  },
  {
   "cell_type": "code",
   "execution_count": 210,
   "id": "09013aaa-ec83-47e5-aeb9-e9f1c00f5ed2",
   "metadata": {},
   "outputs": [],
   "source": [
    "# Объединяем DataFrame по строкам\n",
    "base_data_to_update = pd.concat([base_data_to_update_3_FLAG, \n",
    "                                    base_data_to_update_1_FLAG], \n",
    "                                   ignore_index=True).reset_index(drop=True)\n",
    "\n",
    "base_data_to_update = pd.concat([base_data_to_update, \n",
    "                                    base_data_to_update_ALL_ANOTHER_FLAG], \n",
    "                                   ignore_index=True).reset_index(drop=True)"
   ]
  },
  {
   "cell_type": "code",
   "execution_count": 211,
   "id": "704757c4-3ffa-43bc-8ea2-ca3d47232562",
   "metadata": {},
   "outputs": [
    {
     "data": {
      "text/plain": [
       "3095"
      ]
     },
     "execution_count": 211,
     "metadata": {},
     "output_type": "execute_result"
    }
   ],
   "source": [
    "base_data_to_update.shape[0]"
   ]
  },
  {
   "cell_type": "markdown",
   "id": "7786dd9b-64d3-47f8-ae08-98296840dee4",
   "metadata": {},
   "source": [
    "# УБИРАЕМ СТРОКИ С НУЛЕВЫМИ ФЛАГАМИ ИЗ МАКСИМАЛЬНОЙ ДАТЫ В ДАТАСЕТЕ"
   ]
  },
  {
   "cell_type": "code",
   "execution_count": 212,
   "id": "47f9a57f-3474-46a7-a661-1e0a0883b960",
   "metadata": {},
   "outputs": [],
   "source": [
    "base_data_to_update = base_data_to_update.astype({\n",
    "    'project': 'str',\n",
    "    'type': 'str',\n",
    "    'geo': 'str',\n",
    "    'pid': 'int64',\n",
    "    'sub': 'str',\n",
    "    'sub_type': 'str',\n",
    "    'block_flg': 'int64',\n",
    "    'blocked_date': 'datetime64[ns]',\n",
    "    'block_desc': 'str'\n",
    "})\n",
    "\n",
    "assert base_data_to_update.isna().sum().sum() == 0"
   ]
  },
  {
   "cell_type": "code",
   "execution_count": 213,
   "id": "4fc1a74e-0de4-416a-982f-56c2a0cea0eb",
   "metadata": {},
   "outputs": [],
   "source": [
    "xxx = base_data_to_update.shape[0]"
   ]
  },
  {
   "cell_type": "code",
   "execution_count": 214,
   "id": "287de994-f24b-4dab-b319-80961e2e2f68",
   "metadata": {},
   "outputs": [
    {
     "data": {
      "text/plain": [
       "3095"
      ]
     },
     "execution_count": 214,
     "metadata": {},
     "output_type": "execute_result"
    }
   ],
   "source": [
    "base_data_to_update.shape[0]"
   ]
  },
  {
   "cell_type": "code",
   "execution_count": 215,
   "id": "24562741-3e22-479b-9a68-afe9afd685d5",
   "metadata": {},
   "outputs": [
    {
     "data": {
      "text/html": [
       "<div>\n",
       "<style scoped>\n",
       "    .dataframe tbody tr th:only-of-type {\n",
       "        vertical-align: middle;\n",
       "    }\n",
       "\n",
       "    .dataframe tbody tr th {\n",
       "        vertical-align: top;\n",
       "    }\n",
       "\n",
       "    .dataframe thead th {\n",
       "        text-align: right;\n",
       "    }\n",
       "</style>\n",
       "<table border=\"1\" class=\"dataframe\">\n",
       "  <thead>\n",
       "    <tr style=\"text-align: right;\">\n",
       "      <th></th>\n",
       "      <th>project</th>\n",
       "      <th>type</th>\n",
       "      <th>geo</th>\n",
       "      <th>pid</th>\n",
       "      <th>sub</th>\n",
       "      <th>sub_type</th>\n",
       "      <th>block_flg</th>\n",
       "      <th>blocked_date</th>\n",
       "      <th>block_desc</th>\n",
       "    </tr>\n",
       "  </thead>\n",
       "  <tbody>\n",
       "    <tr>\n",
       "      <th>0</th>\n",
       "      <td>mb</td>\n",
       "      <td>brand</td>\n",
       "      <td>BD</td>\n",
       "      <td>136659</td>\n",
       "      <td>6658</td>\n",
       "      <td>sub2</td>\n",
       "      <td>3</td>\n",
       "      <td>2025-04-16</td>\n",
       "      <td>limit=1; речек 16.06</td>\n",
       "    </tr>\n",
       "    <tr>\n",
       "      <th>1</th>\n",
       "      <td>mb</td>\n",
       "      <td>perform</td>\n",
       "      <td>HU</td>\n",
       "      <td>324248</td>\n",
       "      <td></td>\n",
       "      <td></td>\n",
       "      <td>3</td>\n",
       "      <td>2025-04-16</td>\n",
       "      <td>04.2025: limit=1</td>\n",
       "    </tr>\n",
       "    <tr>\n",
       "      <th>2</th>\n",
       "      <td>mb</td>\n",
       "      <td>brand</td>\n",
       "      <td>BD</td>\n",
       "      <td>136657</td>\n",
       "      <td>6081</td>\n",
       "      <td>sub2</td>\n",
       "      <td>3</td>\n",
       "      <td>2025-04-16</td>\n",
       "      <td>limit=1; речек 16.05</td>\n",
       "    </tr>\n",
       "    <tr>\n",
       "      <th>3</th>\n",
       "      <td>mb</td>\n",
       "      <td>brand</td>\n",
       "      <td>BD</td>\n",
       "      <td>136657</td>\n",
       "      <td>6573</td>\n",
       "      <td>sub2</td>\n",
       "      <td>3</td>\n",
       "      <td>2025-04-16</td>\n",
       "      <td>limit=1; речек 16.05</td>\n",
       "    </tr>\n",
       "    <tr>\n",
       "      <th>4</th>\n",
       "      <td>mb</td>\n",
       "      <td>brand</td>\n",
       "      <td>BD</td>\n",
       "      <td>136657</td>\n",
       "      <td>6597</td>\n",
       "      <td>sub2</td>\n",
       "      <td>3</td>\n",
       "      <td>2025-04-16</td>\n",
       "      <td>limit=1; речек 16.05</td>\n",
       "    </tr>\n",
       "  </tbody>\n",
       "</table>\n",
       "</div>"
      ],
      "text/plain": [
       "  project     type geo     pid   sub sub_type  block_flg blocked_date  \\\n",
       "0      mb    brand  BD  136659  6658     sub2          3   2025-04-16   \n",
       "1      mb  perform  HU  324248                         3   2025-04-16   \n",
       "2      mb    brand  BD  136657  6081     sub2          3   2025-04-16   \n",
       "3      mb    brand  BD  136657  6573     sub2          3   2025-04-16   \n",
       "4      mb    brand  BD  136657  6597     sub2          3   2025-04-16   \n",
       "\n",
       "             block_desc  \n",
       "0  limit=1; речек 16.06  \n",
       "1      04.2025: limit=1  \n",
       "2  limit=1; речек 16.05  \n",
       "3  limit=1; речек 16.05  \n",
       "4  limit=1; речек 16.05  "
      ]
     },
     "execution_count": 215,
     "metadata": {},
     "output_type": "execute_result"
    }
   ],
   "source": [
    "base_data_to_update.head()"
   ]
  },
  {
   "cell_type": "code",
   "execution_count": 216,
   "id": "2c691952-8a46-47c6-bf30-f4ac848b9489",
   "metadata": {},
   "outputs": [],
   "source": [
    "sss = base_data_to_update.loc[\n",
    "    (base_data_to_update['blocked_date'] == base_data_to_update['blocked_date'].max()) \n",
    "                        & (base_data_to_update['block_flg'] == 0)].shape[0]"
   ]
  },
  {
   "cell_type": "code",
   "execution_count": 217,
   "id": "8f27e55c-b2ac-453f-bde0-dc9b319ccb62",
   "metadata": {},
   "outputs": [
    {
     "data": {
      "text/html": [
       "<div>\n",
       "<style scoped>\n",
       "    .dataframe tbody tr th:only-of-type {\n",
       "        vertical-align: middle;\n",
       "    }\n",
       "\n",
       "    .dataframe tbody tr th {\n",
       "        vertical-align: top;\n",
       "    }\n",
       "\n",
       "    .dataframe thead th {\n",
       "        text-align: right;\n",
       "    }\n",
       "</style>\n",
       "<table border=\"1\" class=\"dataframe\">\n",
       "  <thead>\n",
       "    <tr style=\"text-align: right;\">\n",
       "      <th></th>\n",
       "      <th>project</th>\n",
       "      <th>type</th>\n",
       "      <th>geo</th>\n",
       "      <th>pid</th>\n",
       "      <th>sub</th>\n",
       "      <th>sub_type</th>\n",
       "      <th>block_flg</th>\n",
       "      <th>blocked_date</th>\n",
       "      <th>block_desc</th>\n",
       "    </tr>\n",
       "  </thead>\n",
       "  <tbody>\n",
       "  </tbody>\n",
       "</table>\n",
       "</div>"
      ],
      "text/plain": [
       "Empty DataFrame\n",
       "Columns: [project, type, geo, pid, sub, sub_type, block_flg, blocked_date, block_desc]\n",
       "Index: []"
      ]
     },
     "execution_count": 217,
     "metadata": {},
     "output_type": "execute_result"
    }
   ],
   "source": [
    "base_data_to_update.loc[\n",
    "    (base_data_to_update['blocked_date'] == base_data_to_update['blocked_date'].max()) \n",
    "                        & (base_data_to_update['block_flg'] == 0)]"
   ]
  },
  {
   "cell_type": "code",
   "execution_count": 218,
   "id": "a731de7a-27f7-42b2-a1d2-2ca2d2c74671",
   "metadata": {},
   "outputs": [
    {
     "data": {
      "text/plain": [
       "3095"
      ]
     },
     "execution_count": 218,
     "metadata": {},
     "output_type": "execute_result"
    }
   ],
   "source": [
    "base_data_to_update.shape[0]"
   ]
  },
  {
   "cell_type": "code",
   "execution_count": 219,
   "id": "c1d8c2d1-1bbb-42e1-b570-1f6f18cfec2e",
   "metadata": {},
   "outputs": [],
   "source": [
    "base_data_to_update = base_data_to_update.drop(\n",
    "    base_data_to_update.loc[\n",
    "        (base_data_to_update['blocked_date'] == base_data_to_update['blocked_date'].max()) \n",
    "        & (base_data_to_update['block_flg'] == 0)\n",
    "    ].index\n",
    ").reset_index(drop=True)"
   ]
  },
  {
   "cell_type": "code",
   "execution_count": 220,
   "id": "70579ab2-1ef0-4997-bf77-8f5e942451af",
   "metadata": {},
   "outputs": [],
   "source": [
    "##### Для проверки что все ок удалилось!!!!!!!!!\n",
    "assert xxx == (base_data_to_update.shape[0] + sss)"
   ]
  },
  {
   "cell_type": "code",
   "execution_count": 221,
   "id": "286ce8e6-38c0-497a-9576-a74e85b474db",
   "metadata": {},
   "outputs": [
    {
     "data": {
      "text/plain": [
       "3095"
      ]
     },
     "execution_count": 221,
     "metadata": {},
     "output_type": "execute_result"
    }
   ],
   "source": [
    "base_data_to_update.shape[0]"
   ]
  },
  {
   "cell_type": "code",
   "execution_count": 222,
   "id": "8c807b1b-f18f-44a8-b7df-d6f97a15c4f0",
   "metadata": {},
   "outputs": [],
   "source": [
    "##### Удаляем полные дубли на всякий случай\n",
    "base_data_to_update = base_data_to_update.drop_duplicates().reset_index(drop=True)"
   ]
  },
  {
   "cell_type": "code",
   "execution_count": 223,
   "id": "5e08f1c7-731e-434e-9ab0-bc08f353db88",
   "metadata": {},
   "outputs": [
    {
     "data": {
      "text/plain": [
       "3095"
      ]
     },
     "execution_count": 223,
     "metadata": {},
     "output_type": "execute_result"
    }
   ],
   "source": [
    "base_data_to_update.shape[0]"
   ]
  },
  {
   "cell_type": "code",
   "execution_count": 224,
   "id": "abb49922-bf86-48f4-8e83-24fcf0482f18",
   "metadata": {},
   "outputs": [
    {
     "data": {
      "text/html": [
       "<div>\n",
       "<style scoped>\n",
       "    .dataframe tbody tr th:only-of-type {\n",
       "        vertical-align: middle;\n",
       "    }\n",
       "\n",
       "    .dataframe tbody tr th {\n",
       "        vertical-align: top;\n",
       "    }\n",
       "\n",
       "    .dataframe thead th {\n",
       "        text-align: right;\n",
       "    }\n",
       "</style>\n",
       "<table border=\"1\" class=\"dataframe\">\n",
       "  <thead>\n",
       "    <tr style=\"text-align: right;\">\n",
       "      <th></th>\n",
       "      <th>project</th>\n",
       "      <th>type</th>\n",
       "      <th>geo</th>\n",
       "      <th>pid</th>\n",
       "      <th>sub</th>\n",
       "      <th>sub_type</th>\n",
       "      <th>block_flg</th>\n",
       "      <th>blocked_date</th>\n",
       "      <th>block_desc</th>\n",
       "    </tr>\n",
       "  </thead>\n",
       "  <tbody>\n",
       "    <tr>\n",
       "      <th>20</th>\n",
       "      <td>ba</td>\n",
       "      <td>brand</td>\n",
       "      <td>BD</td>\n",
       "      <td>27438</td>\n",
       "      <td></td>\n",
       "      <td></td>\n",
       "      <td>1</td>\n",
       "      <td>2025-04-03</td>\n",
       "      <td>Период мониторинга закончен. Трафик не окупаем.</td>\n",
       "    </tr>\n",
       "    <tr>\n",
       "      <th>2177</th>\n",
       "      <td>ba</td>\n",
       "      <td>brand</td>\n",
       "      <td>ALL</td>\n",
       "      <td>27438</td>\n",
       "      <td></td>\n",
       "      <td></td>\n",
       "      <td>0</td>\n",
       "      <td>2025-02-26</td>\n",
       "      <td>03.2025: limit=1</td>\n",
       "    </tr>\n",
       "    <tr>\n",
       "      <th>2407</th>\n",
       "      <td>ba</td>\n",
       "      <td>brand</td>\n",
       "      <td>BD</td>\n",
       "      <td>27438</td>\n",
       "      <td></td>\n",
       "      <td></td>\n",
       "      <td>0</td>\n",
       "      <td>2025-03-26</td>\n",
       "      <td>limit=100</td>\n",
       "    </tr>\n",
       "  </tbody>\n",
       "</table>\n",
       "</div>"
      ],
      "text/plain": [
       "     project   type  geo    pid sub sub_type  block_flg blocked_date  \\\n",
       "20        ba  brand   BD  27438                       1   2025-04-03   \n",
       "2177      ba  brand  ALL  27438                       0   2025-02-26   \n",
       "2407      ba  brand   BD  27438                       0   2025-03-26   \n",
       "\n",
       "                                           block_desc  \n",
       "20    Период мониторинга закончен. Трафик не окупаем.  \n",
       "2177                                 03.2025: limit=1  \n",
       "2407                                        limit=100  "
      ]
     },
     "execution_count": 224,
     "metadata": {},
     "output_type": "execute_result"
    }
   ],
   "source": [
    "##### Проверка все ли ок\n",
    "base_data_to_update.loc[(base_data_to_update['pid'] == 27438) \n",
    "                           & (base_data_to_update['sub'] == '')]"
   ]
  },
  {
   "cell_type": "code",
   "execution_count": 225,
   "id": "5fc56ac5-5fc5-428e-858e-aa90c9fee274",
   "metadata": {},
   "outputs": [
    {
     "data": {
      "text/html": [
       "<div>\n",
       "<style scoped>\n",
       "    .dataframe tbody tr th:only-of-type {\n",
       "        vertical-align: middle;\n",
       "    }\n",
       "\n",
       "    .dataframe tbody tr th {\n",
       "        vertical-align: top;\n",
       "    }\n",
       "\n",
       "    .dataframe thead th {\n",
       "        text-align: right;\n",
       "    }\n",
       "</style>\n",
       "<table border=\"1\" class=\"dataframe\">\n",
       "  <thead>\n",
       "    <tr style=\"text-align: right;\">\n",
       "      <th></th>\n",
       "      <th>project</th>\n",
       "      <th>type</th>\n",
       "      <th>geo</th>\n",
       "      <th>pid</th>\n",
       "      <th>sub</th>\n",
       "      <th>sub_type</th>\n",
       "      <th>block_flg</th>\n",
       "      <th>blocked_date</th>\n",
       "      <th>block_desc</th>\n",
       "    </tr>\n",
       "  </thead>\n",
       "  <tbody>\n",
       "    <tr>\n",
       "      <th>1477</th>\n",
       "      <td>mb</td>\n",
       "      <td>perform</td>\n",
       "      <td>RU</td>\n",
       "      <td>336242</td>\n",
       "      <td></td>\n",
       "      <td></td>\n",
       "      <td>1</td>\n",
       "      <td>2025-04-03</td>\n",
       "      <td>Период мониторинга закончен. Трафик не окупаем.</td>\n",
       "    </tr>\n",
       "    <tr>\n",
       "      <th>1815</th>\n",
       "      <td>mb</td>\n",
       "      <td>perform</td>\n",
       "      <td>TR</td>\n",
       "      <td>336242</td>\n",
       "      <td></td>\n",
       "      <td></td>\n",
       "      <td>1</td>\n",
       "      <td>2025-04-16</td>\n",
       "      <td>Медиабаинг: Трафик остановлен</td>\n",
       "    </tr>\n",
       "    <tr>\n",
       "      <th>2358</th>\n",
       "      <td>mb</td>\n",
       "      <td>perform</td>\n",
       "      <td>RU</td>\n",
       "      <td>336242</td>\n",
       "      <td></td>\n",
       "      <td></td>\n",
       "      <td>0</td>\n",
       "      <td>2025-03-13</td>\n",
       "      <td>limit=100</td>\n",
       "    </tr>\n",
       "    <tr>\n",
       "      <th>2388</th>\n",
       "      <td>mb</td>\n",
       "      <td>perform</td>\n",
       "      <td>TR</td>\n",
       "      <td>336242</td>\n",
       "      <td></td>\n",
       "      <td></td>\n",
       "      <td>0</td>\n",
       "      <td>2025-03-19</td>\n",
       "      <td>limit=100</td>\n",
       "    </tr>\n",
       "  </tbody>\n",
       "</table>\n",
       "</div>"
      ],
      "text/plain": [
       "     project     type geo     pid sub sub_type  block_flg blocked_date  \\\n",
       "1477      mb  perform  RU  336242                       1   2025-04-03   \n",
       "1815      mb  perform  TR  336242                       1   2025-04-16   \n",
       "2358      mb  perform  RU  336242                       0   2025-03-13   \n",
       "2388      mb  perform  TR  336242                       0   2025-03-19   \n",
       "\n",
       "                                           block_desc  \n",
       "1477  Период мониторинга закончен. Трафик не окупаем.  \n",
       "1815                    Медиабаинг: Трафик остановлен  \n",
       "2358                                        limit=100  \n",
       "2388                                        limit=100  "
      ]
     },
     "execution_count": 225,
     "metadata": {},
     "output_type": "execute_result"
    }
   ],
   "source": [
    "##### Проверка все ли ок\n",
    "base_data_to_update.loc[(base_data_to_update['pid'] == 336242) \n",
    "                           & (base_data_to_update['sub'] == '')]"
   ]
  },
  {
   "cell_type": "markdown",
   "id": "4e032556-bfc2-4dc6-a293-c122fb0f69f5",
   "metadata": {},
   "source": [
    "# Временный костыль по просьбе заказчика, т.к. в табличке АФ есть дубли!"
   ]
  },
  {
   "cell_type": "code",
   "execution_count": 226,
   "id": "21c0dc92-0cbe-4a1a-847f-dd174aee6097",
   "metadata": {},
   "outputs": [],
   "source": [
    "base_data_to_update = (base_data_to_update.drop_duplicates(subset=['project',\n",
    "                                                                        'type', \n",
    "                                                                        'geo', \n",
    "                                                                        'pid', \n",
    "                                                                        'sub', \n",
    "                                                                        'sub_type', \n",
    "                                                                        'block_flg'])\n",
    "                                                .reset_index(drop = True)\n",
    "                                 )"
   ]
  },
  {
   "cell_type": "markdown",
   "id": "50daf9f8-f16f-4cf7-91d0-4d9164ae161b",
   "metadata": {},
   "source": [
    "# Пункт №1: Предварительная проверка данных (не должно быть что бы лимит стоял и он стопнут):"
   ]
  },
  {
   "cell_type": "code",
   "execution_count": 228,
   "id": "549b5560-6753-4a4c-9237-c7547c9fddaa",
   "metadata": {},
   "outputs": [],
   "source": [
    "_block_flg_2 = base_data_to_update[base_data_to_update['block_flg'] == 2].reset_index(drop=True)\n",
    "ALL_ANOTHER_block_flg = (base_data_to_update[base_data_to_update['block_flg'] != 2]\n",
    "                             .reset_index(drop=True)\n",
    "                                )"
   ]
  },
  {
   "cell_type": "markdown",
   "id": "242f6946-3df1-4606-9cd5-5b442949dd9c",
   "metadata": {},
   "source": [
    "## Блок проверки на дубли записей по лимитам:"
   ]
  },
  {
   "cell_type": "markdown",
   "id": "0cc8932c-7542-461a-9702-075c10befe0f",
   "metadata": {},
   "source": [
    "Ниже должны быть пустые датасеты!!!!!!"
   ]
  },
  {
   "cell_type": "code",
   "execution_count": 229,
   "id": "6476541f-8065-4f95-8c35-85f1039a7c74",
   "metadata": {},
   "outputs": [
    {
     "data": {
      "text/html": [
       "<div>\n",
       "<style scoped>\n",
       "    .dataframe tbody tr th:only-of-type {\n",
       "        vertical-align: middle;\n",
       "    }\n",
       "\n",
       "    .dataframe tbody tr th {\n",
       "        vertical-align: top;\n",
       "    }\n",
       "\n",
       "    .dataframe thead th {\n",
       "        text-align: right;\n",
       "    }\n",
       "</style>\n",
       "<table border=\"1\" class=\"dataframe\">\n",
       "  <thead>\n",
       "    <tr style=\"text-align: right;\">\n",
       "      <th></th>\n",
       "      <th>project</th>\n",
       "      <th>type</th>\n",
       "      <th>geo</th>\n",
       "      <th>pid</th>\n",
       "      <th>sub</th>\n",
       "      <th>sub_type</th>\n",
       "      <th>block_flg</th>\n",
       "      <th>blocked_date</th>\n",
       "      <th>block_desc</th>\n",
       "    </tr>\n",
       "  </thead>\n",
       "  <tbody>\n",
       "  </tbody>\n",
       "</table>\n",
       "</div>"
      ],
      "text/plain": [
       "Empty DataFrame\n",
       "Columns: [project, type, geo, pid, sub, sub_type, block_flg, blocked_date, block_desc]\n",
       "Index: []"
      ]
     },
     "execution_count": 229,
     "metadata": {},
     "output_type": "execute_result"
    }
   ],
   "source": [
    "### Дубликаты если есть получившиеся\n",
    "assert _block_flg_2[_block_flg_2.duplicated(['project', \n",
    "                                             'type', \n",
    "                                             'geo', \n",
    "                                             'pid', \n",
    "                                             'sub', \n",
    "                                             'sub_type', \n",
    "                                             'block_flg'])].shape[0] == 0\n",
    "_block_flg_2[_block_flg_2.duplicated(['project', \n",
    "                                      'type', \n",
    "                                      'geo', \n",
    "                                      'pid', \n",
    "                                      'sub', \n",
    "                                      'sub_type', \n",
    "                                      'block_flg'])].sort_values(by = 'geo')"
   ]
  },
  {
   "cell_type": "code",
   "execution_count": 230,
   "id": "f163a8b2-c64b-4ea1-bff2-5873e7e853a2",
   "metadata": {},
   "outputs": [
    {
     "data": {
      "text/html": [
       "<div>\n",
       "<style scoped>\n",
       "    .dataframe tbody tr th:only-of-type {\n",
       "        vertical-align: middle;\n",
       "    }\n",
       "\n",
       "    .dataframe tbody tr th {\n",
       "        vertical-align: top;\n",
       "    }\n",
       "\n",
       "    .dataframe thead th {\n",
       "        text-align: right;\n",
       "    }\n",
       "</style>\n",
       "<table border=\"1\" class=\"dataframe\">\n",
       "  <thead>\n",
       "    <tr style=\"text-align: right;\">\n",
       "      <th></th>\n",
       "      <th>project</th>\n",
       "      <th>type</th>\n",
       "      <th>geo</th>\n",
       "      <th>pid</th>\n",
       "      <th>sub</th>\n",
       "      <th>sub_type</th>\n",
       "      <th>block_flg</th>\n",
       "      <th>blocked_date</th>\n",
       "      <th>block_desc</th>\n",
       "    </tr>\n",
       "  </thead>\n",
       "  <tbody>\n",
       "  </tbody>\n",
       "</table>\n",
       "</div>"
      ],
      "text/plain": [
       "Empty DataFrame\n",
       "Columns: [project, type, geo, pid, sub, sub_type, block_flg, blocked_date, block_desc]\n",
       "Index: []"
      ]
     },
     "execution_count": 230,
     "metadata": {},
     "output_type": "execute_result"
    }
   ],
   "source": [
    "_block_flg_3 = base_data_to_update[base_data_to_update['block_flg'] == 3].reset_index(drop=True)\n",
    "### Дубликаты если есть получившиеся\n",
    "assert _block_flg_3[_block_flg_3.duplicated(['project', \n",
    "                                             'type', \n",
    "                                             'geo', \n",
    "                                             'pid', \n",
    "                                             'sub', \n",
    "                                             'sub_type', \n",
    "                                             'block_flg'])].shape[0] == 0\n",
    "_block_flg_3[_block_flg_3.duplicated(['project', \n",
    "                                      'type', \n",
    "                                      'geo', \n",
    "                                      'pid', \n",
    "                                      'sub', \n",
    "                                      'sub_type', \n",
    "                                      'block_flg'])].sort_values(by = 'geo')"
   ]
  },
  {
   "cell_type": "code",
   "execution_count": 231,
   "id": "501e2e9b-7075-4c1c-9d94-044de833ef4b",
   "metadata": {},
   "outputs": [
    {
     "data": {
      "text/html": [
       "<div>\n",
       "<style scoped>\n",
       "    .dataframe tbody tr th:only-of-type {\n",
       "        vertical-align: middle;\n",
       "    }\n",
       "\n",
       "    .dataframe tbody tr th {\n",
       "        vertical-align: top;\n",
       "    }\n",
       "\n",
       "    .dataframe thead th {\n",
       "        text-align: right;\n",
       "    }\n",
       "</style>\n",
       "<table border=\"1\" class=\"dataframe\">\n",
       "  <thead>\n",
       "    <tr style=\"text-align: right;\">\n",
       "      <th></th>\n",
       "      <th>project</th>\n",
       "      <th>type</th>\n",
       "      <th>geo</th>\n",
       "      <th>pid</th>\n",
       "      <th>sub</th>\n",
       "      <th>sub_type</th>\n",
       "      <th>block_flg</th>\n",
       "      <th>blocked_date</th>\n",
       "      <th>block_desc</th>\n",
       "    </tr>\n",
       "  </thead>\n",
       "  <tbody>\n",
       "  </tbody>\n",
       "</table>\n",
       "</div>"
      ],
      "text/plain": [
       "Empty DataFrame\n",
       "Columns: [project, type, geo, pid, sub, sub_type, block_flg, blocked_date, block_desc]\n",
       "Index: []"
      ]
     },
     "execution_count": 231,
     "metadata": {},
     "output_type": "execute_result"
    }
   ],
   "source": [
    "_block_flg_4 = base_data_to_update[base_data_to_update['block_flg'] == 4].reset_index(drop=True)\n",
    "### Дубликаты если есть получившиеся\n",
    "assert _block_flg_4[_block_flg_4.duplicated(['project', \n",
    "                                             'type', \n",
    "                                             'geo', \n",
    "                                             'pid', \n",
    "                                             'sub', \n",
    "                                             'sub_type', \n",
    "                                             'block_flg'])].shape[0] == 0\n",
    "_block_flg_4[_block_flg_4.duplicated(['project', \n",
    "                                      'type', \n",
    "                                      'geo', \n",
    "                                      'pid', \n",
    "                                      'sub', \n",
    "                                      'sub_type', \n",
    "                                      'block_flg'])].sort_values(by = 'geo')"
   ]
  },
  {
   "cell_type": "code",
   "execution_count": 232,
   "id": "608c1b5f-330e-472f-a099-34a95e4e99dc",
   "metadata": {},
   "outputs": [
    {
     "data": {
      "text/html": [
       "<div>\n",
       "<style scoped>\n",
       "    .dataframe tbody tr th:only-of-type {\n",
       "        vertical-align: middle;\n",
       "    }\n",
       "\n",
       "    .dataframe tbody tr th {\n",
       "        vertical-align: top;\n",
       "    }\n",
       "\n",
       "    .dataframe thead th {\n",
       "        text-align: right;\n",
       "    }\n",
       "</style>\n",
       "<table border=\"1\" class=\"dataframe\">\n",
       "  <thead>\n",
       "    <tr style=\"text-align: right;\">\n",
       "      <th></th>\n",
       "      <th>project</th>\n",
       "      <th>type</th>\n",
       "      <th>geo</th>\n",
       "      <th>pid</th>\n",
       "      <th>sub</th>\n",
       "      <th>sub_type</th>\n",
       "      <th>block_flg</th>\n",
       "      <th>blocked_date</th>\n",
       "      <th>block_desc</th>\n",
       "    </tr>\n",
       "  </thead>\n",
       "  <tbody>\n",
       "  </tbody>\n",
       "</table>\n",
       "</div>"
      ],
      "text/plain": [
       "Empty DataFrame\n",
       "Columns: [project, type, geo, pid, sub, sub_type, block_flg, blocked_date, block_desc]\n",
       "Index: []"
      ]
     },
     "execution_count": 232,
     "metadata": {},
     "output_type": "execute_result"
    }
   ],
   "source": [
    "_block_flg_1 = base_data_to_update[base_data_to_update['block_flg'] == 1].reset_index(drop=True)\n",
    "### Дубликаты если есть получившиеся\n",
    "assert _block_flg_1[_block_flg_1.duplicated(['project', \n",
    "                                             'type', \n",
    "                                             'geo', \n",
    "                                             'pid', \n",
    "                                             'sub', \n",
    "                                             'sub_type', \n",
    "                                             'block_flg'])].shape[0] == 0\n",
    "_block_flg_1[_block_flg_1.duplicated(['project', \n",
    "                                      'type', \n",
    "                                      'geo', \n",
    "                                      'pid', \n",
    "                                      'sub', \n",
    "                                      'sub_type', \n",
    "                                      'block_flg'])].sort_values(by = 'geo')"
   ]
  },
  {
   "cell_type": "code",
   "execution_count": 233,
   "id": "03222241-6aaf-4f89-b77f-312a67352424",
   "metadata": {},
   "outputs": [],
   "source": [
    "# Находим пересечения\n",
    "common_rows = ALL_ANOTHER_block_flg[ALL_ANOTHER_block_flg['block_flg'] == 1].merge(_block_flg_2, \n",
    "                                                                                   on=['project', \n",
    "                                                                                       'type', \n",
    "                                                                                       'geo', \n",
    "                                                                                       'pid', \n",
    "                                                                                       'sub', \n",
    "                                                                                       'sub_type'], \n",
    "                                                                                   how='inner')\n",
    "assert common_rows.shape[0] == 0\n",
    "\n",
    "# Находим пересечения\n",
    "common_rows = ALL_ANOTHER_block_flg[ALL_ANOTHER_block_flg['block_flg'] == 1].merge(_block_flg_3, \n",
    "                                                                                   on=['project', \n",
    "                                                                                       'type', \n",
    "                                                                                       'geo', \n",
    "                                                                                       'pid', \n",
    "                                                                                       'sub', \n",
    "                                                                                       'sub_type'], \n",
    "                                                                                   how='inner')\n",
    "assert common_rows.shape[0] == 0\n",
    "\n",
    "# Находим пересечения\n",
    "common_rows = ALL_ANOTHER_block_flg[ALL_ANOTHER_block_flg['block_flg'] == 1].merge(_block_flg_4, \n",
    "                                                                                   on=['project', \n",
    "                                                                                       'type', \n",
    "                                                                                       'geo', \n",
    "                                                                                       'pid', \n",
    "                                                                                       'sub', \n",
    "                                                                                       'sub_type'], \n",
    "                                                                                   how='inner')\n",
    "assert common_rows.shape[0] == 0\n",
    "\n",
    "###############################################################################\n",
    "\n",
    "###### Проверка на дубли по остальным не нулевым флагам!!!!!!!!!!\n",
    "\n",
    "# Находим пересечения\n",
    "common_rows = base_data_to_update[base_data_to_update['block_flg'] == 2].merge(_block_flg_3, \n",
    "                                                                                     on=['project', \n",
    "                                                                                         'type', \n",
    "                                                                                         'geo', \n",
    "                                                                                         'pid', \n",
    "                                                                                         'sub', \n",
    "                                                                                         'sub_type'], \n",
    "                                                                                     how='inner')\n",
    "assert common_rows.shape[0] == 0\n",
    "\n",
    "# Находим пересечения\n",
    "common_rows = ALL_ANOTHER_block_flg[ALL_ANOTHER_block_flg['block_flg'] == 3].merge(_block_flg_4, \n",
    "                                                                                   on=['project', \n",
    "                                                                                       'type', \n",
    "                                                                                       'geo', \n",
    "                                                                                       'pid', \n",
    "                                                                                       'sub', \n",
    "                                                                                       'sub_type'], \n",
    "                                                                                   how='inner')\n",
    "assert common_rows.shape[0] == 0\n",
    "\n",
    "# Находим пересечения\n",
    "common_rows = ALL_ANOTHER_block_flg[ALL_ANOTHER_block_flg['block_flg'] == 4].merge(_block_flg_2, \n",
    "                                                                                   on=['project', \n",
    "                                                                                       'type', \n",
    "                                                                                       'geo', \n",
    "                                                                                       'pid', \n",
    "                                                                                       'sub', \n",
    "                                                                                       'sub_type'], \n",
    "                                                                                   how='inner')\n",
    "assert common_rows.shape[0] == 0\n",
    "\n",
    "# Находим пересечения\n",
    "common_rows = ALL_ANOTHER_block_flg[ALL_ANOTHER_block_flg['block_flg'] == 4].merge(_block_flg_3, \n",
    "                                                                                   on=['project', \n",
    "                                                                                       'type', \n",
    "                                                                                       'geo', \n",
    "                                                                                       'pid', \n",
    "                                                                                       'sub', \n",
    "                                                                                       'sub_type'], \n",
    "                                                                                   how='inner')\n",
    "assert common_rows.shape[0] == 0\n",
    "\n",
    "# Находим пересечения\n",
    "common_rows = base_data_to_update[base_data_to_update['block_flg'] == 2].merge(_block_flg_4, \n",
    "                                                                                     on=['project', \n",
    "                                                                                         'type', \n",
    "                                                                                         'geo', \n",
    "                                                                                         'pid', \n",
    "                                                                                         'sub', \n",
    "                                                                                         'sub_type'], \n",
    "                                                                                     how='inner')\n",
    "assert common_rows.shape[0] == 0"
   ]
  },
  {
   "cell_type": "code",
   "execution_count": 234,
   "id": "1e291e55-8637-42b0-87b8-e5bf115fc0bf",
   "metadata": {},
   "outputs": [],
   "source": [
    "####### Проверка на дубли в нутри одного флага, не равного нулевому\n",
    "\n",
    "sss = base_data_to_update[base_data_to_update['block_flg'] == 1]\n",
    "### Дубликаты если есть получившиеся\n",
    "assert sss[sss.duplicated(['project', \n",
    "                           'type', \n",
    "                           'geo', \n",
    "                           'pid', \n",
    "                           'sub', \n",
    "                           'sub_type', \n",
    "                           'block_flg'])].shape[0] == 0\n",
    "\n",
    "sss = base_data_to_update[base_data_to_update['block_flg'] == 2]\n",
    "### Дубликаты если есть получившиеся\n",
    "assert sss[sss.duplicated(['project', \n",
    "                           'type', \n",
    "                           'geo', \n",
    "                           'pid', \n",
    "                           'sub', \n",
    "                           'sub_type', \n",
    "                           'block_flg'])].shape[0] == 0\n",
    "\n",
    "sss = base_data_to_update[base_data_to_update['block_flg'] == 3]\n",
    "### Дубликаты если есть получившиеся\n",
    "assert sss[sss.duplicated(['project', \n",
    "                           'type', \n",
    "                           'geo', \n",
    "                           'pid', \n",
    "                           'sub', \n",
    "                           'sub_type', \n",
    "                           'block_flg'])].shape[0] == 0\n",
    "\n",
    "sss = base_data_to_update[base_data_to_update['block_flg'] == 4]\n",
    "### Дубликаты если есть получившиеся\n",
    "assert sss[sss.duplicated(['project', \n",
    "                           'type', \n",
    "                           'geo', \n",
    "                           'pid', \n",
    "                           'sub', \n",
    "                           'sub_type', \n",
    "                           'block_flg'])].shape[0] == 0"
   ]
  },
  {
   "cell_type": "markdown",
   "id": "fcc12b78-ff93-4223-baa0-f3c73ee1f2fd",
   "metadata": {},
   "source": [
    "# Пункт общей проверки завершен, данные в таблице корректны."
   ]
  },
  {
   "cell_type": "code",
   "execution_count": 235,
   "id": "7538c547-a56f-403d-8841-7e0353911fb4",
   "metadata": {},
   "outputs": [
    {
     "data": {
      "text/html": [
       "<div>\n",
       "<style scoped>\n",
       "    .dataframe tbody tr th:only-of-type {\n",
       "        vertical-align: middle;\n",
       "    }\n",
       "\n",
       "    .dataframe tbody tr th {\n",
       "        vertical-align: top;\n",
       "    }\n",
       "\n",
       "    .dataframe thead th {\n",
       "        text-align: right;\n",
       "    }\n",
       "</style>\n",
       "<table border=\"1\" class=\"dataframe\">\n",
       "  <thead>\n",
       "    <tr style=\"text-align: right;\">\n",
       "      <th></th>\n",
       "      <th>project</th>\n",
       "      <th>type</th>\n",
       "      <th>geo</th>\n",
       "      <th>pid</th>\n",
       "      <th>sub</th>\n",
       "      <th>sub_type</th>\n",
       "      <th>block_flg</th>\n",
       "      <th>blocked_date</th>\n",
       "      <th>block_desc</th>\n",
       "    </tr>\n",
       "  </thead>\n",
       "  <tbody>\n",
       "    <tr>\n",
       "      <th>0</th>\n",
       "      <td>mb</td>\n",
       "      <td>brand</td>\n",
       "      <td>BD</td>\n",
       "      <td>136659</td>\n",
       "      <td>6658</td>\n",
       "      <td>sub2</td>\n",
       "      <td>3</td>\n",
       "      <td>2025-04-16</td>\n",
       "      <td>limit=1; речек 16.06</td>\n",
       "    </tr>\n",
       "    <tr>\n",
       "      <th>1</th>\n",
       "      <td>mb</td>\n",
       "      <td>perform</td>\n",
       "      <td>HU</td>\n",
       "      <td>324248</td>\n",
       "      <td></td>\n",
       "      <td></td>\n",
       "      <td>3</td>\n",
       "      <td>2025-04-16</td>\n",
       "      <td>04.2025: limit=1</td>\n",
       "    </tr>\n",
       "    <tr>\n",
       "      <th>2</th>\n",
       "      <td>mb</td>\n",
       "      <td>brand</td>\n",
       "      <td>BD</td>\n",
       "      <td>136657</td>\n",
       "      <td>6081</td>\n",
       "      <td>sub2</td>\n",
       "      <td>3</td>\n",
       "      <td>2025-04-16</td>\n",
       "      <td>limit=1; речек 16.05</td>\n",
       "    </tr>\n",
       "    <tr>\n",
       "      <th>3</th>\n",
       "      <td>mb</td>\n",
       "      <td>brand</td>\n",
       "      <td>BD</td>\n",
       "      <td>136657</td>\n",
       "      <td>6573</td>\n",
       "      <td>sub2</td>\n",
       "      <td>3</td>\n",
       "      <td>2025-04-16</td>\n",
       "      <td>limit=1; речек 16.05</td>\n",
       "    </tr>\n",
       "    <tr>\n",
       "      <th>4</th>\n",
       "      <td>mb</td>\n",
       "      <td>brand</td>\n",
       "      <td>BD</td>\n",
       "      <td>136657</td>\n",
       "      <td>6597</td>\n",
       "      <td>sub2</td>\n",
       "      <td>3</td>\n",
       "      <td>2025-04-16</td>\n",
       "      <td>limit=1; речек 16.05</td>\n",
       "    </tr>\n",
       "    <tr>\n",
       "      <th>...</th>\n",
       "      <td>...</td>\n",
       "      <td>...</td>\n",
       "      <td>...</td>\n",
       "      <td>...</td>\n",
       "      <td>...</td>\n",
       "      <td>...</td>\n",
       "      <td>...</td>\n",
       "      <td>...</td>\n",
       "      <td>...</td>\n",
       "    </tr>\n",
       "    <tr>\n",
       "      <th>3059</th>\n",
       "      <td>mb</td>\n",
       "      <td>perform</td>\n",
       "      <td>TR</td>\n",
       "      <td>49706</td>\n",
       "      <td>ig175</td>\n",
       "      <td>sub1</td>\n",
       "      <td>4</td>\n",
       "      <td>1980-01-01</td>\n",
       "      <td>Скам!</td>\n",
       "    </tr>\n",
       "    <tr>\n",
       "      <th>3060</th>\n",
       "      <td>mb</td>\n",
       "      <td>brand</td>\n",
       "      <td>IN</td>\n",
       "      <td>49534</td>\n",
       "      <td>23044</td>\n",
       "      <td>sub2</td>\n",
       "      <td>4</td>\n",
       "      <td>1980-01-01</td>\n",
       "      <td>Скам!</td>\n",
       "    </tr>\n",
       "    <tr>\n",
       "      <th>3061</th>\n",
       "      <td>mb</td>\n",
       "      <td>perform</td>\n",
       "      <td>TR</td>\n",
       "      <td>49710</td>\n",
       "      <td>bonuslion</td>\n",
       "      <td>sub1</td>\n",
       "      <td>4</td>\n",
       "      <td>1980-01-01</td>\n",
       "      <td>Скам!</td>\n",
       "    </tr>\n",
       "    <tr>\n",
       "      <th>3062</th>\n",
       "      <td>mb</td>\n",
       "      <td>perform</td>\n",
       "      <td>AZ</td>\n",
       "      <td>49664</td>\n",
       "      <td>ali.nadiroglu</td>\n",
       "      <td>sub2</td>\n",
       "      <td>4</td>\n",
       "      <td>1980-01-01</td>\n",
       "      <td>Скам!</td>\n",
       "    </tr>\n",
       "    <tr>\n",
       "      <th>3063</th>\n",
       "      <td>mb</td>\n",
       "      <td>perform</td>\n",
       "      <td>AZ</td>\n",
       "      <td>49660</td>\n",
       "      <td>alinadiroglu</td>\n",
       "      <td>sub3</td>\n",
       "      <td>4</td>\n",
       "      <td>1980-01-01</td>\n",
       "      <td>Скам!</td>\n",
       "    </tr>\n",
       "  </tbody>\n",
       "</table>\n",
       "<p>3064 rows × 9 columns</p>\n",
       "</div>"
      ],
      "text/plain": [
       "     project     type geo     pid            sub sub_type  block_flg  \\\n",
       "0         mb    brand  BD  136659           6658     sub2          3   \n",
       "1         mb  perform  HU  324248                                  3   \n",
       "2         mb    brand  BD  136657           6081     sub2          3   \n",
       "3         mb    brand  BD  136657           6573     sub2          3   \n",
       "4         mb    brand  BD  136657           6597     sub2          3   \n",
       "...      ...      ...  ..     ...            ...      ...        ...   \n",
       "3059      mb  perform  TR   49706          ig175     sub1          4   \n",
       "3060      mb    brand  IN   49534          23044     sub2          4   \n",
       "3061      mb  perform  TR   49710      bonuslion     sub1          4   \n",
       "3062      mb  perform  AZ   49664  ali.nadiroglu     sub2          4   \n",
       "3063      mb  perform  AZ   49660   alinadiroglu     sub3          4   \n",
       "\n",
       "     blocked_date            block_desc  \n",
       "0      2025-04-16  limit=1; речек 16.06  \n",
       "1      2025-04-16      04.2025: limit=1  \n",
       "2      2025-04-16  limit=1; речек 16.05  \n",
       "3      2025-04-16  limit=1; речек 16.05  \n",
       "4      2025-04-16  limit=1; речек 16.05  \n",
       "...           ...                   ...  \n",
       "3059   1980-01-01                 Скам!  \n",
       "3060   1980-01-01                 Скам!  \n",
       "3061   1980-01-01                 Скам!  \n",
       "3062   1980-01-01                 Скам!  \n",
       "3063   1980-01-01                 Скам!  \n",
       "\n",
       "[3064 rows x 9 columns]"
      ]
     },
     "execution_count": 235,
     "metadata": {},
     "output_type": "execute_result"
    }
   ],
   "source": [
    "base_data_to_update"
   ]
  },
  {
   "cell_type": "code",
   "execution_count": 236,
   "id": "0d7e6dcc-8a01-46cd-ae9d-aa33bec45298",
   "metadata": {},
   "outputs": [],
   "source": [
    "base_data_to_update = base_data_to_update.astype({\n",
    "    'project': 'str',\n",
    "    'type': 'str',\n",
    "    'geo': 'str',\n",
    "    'pid': 'int64',\n",
    "    'sub': 'str',\n",
    "    'sub_type': 'str',\n",
    "    'block_flg': 'int64',\n",
    "    'blocked_date': 'datetime64[ns]',\n",
    "    'block_desc': 'str'\n",
    "})\n",
    "\n",
    "assert base_data_to_update.isna().sum().sum() == 0"
   ]
  },
  {
   "cell_type": "markdown",
   "id": "59434554-b447-46c8-b428-df3c789c630a",
   "metadata": {},
   "source": [
    "# Зануляем старые единички по прошествии 3х месяцев:"
   ]
  },
  {
   "cell_type": "code",
   "execution_count": 237,
   "id": "6e5c4f5f-c6bf-4557-9dd7-e790324cc2a4",
   "metadata": {},
   "outputs": [],
   "source": [
    "# Текущая дата минус 3 месяца\n",
    "three_months_ago = datetime.today() - relativedelta(months=3)\n",
    "\n",
    "# Форматируем в строку 'YYYY-MM-DD'\n",
    "three_months_ago_str = three_months_ago.strftime('%Y-%m-%d')\n",
    "\n",
    "#print(three_months_ago_str)"
   ]
  },
  {
   "cell_type": "code",
   "execution_count": 238,
   "id": "be340036-a1b8-4a03-b952-610117071876",
   "metadata": {},
   "outputs": [
    {
     "data": {
      "text/plain": [
       "'2025-03-19'"
      ]
     },
     "execution_count": 238,
     "metadata": {},
     "output_type": "execute_result"
    }
   ],
   "source": [
    "three_months_ago_str"
   ]
  },
  {
   "cell_type": "code",
   "execution_count": 239,
   "id": "df67948e-e158-499d-abf1-1a4a402669e8",
   "metadata": {},
   "outputs": [],
   "source": [
    "base_data_to_update.loc[(base_data_to_update['block_flg'] == 1) \n",
    "                            & (base_data_to_update['blocked_date'] < three_months_ago_str)\n",
    "                            & (base_data_to_update['block_desc'] !=  'Антифрод: Заблокировано'), \n",
    "                           'block_flg'] = 0\n",
    "\n",
    "assert (base_data_to_update.loc[(base_data_to_update['block_flg'] == 1) \n",
    "                            & (base_data_to_update['blocked_date'] < three_months_ago_str)\n",
    "                            & (base_data_to_update['block_desc'] !=  'Антифрод: Заблокировано')]\n",
    "        .shape[0] == 0)\n",
    "\n",
    "assert (base_data_to_update.loc[(base_data_to_update['block_flg'] == 1) \n",
    "                            & (base_data_to_update['blocked_date'] > three_months_ago_str)\n",
    "                            & (base_data_to_update['block_desc'] !=  'Антифрод: Заблокировано')]\n",
    "        .shape[0] != 0)"
   ]
  },
  {
   "cell_type": "code",
   "execution_count": null,
   "id": "9ba52a20-33b2-43c6-8798-b32d985230eb",
   "metadata": {},
   "outputs": [],
   "source": []
  },
  {
   "cell_type": "markdown",
   "id": "84481d68-508e-4d5e-a181-8c7e9e38b3d1",
   "metadata": {
    "tags": []
   },
   "source": [
    "# Перестраховка перед загрузкой в валинор!!"
   ]
  },
  {
   "cell_type": "code",
   "execution_count": 240,
   "id": "6c81feea-efa1-4c0a-9f67-07ccd5be06ab",
   "metadata": {},
   "outputs": [],
   "source": [
    "base_data_to_update.to_excel('base_data_to_update_ПЕРЕСТРАХОВКА.xlsx', index=False)"
   ]
  },
  {
   "cell_type": "markdown",
   "id": "a903ae45-e19e-46af-b128-35eb371babaa",
   "metadata": {
    "jp-MarkdownHeadingCollapsed": true,
    "tags": []
   },
   "source": [
    "# Пункт если был сбой в БД и загрузка по каким-то причинам не завершилась"
   ]
  },
  {
   "cell_type": "markdown",
   "id": "f21fa6c3-03da-477b-b7d4-2a17d1e58c03",
   "metadata": {},
   "source": [
    "Данные ячейки активировать только в экстренных случаях или по появлению соответсатвующих AD-Hoc задач!"
   ]
  },
  {
   "cell_type": "code",
   "execution_count": null,
   "id": "97657d39-7378-4afd-8bd6-b62a113ba5b7",
   "metadata": {},
   "outputs": [],
   "source": [
    "base_data_to_update = pd.read_excel('base_data_to_update_ПЕРЕСТРАХОВКА.xlsx', dtype={'sub': 'str'})"
   ]
  },
  {
   "cell_type": "code",
   "execution_count": null,
   "id": "a0b7c7d6-09f6-4be5-8c97-9adfa21b3cf2",
   "metadata": {},
   "outputs": [],
   "source": [
    "# Замена пропусков в определенных колонках\n",
    "columns_to_replace = ['sub', 'sub_type']\n",
    "base_data_to_update[columns_to_replace] = base_data_to_update[columns_to_replace].fillna(\"\")"
   ]
  },
  {
   "cell_type": "code",
   "execution_count": null,
   "id": "9ab6d18f-6a62-4862-ba13-230f4714352d",
   "metadata": {},
   "outputs": [],
   "source": [
    "base_data_to_update = base_data_to_update.astype({\n",
    "    'project': 'str',\n",
    "    'type': 'str',\n",
    "    'geo': 'str',\n",
    "    'pid': 'int64',\n",
    "    'sub': 'str',\n",
    "    'sub_type': 'str',\n",
    "    'block_flg': 'int64',\n",
    "    'blocked_date': 'datetime64[ns]',\n",
    "    'block_desc': 'str'\n",
    "})\n",
    "\n",
    "assert base_data_to_update.isna().sum().sum() == 0"
   ]
  },
  {
   "cell_type": "code",
   "execution_count": null,
   "id": "0cd21104-2289-4668-9bd7-750ac6c0d395",
   "metadata": {},
   "outputs": [],
   "source": [
    "base_data_to_update.shape[0]"
   ]
  },
  {
   "cell_type": "markdown",
   "id": "df97a280-4aca-4fc0-9a96-1a2595981ecc",
   "metadata": {},
   "source": [
    "# ЗАГРУЗКА ОБНОВЛЕННОЙ ТАБЛИЦЫ В БД"
   ]
  },
  {
   "cell_type": "code",
   "execution_count": 20,
   "id": "982d0e47-1d41-4ee1-8c7e-40f989564d52",
   "metadata": {},
   "outputs": [],
   "source": [
    "base_data_to_update = base_data_to_update.astype({\n",
    "    'project': 'str',\n",
    "    'type': 'str',\n",
    "    'geo': 'str',\n",
    "    'pid': 'int64',\n",
    "    'sub': 'str',\n",
    "    'sub_type': 'str',\n",
    "    'block_flg': 'int64',\n",
    "    'blocked_date': 'datetime64[ns]',\n",
    "    'block_desc': 'str'\n",
    "})\n",
    "\n",
    "assert base_data_to_update.isna().sum().sum() == 0"
   ]
  },
  {
   "cell_type": "code",
   "execution_count": 21,
   "id": "f8ff83f7-b766-4387-95d9-079e8ce9fbfc",
   "metadata": {},
   "outputs": [],
   "source": [
    "### Настраиваем соединение с БД\n",
    "creds = pd.read_excel('Data_base.xlsx', index_col=0)\n"
   ]
  },
  {
   "cell_type": "code",
   "execution_count": 22,
   "id": "25738856-267c-4487-8f38-bd1266d62a47",
   "metadata": {},
   "outputs": [],
   "source": [
    "table_name = 'black_list_payback'"
   ]
  },
  {
   "cell_type": "code",
   "execution_count": 23,
   "id": "c0134c77-825f-4b4f-87df-8ffca7e81d4d",
   "metadata": {},
   "outputs": [],
   "source": [
    "# учетные данные для загрузки в валинор\n",
    "config_base = {\n",
    "    'host': 'base.dats.tech',\n",
    "    'user': creds.loc['base', 'user'],\n",
    "    'password': creds.loc['base', 'password'],\n",
    "    'database': 'reports_sharded'}\n",
    "\n",
    "# функция для очистки таблицы и загрузки данных в схему reports\n",
    "def base_upload(table_name, df, clickhouse_config=config_base):\n",
    "    with dbapi.connect(**clickhouse_config) as clickhouse_conn:\n",
    "        df = df.fillna(0).round(2)\n",
    "        # разбиваем дф для загрузки на лист тьюплов\n",
    "        rows = list(df.itertuples(index=False, name=None))\n",
    "        # создаем курсор\n",
    "        cursor = clickhouse_conn.cursor()\n",
    "        # транкейтим таблицу в схемах\n",
    "        cursor.execute(f'TRUNCATE TABLE reports_sharded.\"{table_name}\" on cluster mostbet_bi')\n",
    "        cursor.execute(f'TRUNCATE TABLE reports.\"{table_name}\" on cluster mostbet_bi')\n",
    "        # загружаем данные в схему reports на валинор\n",
    "        query = f'INSERT INTO reports.\"{table_name}\" VALUES'\n",
    "        try:\n",
    "            cursor.execute(\n",
    "                query,\n",
    "                rows\n",
    "            )\n",
    "            clickhouse_conn.commit()\n",
    "            print(f'{table_name} done')\n",
    "        except Exception as exe:\n",
    "            # перестраховка (пара таблиц не записываются способом выше)\n",
    "            try:\n",
    "                print(f'{table_name} second attempt {exe}')\n",
    "                x = 0\n",
    "                for i in range(np.ceil(len(rows)/5000)):\n",
    "                    query = f'INSERT INTO reports.\"{table_name}\" VALUES'\n",
    "                    for j in range(x,x+5000):\n",
    "                        try:\n",
    "                            query += f\"\\n{rows[j]},\"\n",
    "                        except Exception as e:\n",
    "                            break\n",
    "                    cursor.execute(query)\n",
    "                    x += 5000\n",
    "                print(f'{table_name} done')\n",
    "            except Exception as er:\n",
    "                print(f'{table_name} failed, {er}')\n",
    "\n"
   ]
  },
  {
   "cell_type": "code",
   "execution_count": 24,
   "id": "a9711820-ae39-49c2-8374-34291264cddc",
   "metadata": {},
   "outputs": [
    {
     "name": "stdout",
     "output_type": "stream",
     "text": [
      "black_list_payback done\n"
     ]
    }
   ],
   "source": [
    "base_upload(table_name, base_data_to_update)"
   ]
  },
  {
   "cell_type": "markdown",
   "id": "6e66a8da-d2bf-4b57-8e33-1fcbebad6fd6",
   "metadata": {},
   "source": [
    "# Добавляем отбивку в ТГ бот:"
   ]
  },
  {
   "cell_type": "code",
   "execution_count": 247,
   "id": "f7e2bc06-e57c-4582-90ae-92eb318719bd",
   "metadata": {},
   "outputs": [],
   "source": [
    "\n",
    "FLAG_3_TO_ZERO_ANOTHER_1_FLG = FLAG_3_TO_ZERO_ANOTHER_1_FLG.rename(columns={'block_flg': 'OLD_block_flg',\n",
    "                                                     'blocked_date': 'OLD_blocked_date',\n",
    "                                                     'block_flg_df1': 'NEW_block_flg',\n",
    "                                                     'blocked_date_df1': 'NEW_blocked_date',\n",
    "                                                     'block_desc_df1': 'block_desc:'})\n",
    "\n",
    "FLAG_2_3_BY_ZERO = FLAG_2_3_BY_ZERO.rename(columns={'block_flg': 'OLD_block_flg',\n",
    "                                                     'blocked_date': 'OLD_blocked_date',\n",
    "                                                     'block_flg_df1': 'NEW_block_flg',\n",
    "                                                     'blocked_date_df1': 'NEW_blocked_date',\n",
    "                                                     'block_desc_df1': 'block_desc:'})\n"
   ]
  },
  {
   "cell_type": "code",
   "execution_count": 248,
   "id": "472b2368-a50f-4e8a-914c-793418417a07",
   "metadata": {},
   "outputs": [
    {
     "data": {
      "text/html": [
       "<div>\n",
       "<style scoped>\n",
       "    .dataframe tbody tr th:only-of-type {\n",
       "        vertical-align: middle;\n",
       "    }\n",
       "\n",
       "    .dataframe tbody tr th {\n",
       "        vertical-align: top;\n",
       "    }\n",
       "\n",
       "    .dataframe thead th {\n",
       "        text-align: right;\n",
       "    }\n",
       "</style>\n",
       "<table border=\"1\" class=\"dataframe\">\n",
       "  <thead>\n",
       "    <tr style=\"text-align: right;\">\n",
       "      <th></th>\n",
       "      <th>block_desc:</th>\n",
       "      <th>project</th>\n",
       "      <th>type</th>\n",
       "      <th>geo</th>\n",
       "      <th>pid</th>\n",
       "      <th>sub</th>\n",
       "      <th>sub_type</th>\n",
       "      <th>OLD_block_flg</th>\n",
       "      <th>NEW_block_flg</th>\n",
       "      <th>NEW_blocked_date</th>\n",
       "    </tr>\n",
       "  </thead>\n",
       "  <tbody>\n",
       "  </tbody>\n",
       "</table>\n",
       "</div>"
      ],
      "text/plain": [
       "Empty DataFrame\n",
       "Columns: [block_desc:, project, type, geo, pid, sub, sub_type, OLD_block_flg, NEW_block_flg, NEW_blocked_date]\n",
       "Index: []"
      ]
     },
     "execution_count": 248,
     "metadata": {},
     "output_type": "execute_result"
    }
   ],
   "source": [
    "# Зануленные 3 флаги от остальных флагов равных 1 скриптом\n",
    "FLAG_3_TO_ZERO_ANOTHER_1_FLG[['block_desc:', \n",
    "                              'project', \n",
    "                              'type', \n",
    "                              'geo', \n",
    "                              'pid', \n",
    "                              'sub', \n",
    "                              'sub_type', \n",
    "                              'OLD_block_flg', \n",
    "                              'NEW_block_flg', \n",
    "                              'NEW_blocked_date']]"
   ]
  },
  {
   "cell_type": "code",
   "execution_count": 249,
   "id": "cedae965-26e5-4156-865a-ba78129b5ffe",
   "metadata": {},
   "outputs": [
    {
     "data": {
      "text/html": [
       "<div>\n",
       "<style scoped>\n",
       "    .dataframe tbody tr th:only-of-type {\n",
       "        vertical-align: middle;\n",
       "    }\n",
       "\n",
       "    .dataframe tbody tr th {\n",
       "        vertical-align: top;\n",
       "    }\n",
       "\n",
       "    .dataframe thead th {\n",
       "        text-align: right;\n",
       "    }\n",
       "</style>\n",
       "<table border=\"1\" class=\"dataframe\">\n",
       "  <thead>\n",
       "    <tr style=\"text-align: right;\">\n",
       "      <th></th>\n",
       "      <th>block_desc:</th>\n",
       "      <th>project</th>\n",
       "      <th>type</th>\n",
       "      <th>geo</th>\n",
       "      <th>pid</th>\n",
       "      <th>sub</th>\n",
       "      <th>sub_type</th>\n",
       "      <th>OLD_block_flg</th>\n",
       "      <th>NEW_block_flg</th>\n",
       "      <th>NEW_blocked_date</th>\n",
       "    </tr>\n",
       "  </thead>\n",
       "  <tbody>\n",
       "  </tbody>\n",
       "</table>\n",
       "</div>"
      ],
      "text/plain": [
       "Empty DataFrame\n",
       "Columns: [block_desc:, project, type, geo, pid, sub, sub_type, OLD_block_flg, NEW_block_flg, NEW_blocked_date]\n",
       "Index: []"
      ]
     },
     "execution_count": 249,
     "metadata": {},
     "output_type": "execute_result"
    }
   ],
   "source": [
    "#### Кейсы где дужно занулить 2й и 3й флаг, т.к. есть первый!!!!\n",
    "FLAG_2_3_BY_ZERO[['block_desc:', \n",
    "                  'project', \n",
    "                  'type', \n",
    "                  'geo', \n",
    "                  'pid', \n",
    "                  'sub', \n",
    "                  'sub_type', \n",
    "                  'OLD_block_flg', \n",
    "                  'NEW_block_flg', \n",
    "                  'NEW_blocked_date']]"
   ]
  },
  {
   "cell_type": "code",
   "execution_count": 250,
   "id": "6ceeca92-d1b2-4320-ad7b-738512604f35",
   "metadata": {},
   "outputs": [
    {
     "data": {
      "text/plain": [
       "array([], dtype=object)"
      ]
     },
     "execution_count": 250,
     "metadata": {},
     "output_type": "execute_result"
    }
   ],
   "source": [
    "FLAG_2_3_BY_ZERO['block_desc:'].unique()"
   ]
  },
  {
   "cell_type": "code",
   "execution_count": 251,
   "id": "bdf26c18-26a8-47ba-8bb9-ce2b454b5901",
   "metadata": {},
   "outputs": [],
   "source": [
    "message = f\"🔊<b>black_list_payback:</b>\\n\\n👨‍💻\\nЗануленные 3 флаги от первых флагов: {FLAG_3_TO_ZERO_ANOTHER_1_FLG.shape[0]};\\nПрочие кейсы где был занулен 2й и 3й флаг, т.к. есть первый: {FLAG_2_3_BY_ZERO.shape[0]}\\nКоличественное значение строк скама: {pids_list_data.shape[0]}\\n\\n<b><u>Данные по всем флагам обновлены!</u></b> ✅\""
   ]
  },
  {
   "cell_type": "code",
   "execution_count": 252,
   "id": "86912809-690f-478d-933d-8146557b914f",
   "metadata": {},
   "outputs": [],
   "source": [
    "def bot_channel_alert(message):\n",
    "    channel_id = -1009284606397 # TG channel\n",
    "    bot_token = \"7002340744:AAGSceUHIsnoV0JfJCsQ14\" \n",
    "    bot = telebot.TeleBot(bot_token)\n",
    "    bot.send_message(channel_id, message, parse_mode=\"HTML\")"
   ]
  },
  {
   "cell_type": "code",
   "execution_count": 253,
   "id": "ba115a5d-45ed-4afd-a5a7-8ddd6dbd8463",
   "metadata": {},
   "outputs": [],
   "source": [
    "bot_channel_alert(message)"
   ]
  },
  {
   "cell_type": "markdown",
   "id": "ea34c7ae-ab33-4d02-8976-fd239841d3aa",
   "metadata": {},
   "source": [
    "# THE END"
   ]
  }
 ],
 "metadata": {
  "kernelspec": {
   "display_name": "Python 3 (ipykernel)",
   "language": "python",
   "name": "python3"
  },
  "language_info": {
   "codemirror_mode": {
    "name": "ipython",
    "version": 3
   },
   "file_extension": ".py",
   "mimetype": "text/x-python",
   "name": "python",
   "nbconvert_exporter": "python",
   "pygments_lexer": "ipython3",
   "version": "3.12.3"
  }
 },
 "nbformat": 4,
 "nbformat_minor": 5
}
